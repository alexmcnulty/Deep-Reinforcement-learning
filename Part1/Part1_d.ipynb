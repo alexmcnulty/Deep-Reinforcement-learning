{
 "cells": [
  {
   "cell_type": "markdown",
   "metadata": {},
   "source": [
    "# Part (d)\n",
    "For this part a 3 layer convolutional layer is implemented.(2 convolutional layers followed by max pooling) + 1 non-linear layer (256units), followed by softmax."
   ]
  },
  {
   "cell_type": "code",
   "execution_count": 1,
   "metadata": {
    "collapsed": true
   },
   "outputs": [],
   "source": [
    "%matplotlib inline\n",
    "import matplotlib.pyplot as plt\n",
    "import tensorflow as tf\n",
    "import numpy as np\n",
    "from sklearn.metrics import confusion_matrix\n",
    "import time\n",
    "from datetime import timedelta\n",
    "import math\n",
    "import os"
   ]
  },
  {
   "cell_type": "code",
   "execution_count": 2,
   "metadata": {
    "collapsed": false
   },
   "outputs": [
    {
     "name": "stdout",
     "output_type": "stream",
     "text": [
      "Extracting data/MNIST/train-images-idx3-ubyte.gz\n",
      "Extracting data/MNIST/train-labels-idx1-ubyte.gz\n",
      "Extracting data/MNIST/t10k-images-idx3-ubyte.gz\n",
      "Extracting data/MNIST/t10k-labels-idx1-ubyte.gz\n"
     ]
    }
   ],
   "source": [
    "# Need to load the MNist data to work with\n",
    "from tensorflow.examples.tutorials.mnist import input_data\n",
    "data = input_data.read_data_sets(\"data/MNIST/\", one_hot=True)\n",
    "# one hot true gives the y labels as vectors with 1's which correspond to the number it is"
   ]
  },
  {
   "cell_type": "markdown",
   "metadata": {},
   "source": [
    "### Data dimenions"
   ]
  },
  {
   "cell_type": "code",
   "execution_count": 3,
   "metadata": {
    "collapsed": true
   },
   "outputs": [],
   "source": [
    "im_size = 28\n",
    "im_flat = im_size**2\n",
    "\n",
    "# Also have a dimsension of 10 for the one hot vectors.\n",
    "num_digits = 10\n",
    "units = 256"
   ]
  },
  {
   "cell_type": "markdown",
   "metadata": {},
   "source": [
    "### Variables"
   ]
  },
  {
   "cell_type": "code",
   "execution_count": 4,
   "metadata": {
    "collapsed": true
   },
   "outputs": [],
   "source": [
    "# Need to define Variables that will be optimized\n",
    "\n",
    "# The Dimensionality of the weight vector to be able to multiply with \n",
    "# x and won't havr\n",
    "def W(shape):\n",
    "    return tf.Variable(tf.truncated_normal(shape, stddev=0.05))\n",
    "    #return tf.Variable(tf.zeros(shape))\n",
    "    \n",
    "    \n",
    "def b(length):\n",
    "    return tf.Variable(tf.constant(0.05, shape=[length]))\n",
    "    #return tf.Variable(tf.zeros(length))"
   ]
  },
  {
   "cell_type": "markdown",
   "metadata": {},
   "source": [
    "## Convolutional layer\n",
    "A function is used to take the input layer, the number of channels, the size of the filters and the number of filters used. Max pooling is also used. First need to set up the shape and number of filters to be used."
   ]
  },
  {
   "cell_type": "code",
   "execution_count": 5,
   "metadata": {
    "collapsed": true
   },
   "outputs": [],
   "source": [
    "# Need to define the filter size and the number of filters\n",
    "# want (3,3,16): 16 3x3 filters\n",
    "filter_size1 = 3\n",
    "num_filters1 = 16\n",
    "\n",
    "#second convoultional layer\n",
    "filter_size2 = 3\n",
    "num_filters2= 16\n",
    "\n"
   ]
  },
  {
   "cell_type": "code",
   "execution_count": 6,
   "metadata": {
    "collapsed": true
   },
   "outputs": [],
   "source": [
    "def conv_layer(input, num_channels, filter_size,\n",
    "              num_filters, pooling =True):\n",
    "    # need to get weights and biases in the correct size as a tesnor\n",
    "    # which is a 4d tesnor.\n",
    "    shape=[filter_size,filter_size,num_channels, num_filters]\n",
    "    \n",
    "    # get the variables\n",
    "    weights = W(shape)\n",
    "    biases = b(num_filters)\n",
    "    \n",
    "    # now to create the convolution layer\n",
    "    convLayer = tf.nn.conv2d(input, filter = weights, strides =[1,1,1,1],\n",
    "                            padding = 'SAME')\n",
    "    \n",
    "    # Add the bias to each filter\n",
    "    convLayer += biases\n",
    "    \n",
    "    if pooling:\n",
    "        layer = tf.nn.max_pool(convLayer, ksize = [1,2,2,1],\n",
    "                              strides = [1,2,2,1],\n",
    "                              padding = 'SAME')\n",
    "        \n",
    "    \n",
    "   \n",
    "    return layer, weights"
   ]
  },
  {
   "cell_type": "markdown",
   "metadata": {},
   "source": [
    "# Flatten layer\n",
    "Need to get the output of the convolution layer back into a 2d tensor to read in for the fully connected layer"
   ]
  },
  {
   "cell_type": "code",
   "execution_count": 7,
   "metadata": {
    "collapsed": true
   },
   "outputs": [],
   "source": [
    "def flatten(layer):\n",
    "    \n",
    "    shape = layer.get_shape()\n",
    "    # the number of features= im_height* im_width* num_channels\n",
    "    features = shape[1:4].num_elements()\n",
    "    flat_layer = tf.reshape(layer,[-1,features])\n",
    "    \n",
    "    # -1 is used lets us leave it arbitrary \n",
    "    \n",
    "    return flat_layer, features\n",
    "    "
   ]
  },
  {
   "cell_type": "markdown",
   "metadata": {},
   "source": [
    "## Fully connected layer.\n",
    "This function takes an input, initialy $\\bf{X}$, then the output of then non linear layer. The number of inputs is the flatend pixels, and then 256 units for the second layer. Since we know how many units we want, we can specify that too, initially 128 units, then 10 classes. Since we have a ReLU in the hidden layer and only a linear layer in the second, the ReLU argument allows us to implement an activation if we like. \n"
   ]
  },
  {
   "cell_type": "code",
   "execution_count": 8,
   "metadata": {
    "collapsed": true
   },
   "outputs": [],
   "source": [
    "def fc_layer(input, num_inputs, num_outputs,use_relu=True):       \n",
    "    # The previous layer, Num. inputs from prev. layer, Num. outputs.\n",
    "    # Use ReLU?\n",
    "\n",
    "    # Create new weights and biases.\n",
    "    weights = W(shape=[num_inputs, num_outputs])\n",
    "    biases = b(length=num_outputs)\n",
    "\n",
    "    # Do the linear layer by simply doing matrix multiplication\n",
    "    # and adding the bias terms.\n",
    "    layer = tf.matmul(input, weights) + biases\n",
    "\n",
    "    # Use ReLU?\n",
    "    if use_relu:\n",
    "        layer = tf.nn.relu(layer)\n",
    "\n",
    "    return layer"
   ]
  },
  {
   "cell_type": "markdown",
   "metadata": {},
   "source": [
    "### Placeholders for data"
   ]
  },
  {
   "cell_type": "code",
   "execution_count": 9,
   "metadata": {
    "collapsed": true
   },
   "outputs": [],
   "source": [
    "# need placeholders for the inputs to train, x, and the true labels\n",
    "x = tf.placeholder( tf.float32, shape =[None, im_flat])\n",
    "# None is used as it the number of images to be used is not yet defined\n",
    "# possible to pass throught any size data, with 784 features(pixels)\n",
    "\n",
    "# Create a placeholder for the y labels\n",
    "y_label = tf.placeholder( tf.float32, shape = [None, num_digits])\n",
    "\n",
    "# Since y_labels are one hot vectors, get the actual digit label.\n",
    "y_digit = tf.argmax(y_label, dimension = 1)\n",
    "# Need to reshape the input x into a 4d tensor to use in the \n",
    "# convolutional layer\n",
    "\n",
    "x_conv_shape = tf.reshape(x, [-1, im_size, im_size, 1])"
   ]
  },
  {
   "cell_type": "markdown",
   "metadata": {},
   "source": [
    "### First Convolutional layer"
   ]
  },
  {
   "cell_type": "code",
   "execution_count": 10,
   "metadata": {
    "collapsed": true
   },
   "outputs": [],
   "source": [
    "layer_conv1, weights_conv1 = \\\n",
    "    conv_layer(input=x_conv_shape,\n",
    "                   num_channels=1,\n",
    "                   filter_size=filter_size1,\n",
    "                   num_filters=num_filters1,\n",
    "                pooling=True)"
   ]
  },
  {
   "cell_type": "code",
   "execution_count": 11,
   "metadata": {
    "collapsed": false
   },
   "outputs": [
    {
     "data": {
      "text/plain": [
       "<tf.Tensor 'Relu:0' shape=(?, 14, 14, 16) dtype=float32>"
      ]
     },
     "execution_count": 11,
     "metadata": {},
     "output_type": "execute_result"
    }
   ],
   "source": [
    "layer_conv1"
   ]
  },
  {
   "cell_type": "markdown",
   "metadata": {},
   "source": [
    "### Second Convolutional layer"
   ]
  },
  {
   "cell_type": "code",
   "execution_count": 12,
   "metadata": {
    "collapsed": true
   },
   "outputs": [],
   "source": [
    "layer_conv2, weights_conv2 = \\\n",
    "    conv_layer(input=layer_conv1,\n",
    "                   num_channels=num_filters1,\n",
    "                   filter_size=filter_size2,\n",
    "                   num_filters=num_filters2,\n",
    "                    pooling=True)"
   ]
  },
  {
   "cell_type": "code",
   "execution_count": 13,
   "metadata": {
    "collapsed": false
   },
   "outputs": [
    {
     "data": {
      "text/plain": [
       "<tf.Tensor 'Relu_1:0' shape=(?, 7, 7, 16) dtype=float32>"
      ]
     },
     "execution_count": 13,
     "metadata": {},
     "output_type": "execute_result"
    }
   ],
   "source": [
    "layer_conv2"
   ]
  },
  {
   "cell_type": "markdown",
   "metadata": {},
   "source": [
    "### Flaten for the fully connected layer"
   ]
  },
  {
   "cell_type": "code",
   "execution_count": 14,
   "metadata": {
    "collapsed": false
   },
   "outputs": [
    {
     "name": "stdout",
     "output_type": "stream",
     "text": [
      "784\n",
      "Tensor(\"Reshape_1:0\", shape=(?, 784), dtype=float32)\n"
     ]
    }
   ],
   "source": [
    "flat_layer, features = flatten(layer_conv2)\n",
    "\n",
    "# Check the size to see the number of features used\n",
    "print(features)\n",
    "print(flat_layer)"
   ]
  },
  {
   "cell_type": "markdown",
   "metadata": {},
   "source": [
    "### Non Linear Layer"
   ]
  },
  {
   "cell_type": "code",
   "execution_count": 15,
   "metadata": {
    "collapsed": true
   },
   "outputs": [],
   "source": [
    "non_lin = fc_layer(flat_layer, features,\n",
    "                  256, use_relu=True)"
   ]
  },
  {
   "cell_type": "code",
   "execution_count": 16,
   "metadata": {
    "collapsed": false
   },
   "outputs": [
    {
     "name": "stdout",
     "output_type": "stream",
     "text": [
      "Tensor(\"Relu_2:0\", shape=(?, 256), dtype=float32)\n"
     ]
    }
   ],
   "source": [
    "print(non_lin)"
   ]
  },
  {
   "cell_type": "markdown",
   "metadata": {},
   "source": [
    " ### Linear Layer"
   ]
  },
  {
   "cell_type": "code",
   "execution_count": 17,
   "metadata": {
    "collapsed": true
   },
   "outputs": [],
   "source": [
    "lin_layer= fc_layer(non_lin,256, num_digits\n",
    "                    , use_relu=False)"
   ]
  },
  {
   "cell_type": "code",
   "execution_count": 18,
   "metadata": {
    "collapsed": false
   },
   "outputs": [
    {
     "name": "stdout",
     "output_type": "stream",
     "text": [
      "Tensor(\"add_3:0\", shape=(?, 10), dtype=float32)\n"
     ]
    }
   ],
   "source": [
    "print(lin_layer)"
   ]
  },
  {
   "cell_type": "markdown",
   "metadata": {},
   "source": [
    "### Softmax"
   ]
  },
  {
   "cell_type": "code",
   "execution_count": 19,
   "metadata": {
    "collapsed": false
   },
   "outputs": [],
   "source": [
    "y_pred = tf.nn.softmax(lin_layer)"
   ]
  },
  {
   "cell_type": "code",
   "execution_count": 20,
   "metadata": {
    "collapsed": true
   },
   "outputs": [],
   "source": [
    "y_pred_digit = tf.argmax(y_pred, dimension = 1)"
   ]
  },
  {
   "cell_type": "markdown",
   "metadata": {},
   "source": [
    "### Cross Entropy Loss."
   ]
  },
  {
   "cell_type": "code",
   "execution_count": 21,
   "metadata": {
    "collapsed": true
   },
   "outputs": [],
   "source": [
    "Xent = tf.nn.softmax_cross_entropy_with_logits(lin_layer, y_label)"
   ]
  },
  {
   "cell_type": "code",
   "execution_count": 22,
   "metadata": {
    "collapsed": true
   },
   "outputs": [],
   "source": [
    "cost = tf.reduce_mean(Xent)"
   ]
  },
  {
   "cell_type": "markdown",
   "metadata": {},
   "source": [
    "### Optimizer object\n",
    "Use gradient descent to optimize the cost. The stochastic part comes from using randfom batches."
   ]
  },
  {
   "cell_type": "code",
   "execution_count": 23,
   "metadata": {
    "collapsed": true
   },
   "outputs": [],
   "source": [
    "# The object is created to pass the cost function through\n",
    "# The stocastic process comes from using small batch samples\n",
    "optimizer = tf.train.GradientDescentOptimizer(learning_rate = 0.275).minimize(cost)"
   ]
  },
  {
   "cell_type": "code",
   "execution_count": 24,
   "metadata": {
    "collapsed": true
   },
   "outputs": [],
   "source": [
    "correct_prediction = tf.equal(y_pred_digit, y_digit)"
   ]
  },
  {
   "cell_type": "code",
   "execution_count": 25,
   "metadata": {
    "collapsed": true
   },
   "outputs": [],
   "source": [
    "accuracy = tf.reduce_mean(tf.cast(correct_prediction, tf.float32))"
   ]
  },
  {
   "cell_type": "markdown",
   "metadata": {},
   "source": [
    "### Save Model"
   ]
  },
  {
   "cell_type": "code",
   "execution_count": 26,
   "metadata": {
    "collapsed": false
   },
   "outputs": [],
   "source": [
    "# Need to save the model, weights and biases varibles\n",
    "saver = tf.train.Saver()\n",
    "\n",
    "# Suggested Directory to use\n",
    "save_MDir = 'models/'\n",
    "\n",
    "\n",
    "#create the directory if it does not exist already\n",
    "if not os.path.exists(save_MDir):\n",
    "    os.makedirs(save_MDir)\n",
    "\n",
    "save_model = os.path.join(save_MDir,'best_accuracyd')    "
   ]
  },
  {
   "cell_type": "markdown",
   "metadata": {},
   "source": [
    "## Begin Session"
   ]
  },
  {
   "cell_type": "code",
   "execution_count": 27,
   "metadata": {
    "collapsed": true
   },
   "outputs": [],
   "source": [
    "sess = tf.Session()"
   ]
  },
  {
   "cell_type": "code",
   "execution_count": 28,
   "metadata": {
    "collapsed": true
   },
   "outputs": [],
   "source": [
    "sess.run(tf.global_variables_initializer())"
   ]
  },
  {
   "cell_type": "code",
   "execution_count": 29,
   "metadata": {
    "collapsed": true
   },
   "outputs": [],
   "source": [
    "train_batch_size = 100\n",
    "batch_size = 100"
   ]
  },
  {
   "cell_type": "code",
   "execution_count": 31,
   "metadata": {
    "collapsed": true
   },
   "outputs": [],
   "source": [
    "# accuracy using all the training set\n",
    "def print_acc():\n",
    "    train_dict = {x: data.train.images, y_label: data.train.labels}\n",
    "    test_dict = {x: data.test.images, y_label: data.test.labels}\n",
    "    acc_train = sess.run(accuracy,feed_dict = train_dict)\n",
    "    acc_test  = sess.run(accuracy,feed_dict = test_dict)\n",
    "    print(\"Using all the training set rater than just a batch:\\n\")\n",
    "    print(\"Training Accuracy: {0:.1%} \\n\".format(acc_train))\n",
    "    print(\"Test Accuracy: {0:.1%} \\n\".format(acc_test))"
   ]
  },
  {
   "cell_type": "code",
   "execution_count": 32,
   "metadata": {
    "collapsed": true
   },
   "outputs": [],
   "source": [
    "# accuracy using just the training batch size\n",
    "def print_acc_batch(x_batch,y_batch):\n",
    "    # Get the batch images, x, and labels,y.\n",
    "    #x_batch, y_batch = data.train.next_batch(batch_size)\n",
    "    #x_batch = data.train.images[0:100,:]\n",
    "    #y_batch = data.train.labels[0:100,:]\n",
    "    # need a dictionary which feeds the batches into the \n",
    "    # placeholder values\n",
    "    train_dict = {x: x_batch,y_label: y_batch}\n",
    "    test_dict = {x: data.test.images, y_label: data.test.labels}\n",
    "    acc_train = sess.run(accuracy,feed_dict = train_dict)\n",
    "    acc_test  = sess.run(accuracy,feed_dict = test_dict)\n",
    "    print(\"Using the last batch rather than all the training data:\\n\")\n",
    "    print(\"Training Accuracy: {0:.1%} \\n\".format(acc_train))\n",
    "    print(\"Test Accuracy: {0:.1%} \\n\".format(acc_test))"
   ]
  },
  {
   "cell_type": "markdown",
   "metadata": {},
   "source": [
    "### Optimizer function"
   ]
  },
  {
   "cell_type": "code",
   "execution_count": 33,
   "metadata": {
    "collapsed": false
   },
   "outputs": [
    {
     "name": "stderr",
     "output_type": "stream",
     "text": [
      "<ipython-input-33-dfa6c6cbff81>:8: SyntaxWarning: name 'total_iterations' is assigned to before global declaration\n",
      "  global total_iterations\n"
     ]
    }
   ],
   "source": [
    "# Counter for total number of iterations performed so far.\n",
    "total_iterations = 0\n",
    "feed_dict_test = {x:data.test.images, y_label: data.test.labels}\n",
    "\n",
    "def optimize_train(num_iterations,print_num):\n",
    "    total_iterations = 0\n",
    "    # Ensure we update the global variable rather than a local copy.\n",
    "    global total_iterations\n",
    "    \n",
    "    freq = num_iterations/print_num\n",
    "    train_acc =[]\n",
    "    train_loss = []\n",
    "    test_acc = []\n",
    "    test_loss =[]\n",
    "    length = np.linspace(1,num_iterations,print_num)\n",
    "    start_time = time.time()\n",
    "    \n",
    "    # Start-time used for printing time-usage below.\n",
    "    start_time = time.time()\n",
    "\n",
    "    for i in range(total_iterations,\n",
    "                   total_iterations + num_iterations):\n",
    "\n",
    "        # Get a batch of training examples.\n",
    "        # x_batch now holds a batch of images and\n",
    "        # y_true_batch are the true labels for those images.\n",
    "        x_batch, y_true_batch = data.train.next_batch(train_batch_size)\n",
    "\n",
    "        # Put the batch into a dict with the proper names\n",
    "        # for placeholder variables in the TensorFlow graph.\n",
    "        feed_dict_train = {x: x_batch,\n",
    "                           y_label: y_true_batch}\n",
    "\n",
    "        # Run the optimizer using this batch of training data.\n",
    "        # TensorFlow assigns the variables in feed_dict_train\n",
    "        # to the placeholder variables and then runs the optimizer.\n",
    "        sess.run(optimizer, feed_dict=feed_dict_train)\n",
    "\n",
    "        # Print status every 100 iterations.\n",
    "        if i % freq == 0:\n",
    "            \n",
    "            # Calculate the accuracy on the training-set.\n",
    "            acc = sess.run(accuracy, feed_dict=feed_dict_train)\n",
    "            \n",
    "            loss_train = sess.run(cost,feed_dict=feed_dict_train)\n",
    "            train_acc.append(acc)\n",
    "            train_loss.append(loss_train)\n",
    "            # Message for printing.\n",
    "            msg = \"Optimization Iteration: {0:>6}, Training Accuracy: {1:>6.1%}\"\n",
    "\n",
    "            # Print it.\n",
    "            print(msg.format(i + 1, acc))\n",
    "            accuracy_test = sess.run(accuracy,feed_dict=feed_dict_test)\n",
    "            loss_test = sess.run(cost,feed_dict=feed_dict_test)\n",
    "            test_acc.append(accuracy_test)\n",
    "            test_loss.append(loss_test)\n",
    "            print(\"\\t\\t \\t\\t Test Accuracy:{1:6.1%}\\n\".format(1+i, accuracy_test))\n",
    "\n",
    "    # Update the total number of iterations performed.\n",
    "    total_iterations += num_iterations\n",
    "\n",
    "    # Ending time.\n",
    "    end_time = time.time()\n",
    "\n",
    "    # Difference between start and end-times.\n",
    "    time_dif = end_time - start_time\n",
    "\n",
    "    # Print the time-usage.\n",
    "    print(\"Time usage: \" + str(timedelta(seconds=int(round(time_dif)))))\n",
    "    return(train_acc,test_acc,length,train_loss,test_loss,x_batch,y_true_batch)        \n"
   ]
  },
  {
   "cell_type": "markdown",
   "metadata": {},
   "source": [
    "### 100 iterations"
   ]
  },
  {
   "cell_type": "code",
   "execution_count": 35,
   "metadata": {
    "collapsed": false
   },
   "outputs": [
    {
     "name": "stdout",
     "output_type": "stream",
     "text": [
      "Optimization Iteration:      1, Training Accuracy:  27.0%\n",
      "\t\t \t\t Test Accuracy: 18.5%\n",
      "\n",
      "Optimization Iteration:      6, Training Accuracy:  28.0%\n",
      "\t\t \t\t Test Accuracy: 20.2%\n",
      "\n",
      "Optimization Iteration:     11, Training Accuracy:  18.0%\n",
      "\t\t \t\t Test Accuracy: 19.1%\n",
      "\n",
      "Optimization Iteration:     16, Training Accuracy:  54.0%\n",
      "\t\t \t\t Test Accuracy: 39.3%\n",
      "\n",
      "Optimization Iteration:     21, Training Accuracy:  62.0%\n",
      "\t\t \t\t Test Accuracy: 63.9%\n",
      "\n",
      "Optimization Iteration:     26, Training Accuracy:  57.0%\n",
      "\t\t \t\t Test Accuracy: 51.3%\n",
      "\n",
      "Optimization Iteration:     31, Training Accuracy:  56.0%\n",
      "\t\t \t\t Test Accuracy: 49.9%\n",
      "\n",
      "Optimization Iteration:     36, Training Accuracy:  63.0%\n",
      "\t\t \t\t Test Accuracy: 52.4%\n",
      "\n",
      "Optimization Iteration:     41, Training Accuracy:  76.0%\n",
      "\t\t \t\t Test Accuracy: 68.1%\n",
      "\n",
      "Optimization Iteration:     46, Training Accuracy:  67.0%\n",
      "\t\t \t\t Test Accuracy: 62.5%\n",
      "\n",
      "Optimization Iteration:     51, Training Accuracy:  84.0%\n",
      "\t\t \t\t Test Accuracy: 76.0%\n",
      "\n",
      "Optimization Iteration:     56, Training Accuracy:  86.0%\n",
      "\t\t \t\t Test Accuracy: 78.1%\n",
      "\n",
      "Optimization Iteration:     61, Training Accuracy:  89.0%\n",
      "\t\t \t\t Test Accuracy: 83.0%\n",
      "\n",
      "Optimization Iteration:     66, Training Accuracy:  83.0%\n",
      "\t\t \t\t Test Accuracy: 72.0%\n",
      "\n",
      "Optimization Iteration:     71, Training Accuracy:  81.0%\n",
      "\t\t \t\t Test Accuracy: 75.5%\n",
      "\n",
      "Optimization Iteration:     76, Training Accuracy:  86.0%\n",
      "\t\t \t\t Test Accuracy: 77.8%\n",
      "\n",
      "Optimization Iteration:     81, Training Accuracy:  87.0%\n",
      "\t\t \t\t Test Accuracy: 87.1%\n",
      "\n",
      "Optimization Iteration:     86, Training Accuracy:  96.0%\n",
      "\t\t \t\t Test Accuracy: 90.5%\n",
      "\n",
      "Optimization Iteration:     91, Training Accuracy:  92.0%\n",
      "\t\t \t\t Test Accuracy: 90.0%\n",
      "\n",
      "Optimization Iteration:     96, Training Accuracy:  94.0%\n",
      "\t\t \t\t Test Accuracy: 88.7%\n",
      "\n",
      "Time usage: 0:01:44\n",
      "Using all the training set rater than just a batch:\n",
      "\n",
      "Training Accuracy: 90.9% \n",
      "\n",
      "Test Accuracy: 91.8% \n",
      "\n"
     ]
    }
   ],
   "source": [
    "[train_acc10,test_acc10,length10,train_loss10,test_loss10,x_batch,y_batch] =optimize_train(100,print_num = 20)\n",
    "print_acc()"
   ]
  },
  {
   "cell_type": "code",
   "execution_count": 36,
   "metadata": {
    "collapsed": false
   },
   "outputs": [
    {
     "name": "stdout",
     "output_type": "stream",
     "text": [
      "Using the last batch rather than all the training data:\n",
      "\n",
      "Training Accuracy: 97.0% \n",
      "\n",
      "Test Accuracy: 91.8% \n",
      "\n"
     ]
    }
   ],
   "source": [
    "print_acc_batch(x_batch,y_batch)"
   ]
  },
  {
   "cell_type": "markdown",
   "metadata": {},
   "source": [
    "### Plot accuracy"
   ]
  },
  {
   "cell_type": "code",
   "execution_count": 49,
   "metadata": {
    "collapsed": false
   },
   "outputs": [
    {
     "data": {
      "image/png": "[encoded data removed]",
      "text/plain": [
       "<matplotlib.figure.Figure at 0x1d20052af98>"
      ]
     },
     "metadata": {},
     "output_type": "display_data"
    }
   ],
   "source": [
    "plt.title('Training/ Test Accuracy after 100 Iterations')\n",
    "plt.xlabel('Iterations')\n",
    "plt.ylabel('Accuracy')\n",
    "\n",
    "plt.grid(True)\n",
    "\n",
    "plt.plot(length10,train_acc10,color=\"red\", label=\"Training Accuracy\")\n",
    "plt.plot(length10,test_acc10,color=\"blue\", label=\"Test Accuracy\")\n",
    "\n",
    "plt.legend( loc='lower right')\n",
    "plt.savefig(\"Accuracy_10d.png\", bbox_inches='tight')\n",
    "plt.show()"
   ]
  },
  {
   "cell_type": "markdown",
   "metadata": {},
   "source": [
    "### Plot Loss"
   ]
  },
  {
   "cell_type": "code",
   "execution_count": 50,
   "metadata": {
    "collapsed": false
   },
   "outputs": [
    {
     "data": {
      "image/png": "[encoded data removed]",
      "text/plain": [
       "<matplotlib.figure.Figure at 0x1d2004bbcf8>"
      ]
     },
     "metadata": {},
     "output_type": "display_data"
    }
   ],
   "source": [
    "plt.title('Training/ Test Loss after 100 Iterations')\n",
    "plt.xlabel('Iterations')\n",
    "plt.ylabel('Loss')\n",
    "\n",
    "plt.grid(True)\n",
    "plt.plot(length10,train_loss10,color=\"red\", label=\"Training Loss\")\n",
    "plt.plot(length10,test_loss10,color=\"blue\", label=\"Test Loss\")\n",
    "\n",
    "plt.legend( loc='upper right')\n",
    "plt.savefig(\"Loss_10d.png\", bbox_inches='tight')\n",
    "plt.show()"
   ]
  },
  {
   "cell_type": "code",
   "execution_count": 39,
   "metadata": {
    "collapsed": true
   },
   "outputs": [],
   "source": [
    "sess.run(tf.global_variables_initializer())"
   ]
  },
  {
   "cell_type": "markdown",
   "metadata": {},
   "source": [
    "### 10,000 iterations"
   ]
  },
  {
   "cell_type": "code",
   "execution_count": 42,
   "metadata": {
    "collapsed": false
   },
   "outputs": [
    {
     "name": "stdout",
     "output_type": "stream",
     "text": [
      "Optimization Iteration:      1, Training Accuracy:  13.0%\n",
      "\t\t \t\t Test Accuracy: 11.4%\n",
      "\n",
      "Optimization Iteration:    201, Training Accuracy:  99.0%\n",
      "\t\t \t\t Test Accuracy: 94.8%\n",
      "\n",
      "Optimization Iteration:    401, Training Accuracy: 100.0%\n",
      "\t\t \t\t Test Accuracy: 96.4%\n",
      "\n",
      "Optimization Iteration:    601, Training Accuracy:  99.0%\n",
      "\t\t \t\t Test Accuracy: 97.0%\n",
      "\n",
      "Optimization Iteration:    801, Training Accuracy: 100.0%\n",
      "\t\t \t\t Test Accuracy: 98.0%\n",
      "\n",
      "Optimization Iteration:   1001, Training Accuracy:  99.0%\n",
      "\t\t \t\t Test Accuracy: 98.2%\n",
      "\n",
      "Optimization Iteration:   1201, Training Accuracy: 100.0%\n",
      "\t\t \t\t Test Accuracy: 98.3%\n",
      "\n",
      "Optimization Iteration:   1401, Training Accuracy: 100.0%\n",
      "\t\t \t\t Test Accuracy: 98.4%\n",
      "\n",
      "Optimization Iteration:   1601, Training Accuracy: 100.0%\n",
      "\t\t \t\t Test Accuracy: 98.5%\n",
      "\n",
      "Optimization Iteration:   1801, Training Accuracy: 100.0%\n",
      "\t\t \t\t Test Accuracy: 98.7%\n",
      "\n",
      "Optimization Iteration:   2001, Training Accuracy: 100.0%\n",
      "\t\t \t\t Test Accuracy: 98.7%\n",
      "\n",
      "Optimization Iteration:   2201, Training Accuracy: 100.0%\n",
      "\t\t \t\t Test Accuracy: 98.7%\n",
      "\n",
      "Optimization Iteration:   2401, Training Accuracy: 100.0%\n",
      "\t\t \t\t Test Accuracy: 98.5%\n",
      "\n",
      "Optimization Iteration:   2601, Training Accuracy: 100.0%\n",
      "\t\t \t\t Test Accuracy: 98.6%\n",
      "\n",
      "Optimization Iteration:   2801, Training Accuracy: 100.0%\n",
      "\t\t \t\t Test Accuracy: 98.7%\n",
      "\n",
      "Optimization Iteration:   3001, Training Accuracy: 100.0%\n",
      "\t\t \t\t Test Accuracy: 98.9%\n",
      "\n",
      "Optimization Iteration:   3201, Training Accuracy: 100.0%\n",
      "\t\t \t\t Test Accuracy: 98.8%\n",
      "\n",
      "Optimization Iteration:   3401, Training Accuracy: 100.0%\n",
      "\t\t \t\t Test Accuracy: 98.8%\n",
      "\n",
      "Optimization Iteration:   3601, Training Accuracy: 100.0%\n",
      "\t\t \t\t Test Accuracy: 99.0%\n",
      "\n",
      "Optimization Iteration:   3801, Training Accuracy: 100.0%\n",
      "\t\t \t\t Test Accuracy: 98.8%\n",
      "\n",
      "Optimization Iteration:   4001, Training Accuracy: 100.0%\n",
      "\t\t \t\t Test Accuracy: 98.9%\n",
      "\n",
      "Optimization Iteration:   4201, Training Accuracy: 100.0%\n",
      "\t\t \t\t Test Accuracy: 98.8%\n",
      "\n",
      "Optimization Iteration:   4401, Training Accuracy: 100.0%\n",
      "\t\t \t\t Test Accuracy: 99.0%\n",
      "\n",
      "Optimization Iteration:   4601, Training Accuracy: 100.0%\n",
      "\t\t \t\t Test Accuracy: 98.9%\n",
      "\n",
      "Optimization Iteration:   4801, Training Accuracy: 100.0%\n",
      "\t\t \t\t Test Accuracy: 99.0%\n",
      "\n",
      "Optimization Iteration:   5001, Training Accuracy:  99.0%\n",
      "\t\t \t\t Test Accuracy: 98.7%\n",
      "\n",
      "Optimization Iteration:   5201, Training Accuracy: 100.0%\n",
      "\t\t \t\t Test Accuracy: 98.9%\n",
      "\n",
      "Optimization Iteration:   5401, Training Accuracy: 100.0%\n",
      "\t\t \t\t Test Accuracy: 98.9%\n",
      "\n",
      "Optimization Iteration:   5601, Training Accuracy: 100.0%\n",
      "\t\t \t\t Test Accuracy: 99.0%\n",
      "\n",
      "Optimization Iteration:   5801, Training Accuracy: 100.0%\n",
      "\t\t \t\t Test Accuracy: 99.0%\n",
      "\n",
      "Optimization Iteration:   6001, Training Accuracy:  99.0%\n",
      "\t\t \t\t Test Accuracy: 98.8%\n",
      "\n",
      "Optimization Iteration:   6201, Training Accuracy: 100.0%\n",
      "\t\t \t\t Test Accuracy: 98.9%\n",
      "\n",
      "Optimization Iteration:   6401, Training Accuracy: 100.0%\n",
      "\t\t \t\t Test Accuracy: 98.9%\n",
      "\n",
      "Optimization Iteration:   6601, Training Accuracy: 100.0%\n",
      "\t\t \t\t Test Accuracy: 99.1%\n",
      "\n",
      "Optimization Iteration:   6801, Training Accuracy: 100.0%\n",
      "\t\t \t\t Test Accuracy: 98.9%\n",
      "\n",
      "Optimization Iteration:   7001, Training Accuracy: 100.0%\n",
      "\t\t \t\t Test Accuracy: 99.0%\n",
      "\n",
      "Optimization Iteration:   7201, Training Accuracy: 100.0%\n",
      "\t\t \t\t Test Accuracy: 98.9%\n",
      "\n",
      "Optimization Iteration:   7401, Training Accuracy: 100.0%\n",
      "\t\t \t\t Test Accuracy: 98.9%\n",
      "\n",
      "Optimization Iteration:   7601, Training Accuracy: 100.0%\n",
      "\t\t \t\t Test Accuracy: 98.9%\n",
      "\n",
      "Optimization Iteration:   7801, Training Accuracy: 100.0%\n",
      "\t\t \t\t Test Accuracy: 98.9%\n",
      "\n",
      "Optimization Iteration:   8001, Training Accuracy: 100.0%\n",
      "\t\t \t\t Test Accuracy: 99.0%\n",
      "\n",
      "Optimization Iteration:   8201, Training Accuracy: 100.0%\n",
      "\t\t \t\t Test Accuracy: 99.1%\n",
      "\n",
      "Optimization Iteration:   8401, Training Accuracy: 100.0%\n",
      "\t\t \t\t Test Accuracy: 99.1%\n",
      "\n",
      "Optimization Iteration:   8601, Training Accuracy: 100.0%\n",
      "\t\t \t\t Test Accuracy: 99.1%\n",
      "\n",
      "Optimization Iteration:   8801, Training Accuracy: 100.0%\n",
      "\t\t \t\t Test Accuracy: 99.1%\n",
      "\n",
      "Optimization Iteration:   9001, Training Accuracy: 100.0%\n",
      "\t\t \t\t Test Accuracy: 98.9%\n",
      "\n",
      "Optimization Iteration:   9201, Training Accuracy: 100.0%\n",
      "\t\t \t\t Test Accuracy: 98.8%\n",
      "\n",
      "Optimization Iteration:   9401, Training Accuracy: 100.0%\n",
      "\t\t \t\t Test Accuracy: 98.9%\n",
      "\n",
      "Optimization Iteration:   9601, Training Accuracy: 100.0%\n",
      "\t\t \t\t Test Accuracy: 99.0%\n",
      "\n",
      "Optimization Iteration:   9801, Training Accuracy: 100.0%\n",
      "\t\t \t\t Test Accuracy: 99.0%\n",
      "\n",
      "Time usage: 0:13:08\n",
      "Using all the training set rater than just a batch:\n",
      "\n",
      "Training Accuracy: 99.9% \n",
      "\n",
      "Test Accuracy: 98.9% \n",
      "\n"
     ]
    }
   ],
   "source": [
    "[train_acc,test_acc,length,train_loss,test_loss,x_batch2,y_batch2] = optimize_train(10000,print_num = 50)\n",
    "print_acc()"
   ]
  },
  {
   "cell_type": "code",
   "execution_count": 43,
   "metadata": {
    "collapsed": false
   },
   "outputs": [
    {
     "data": {
      "image/png": "[encoded data removed]",
      "text/plain": [
       "<matplotlib.figure.Figure at 0x1d20035bf98>"
      ]
     },
     "metadata": {},
     "output_type": "display_data"
    }
   ],
   "source": [
    "plt.title('Training/ Test accuracy after 10000 Iterations')\n",
    "plt.xlabel('Iterations')\n",
    "plt.ylabel('Accuracy')\n",
    "\n",
    "plt.grid(True)\n",
    "plt.plot(length,train_acc)\n",
    "plt.plot(length,test_acc)\n",
    "plt.plot(length,train_acc,color=\"red\", label=\"Training Accuracy\")\n",
    "fig = plt.plot(length,test_acc,color=\"blue\", label=\"Test Accuracy\")\n",
    "\n",
    "\n",
    "plt.legend( loc='lower right')\n",
    "plt.savefig(\"Accuracy_10000d.png\", bbox_inches='tight')\n",
    "plt.show()\n"
   ]
  },
  {
   "cell_type": "code",
   "execution_count": 44,
   "metadata": {
    "collapsed": false
   },
   "outputs": [
    {
     "data": {
      "image/png": "[encoded data removed]",
      "text/plain": [
       "<matplotlib.figure.Figure at 0x1d2003dd0f0>"
      ]
     },
     "metadata": {},
     "output_type": "display_data"
    }
   ],
   "source": [
    "plt.title('Training/ Test loss after 10000 Iterations')\n",
    "plt.xlabel('Iterations')\n",
    "plt.ylabel('loss')\n",
    "\n",
    "plt.grid(True)\n",
    "plt.plot(length,train_loss)\n",
    "plt.plot(length,test_loss)\n",
    "plt.plot(length,train_loss,color=\"red\", label=\"Training loss\")\n",
    "plt.plot(length,test_loss,color=\"blue\", label=\"Test loss\")\n",
    "plt.legend( loc='upper right')\n",
    "plt.savefig(\"Loss_10000d.png\", bbox_inches='tight')\n",
    "plt.show()"
   ]
  },
  {
   "cell_type": "code",
   "execution_count": null,
   "metadata": {
    "collapsed": false
   },
   "outputs": [],
   "source": []
  },
  {
   "cell_type": "code",
   "execution_count": 45,
   "metadata": {
    "collapsed": false
   },
   "outputs": [
    {
     "name": "stdout",
     "output_type": "stream",
     "text": [
      "[[ 977    1    0    0    0    0    1    1    0    0]\n",
      " [   0 1129    1    0    0    1    1    1    2    0]\n",
      " [   2    2 1021    0    1    0    0    5    1    0]\n",
      " [   1    0    1 1002    0    1    0    0    4    1]\n",
      " [   1    0    0    0  969    0    3    2    0    7]\n",
      " [   3    0    0   11    0  870    7    0    1    0]\n",
      " [   4    3    0    0    1    2  947    0    1    0]\n",
      " [   0    0    3    2    0    0    0 1020    1    2]\n",
      " [   5    0    3    2    0    3    1    1  956    3]\n",
      " [   0    0    0    0    5    0    0    2    2 1000]]\n"
     ]
    },
    {
     "data": {
      "image/png": "[encoded data removed]",
      "text/plain": [
       "<matplotlib.figure.Figure at 0x1d2002ddcc0>"
      ]
     },
     "metadata": {},
     "output_type": "display_data"
    }
   ],
   "source": [
    "#defined the actual digits of labels again\n",
    "y_true = data.test.labels\n",
    "y_true_digit = np.argmax(y_true,axis = 1)\n",
    "\n",
    "feed_dict_test = {x: data.test.images,\n",
    "                           y_label: data.test.labels}\n",
    "# find the predicted labels\n",
    "y_pred = sess.run(y_pred_digit, feed_dict = feed_dict_test)\n",
    "\n",
    "# get the confusion matrix\n",
    "conf_mat = confusion_matrix( y_true_digit,\n",
    "                             y_pred)\n",
    "print(conf_mat)\n",
    "plt.imshow(conf_mat, interpolation='nearest', cmap=plt.cm.Blues)\n",
    "plt.tight_layout()\n",
    "plt.colorbar()\n",
    "tick_marks = np.arange(num_digits)\n",
    "plt.xticks(tick_marks, range(num_digits))\n",
    "plt.yticks(tick_marks, range(num_digits))\n",
    "plt.xlabel('Predicted')\n",
    "plt.ylabel('True')\n",
    "plt.savefig(\"CM_10000d.png\", bbox_inches='tight')\n",
    "plt.show()"
   ]
  },
  {
   "cell_type": "code",
   "execution_count": 46,
   "metadata": {
    "collapsed": false
   },
   "outputs": [
    {
     "data": {
      "text/plain": [
       "'models/best_accuracyd'"
      ]
     },
     "execution_count": 46,
     "metadata": {},
     "output_type": "execute_result"
    }
   ],
   "source": [
    "saver.save(sess= sess, save_path = save_model)"
   ]
  },
  {
   "cell_type": "code",
   "execution_count": 47,
   "metadata": {
    "collapsed": true
   },
   "outputs": [],
   "source": [
    "sess.close()"
   ]
  },
  {
   "cell_type": "code",
   "execution_count": 48,
   "metadata": {
    "collapsed": false
   },
   "outputs": [
    {
     "name": "stdout",
     "output_type": "stream",
     "text": [
      "Restored values:\n",
      "\n",
      "\n",
      "\n",
      "Using all the training set rater than just a batch:\n",
      "\n",
      "Training Accuracy: 99.9% \n",
      "\n",
      "Test Accuracy: 98.9% \n",
      "\n"
     ]
    }
   ],
   "source": [
    "save_MDir = 'models/'\n",
    "save_model = os.path.join(save_MDir,'best_accuracyd')    \n",
    "saver2restore = tf.train.Saver()\n",
    "with tf.Session() as sess:\n",
    "    sess.run(tf.global_variables_initializer())\n",
    "    saver2restore.restore(sess = sess, save_path= save_model)\n",
    "    print(\"Restored values:\\n\")\n",
    "\n",
    "    print('\\n')\n",
    "    print_acc()"
   ]
  },
  {
   "cell_type": "markdown",
   "metadata": {
    "collapsed": true
   },
   "source": [
    "# Run the saved model notebook to check if the accuracy is the same as in the report."
   ]
  },
  {
   "cell_type": "code",
   "execution_count": null,
   "metadata": {
    "collapsed": true
   },
   "outputs": [],
   "source": []
  }
 ],
 "metadata": {
  "anaconda-cloud": {},
  "kernelspec": {
   "display_name": "Python [default]",
   "language": "python",
   "name": "python3"
  },
  "language_info": {
   "codemirror_mode": {
    "name": "ipython",
    "version": 3
   },
   "file_extension": ".py",
   "mimetype": "text/x-python",
   "name": "python",
   "nbconvert_exporter": "python",
   "pygments_lexer": "ipython3",
   "version": "3.5.2"
  }
 },
 "nbformat": 4,
 "nbformat_minor": 1
}
