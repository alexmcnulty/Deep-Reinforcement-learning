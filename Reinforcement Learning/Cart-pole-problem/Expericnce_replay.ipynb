{
 "cells": [
  {
   "cell_type": "markdown",
   "metadata": {},
   "source": [
    "# Question 6: Train your agent with the replay buffer\n",
    "A replay buffer of size 2000 was used to store values and batch learn online"
   ]
  },
  {
   "cell_type": "markdown",
   "metadata": {},
   "source": [
    "# Running this file\n",
    "Run the until stopped and proceed as instucted\n"
   ]
  },
  {
   "cell_type": "code",
   "execution_count": 1,
   "metadata": {
    "collapsed": true
   },
   "outputs": [],
   "source": [
    "import sys\n",
    "import math\n",
    "import random\n",
    "import pdb\n",
    "import numpy as np\n",
    "import tensorflow as tf\n",
    "import gym\n",
    "import time\n",
    "import warnings\n",
    "import matplotlib.pyplot as plt\n",
    "import matplotlib\n",
    "import os\n",
    "from copy import deepcopy\n",
    "warnings.filterwarnings('ignore')"
   ]
  },
  {
   "cell_type": "code",
   "execution_count": 2,
   "metadata": {
    "collapsed": false
   },
   "outputs": [],
   "source": [
    "# create a network that  will be used to take the loss.\n",
    "def get_q_optimize2(state, next_state,action, alpha, reward, discount = 0.99):\n",
    "\n",
    "    weights = {'w1': tf.Variable(tf.random_uniform([4, 100], 0, 0.01)),\n",
    "               'w2': tf.Variable(tf.random_uniform([100, 2], 0, 0.01))}\n",
    "    biases = {'b1': tf.Variable(tf.random_uniform([100], 0, 0.01)),\n",
    "              'b2': tf.Variable(tf.random_uniform([2], 0, 0.01))}\n",
    "\n",
    "    hidden = tf.nn.relu(tf.matmul(state, weights['w1']) + biases['b1'])\n",
    "    q = tf.matmul(hidden, weights['w2']) + biases['b2']\n",
    "\n",
    "    hidden = tf.nn.relu(tf.matmul(next_state, weights['w1']) + biases['b1'])\n",
    "    q_prime = tf.matmul(hidden, weights['w2']) + biases['b2']\n",
    "\n",
    "\n",
    "    delta = reward + 1   # don't boostrap if state is terminal\n",
    "    q_prime_max = tf.reshape(tf.reduce_max(q_prime, reduction_indices=[1]), [-1, 1])\n",
    "    qa = tf.reshape(tf.gather_nd(q, action), [-1, 1])\n",
    "    diff = tf.square(reward + discount * tf.multiply(delta, tf.stop_gradient(q_prime_max)) - qa) / 2\n",
    "    loss = tf.reduce_mean(diff)\n",
    "\n",
    "    opt = tf.train.AdamOptimizer(learning_rate=alpha).minimize(loss)\n",
    "    return opt, q, loss"
   ]
  },
  {
   "cell_type": "code",
   "execution_count": 3,
   "metadata": {
    "collapsed": true
   },
   "outputs": [],
   "source": [
    "# Training parameters\n",
    "max_eps_length = 300\n",
    "discount = 0.99\n",
    "alpha = 0.001\n",
    "n_episodes = 2000\n",
    "freq = n_episodes/100\n",
    "epsilon = 0.05\n",
    "sample_episodes = 10\n",
    "episode_lengths = []\n",
    "episode_returns = []"
   ]
  },
  {
   "cell_type": "code",
   "execution_count": 4,
   "metadata": {
    "collapsed": true
   },
   "outputs": [],
   "source": [
    "def eps_greed(q,counting,epsilon=0.05):\n",
    "    u = np.random.uniform(0,1,1)\n",
    "    if u <= epsilon:\n",
    "        counting+=1\n",
    "\n",
    "        if np.random.uniform(0,1,1)>0.5:\n",
    "            act = 0\n",
    "        else:\n",
    "            act = 1\n",
    "    else:\n",
    "        act = np.argmax(q)\n",
    "        \n",
    "    return act, counting"
   ]
  },
  {
   "cell_type": "markdown",
   "metadata": {},
   "source": [
    "# Do not run these cells...\n",
    "Continue to load data below to load model and get return and length of episodes"
   ]
  },
  {
   "cell_type": "markdown",
   "metadata": {},
   "source": [
    "### Initialize buffer\n",
    "First need to initialize buffer with tuples of (s,a,r,s')"
   ]
  },
  {
   "cell_type": "code",
   "execution_count": 5,
   "metadata": {
    "collapsed": false
   },
   "outputs": [
    {
     "name": "stderr",
     "output_type": "stream",
     "text": [
      "[2017-04-06 22:44:22,489] Making new env: CartPole-v0\n"
     ]
    }
   ],
   "source": [
    "episode_data = []\n",
    "env = gym.make('CartPole-v0')\n",
    "for i_episode in range(2000):\n",
    "        discount = 0.99\n",
    "        episode_return = 0\n",
    "        episode_length = 0\n",
    "        s = env.reset()\n",
    "\n",
    "        for t in range(300):\n",
    "            discount_t = discount ** t\n",
    "            #env.render()\n",
    "            action = env.action_space.sample()  # 0 is hitting right of block, 1 is hitting left\n",
    "            s_prime, reward, done, info = env.step(action)\n",
    "\n",
    "            if done:\n",
    "                # print(\"Episode finished after {} timesteps\".format(t+1))\n",
    "                episode_length = t + 1\n",
    "                episode_return += (-1 * discount_t)  # -1 reward for terminating time-steps\n",
    "                episode_data.append(np.append(np.append(s.reshape(1,-1), np.array([action, -1] ) ), np.zeros([1,4])))\n",
    "                break\n",
    "            else:\n",
    "                episode_return += 0  # 0 reward for non-terminating time-steps\n",
    "                episode_data.append(np.append(np.append(s.reshape(1,-1), np.array([action, 0])),s_prime.reshape(1,-1)))\n",
    "            s = s_prime\n",
    "episode_data = np.asarray(episode_data )"
   ]
  },
  {
   "cell_type": "code",
   "execution_count": 8,
   "metadata": {
    "collapsed": false
   },
   "outputs": [],
   "source": [
    "filename = 'replay_buffer_data'\n",
    "np.save(filename, episode_data)"
   ]
  },
  {
   "cell_type": "code",
   "execution_count": 5,
   "metadata": {
    "collapsed": true
   },
   "outputs": [],
   "source": [
    "b = np.load(\"./replay_buffer_data.npy\") "
   ]
  },
  {
   "cell_type": "code",
   "execution_count": 7,
   "metadata": {
    "collapsed": false
   },
   "outputs": [
    {
     "data": {
      "text/plain": [
       "(44094, 10)"
      ]
     },
     "execution_count": 7,
     "metadata": {},
     "output_type": "execute_result"
    }
   ],
   "source": [
    "b.shape"
   ]
  },
  {
   "cell_type": "code",
   "execution_count": 6,
   "metadata": {
    "collapsed": true
   },
   "outputs": [],
   "source": [
    "# Need to save the model, weights and biases varibles\n",
    "\n",
    "# Suggested Directory to use\n",
    "save_MDir = 'new_models/A6/'\n",
    "\n",
    "\n",
    "#create the directory if it does not exist already\n",
    "if not os.path.exists(save_MDir):\n",
    "    os.makedirs(save_MDir)\n",
    "\n",
    "#save_model = os.path.join(save_MDir,'replay_model')"
   ]
  },
  {
   "cell_type": "code",
   "execution_count": 7,
   "metadata": {
    "collapsed": true
   },
   "outputs": [
    {
     "name": "stderr",
     "output_type": "stream",
     "text": [
      "[2017-04-06 22:44:45,298] Making new env: CartPole-v0\n"
     ]
    },
    {
     "name": "stdout",
     "output_type": "stream",
     "text": [
      "Now runnning episode:0\n",
      "Total run time so far is: 0.3681149482727051\n",
      "\n",
      "For episode 1 the length is: 10\n",
      "Now runnning episode:1\n",
      "Total run time so far is: 0.4870879650115967\n",
      "\n",
      "last episode length 9.333333333333334\n",
      "For episode 2 the length is: 9\n",
      "Now runnning episode:2\n",
      "Total run time so far is: 0.5923738479614258\n",
      "\n",
      "last episode length 9.2\n",
      "For episode 3 the length is: 9\n",
      "Now runnning episode:3\n",
      "Total run time so far is: 0.7000851631164551\n",
      "\n",
      "last episode length 9.6\n",
      "For episode 4 the length is: 9\n",
      "Now runnning episode:4\n",
      "Total run time so far is: 0.804976224899292\n",
      "\n",
      "last episode length 9.266666666666667\n",
      "For episode 5 the length is: 12\n",
      "Now runnning episode:5\n",
      "Total run time so far is: 0.9358103275299072\n",
      "\n",
      "last episode length 9.666666666666666\n",
      "For episode 6 the length is: 12\n",
      "Now runnning episode:6\n",
      "Total run time so far is: 1.0731773376464844\n",
      "\n",
      "last episode length 9.733333333333333\n",
      "For episode 7 the length is: 71\n",
      "Now runnning episode:7\n",
      "Total run time so far is: 1.7591197490692139\n",
      "\n",
      "last episode length 29.866666666666667\n",
      "For episode 8 the length is: 56\n",
      "Now runnning episode:8\n",
      "Total run time so far is: 2.4904489517211914\n",
      "\n",
      "last episode length 73.8\n",
      "For episode 9 the length is: 48\n",
      "Now runnning episode:9\n",
      "Total run time so far is: 3.180349111557007\n",
      "\n",
      "last episode length 59.666666666666664\n",
      "For episode 10 the length is: 235\n",
      "Now runnning episode:10\n",
      "Total run time so far is: 5.295560836791992\n",
      "\n",
      "last episode length 106.0\n",
      "For episode 11 the length is: 116\n",
      "Now runnning episode:11\n",
      "Total run time so far is: 6.689324140548706\n",
      "\n",
      "last episode length 147.33333333333334\n",
      "For episode 12 the length is: 193\n",
      "Now runnning episode:12\n",
      "Total run time so far is: 8.528903007507324\n",
      "\n",
      "last episode length 147.6\n",
      "For episode 13 the length is: 128\n",
      "Now runnning episode:13\n",
      "Total run time so far is: 10.088802337646484\n",
      "\n",
      "last episode length 183.73333333333332\n",
      "For episode 14 the length is: 125\n",
      "Now runnning episode:14\n",
      "Total run time so far is: 11.636481046676636\n",
      "\n",
      "last episode length 167.73333333333332\n",
      "For episode 15 the length is: 154\n",
      "Now runnning episode:15\n",
      "Total run time so far is: 13.548771142959595\n",
      "\n",
      "last episode length 171.73333333333332\n",
      "For episode 16 the length is: 203\n",
      "Now runnning episode:16\n",
      "Total run time so far is: 15.832603454589844\n",
      "\n",
      "last episode length 198.86666666666667\n",
      "For episode 17 the length is: 178\n",
      "Now runnning episode:17\n",
      "Total run time so far is: 17.843234539031982\n",
      "\n",
      "last episode length 185.93333333333334\n",
      "For episode 18 the length is: 117\n",
      "Now runnning episode:18\n",
      "Total run time so far is: 19.367361545562744\n",
      "\n",
      "last episode length 200.13333333333333\n",
      "For episode 19 the length is: 120\n",
      "Now runnning episode:19\n",
      "Total run time so far is: 20.57197403907776\n",
      "\n",
      "last episode length 105.06666666666666\n",
      "For episode 20 the length is: 155\n",
      "Now runnning episode:20\n",
      "Total run time so far is: 22.400707006454468\n",
      "\n",
      "last episode length 186.13333333333333\n",
      "For episode 21 the length is: 163\n",
      "Now runnning episode:21\n",
      "Total run time so far is: 24.10599184036255\n",
      "\n",
      "last episode length 126.33333333333333\n",
      "For episode 22 the length is: 300\n",
      "Now runnning episode:22\n",
      "Total run time so far is: 27.126372575759888\n",
      "\n",
      "last episode length 207.66666666666666\n",
      "For episode 23 the length is: 150\n",
      "Now runnning episode:23\n",
      "Total run time so far is: 28.880271434783936\n",
      "\n",
      "last episode length 185.66666666666666\n",
      "For episode 24 the length is: 209\n",
      "Now runnning episode:24\n",
      "Total run time so far is: 30.629461526870728\n",
      "\n",
      "last episode length 105.53333333333333\n",
      "For episode 25 the length is: 258\n",
      "Now runnning episode:25\n",
      "Total run time so far is: 32.896947622299194\n",
      "\n",
      "last episode length 154.13333333333333\n",
      "For episode 26 the length is: 300\n",
      "Now runnning episode:26\n",
      "Total run time so far is: 36.02463722229004\n",
      "\n",
      "last episode length 260.73333333333335\n",
      "Saving model...\n",
      "For episode 27 the length is: 205\n",
      "Now runnning episode:27\n",
      "Total run time so far is: 38.72187066078186\n",
      "\n",
      "last episode length 242.66666666666666\n",
      "For episode 28 the length is: 300\n",
      "Now runnning episode:28\n",
      "Total run time so far is: 42.25730276107788\n",
      "\n",
      "last episode length 295.93333333333334\n",
      "Saving model...\n",
      "For episode 29 the length is: 300\n",
      "Now runnning episode:29\n",
      "Total run time so far is: 45.84757041931152\n",
      "\n",
      "last episode length 251.93333333333334\n",
      "Saving model...\n",
      "For episode 30 the length is: 300\n",
      "Now runnning episode:30\n",
      "Total run time so far is: 49.1513569355011\n",
      "\n",
      "last episode length 297.6\n",
      "Saving model...\n"
     ]
    },
    {
     "ename": "KeyboardInterrupt",
     "evalue": "",
     "output_type": "error",
     "traceback": [
      "\u001b[0;31m---------------------------------------------------------------------------\u001b[0m",
      "\u001b[0;31mKeyboardInterrupt\u001b[0m                         Traceback (most recent call last)",
      "\u001b[0;32m<ipython-input-7-ca4b607ecce4>\u001b[0m in \u001b[0;36m<module>\u001b[0;34m()\u001b[0m\n\u001b[1;32m    101\u001b[0m             \u001b[1;31m#print(replay_count)\u001b[0m\u001b[1;33m\u001b[0m\u001b[1;33m\u001b[0m\u001b[0m\n\u001b[1;32m    102\u001b[0m             \u001b[0mshuffled_data\u001b[0m \u001b[1;33m=\u001b[0m \u001b[0mdeepcopy\u001b[0m\u001b[1;33m(\u001b[0m\u001b[0mreplay_buffer\u001b[0m\u001b[1;33m)\u001b[0m\u001b[1;33m\u001b[0m\u001b[0m\n\u001b[0;32m--> 103\u001b[0;31m             \u001b[0mnp\u001b[0m\u001b[1;33m.\u001b[0m\u001b[0mrandom\u001b[0m\u001b[1;33m.\u001b[0m\u001b[0mshuffle\u001b[0m\u001b[1;33m(\u001b[0m\u001b[0mshuffled_data\u001b[0m\u001b[1;33m)\u001b[0m\u001b[1;33m\u001b[0m\u001b[0m\n\u001b[0m\u001b[1;32m    104\u001b[0m             \u001b[0mbatch\u001b[0m \u001b[1;33m=\u001b[0m \u001b[0mshuffled_data\u001b[0m\u001b[1;33m[\u001b[0m\u001b[1;33m:\u001b[0m\u001b[0mbatch_size\u001b[0m\u001b[1;33m,\u001b[0m\u001b[1;33m:\u001b[0m\u001b[1;33m]\u001b[0m\u001b[1;33m\u001b[0m\u001b[0m\n\u001b[1;32m    105\u001b[0m             \u001b[1;31m#print(batch.shape[0])\u001b[0m\u001b[1;33m\u001b[0m\u001b[1;33m\u001b[0m\u001b[0m\n",
      "\u001b[0;31mKeyboardInterrupt\u001b[0m: "
     ]
    }
   ],
   "source": [
    "start = time.time()\n",
    "replay_buffer = np.load(\"./replay_buffer_data.npy\")\n",
    "replay_buffer = replay_buffer[:5000,:]\n",
    "batch_size = 64\n",
    "sample_episodes = 15\n",
    "n_episodes = 100\n",
    "freq = n_episodes/100\n",
    "count = 0\n",
    "counting = 0    \n",
    "replay_count = 0\n",
    "\n",
    "episode_loss = []\n",
    "total_episode_lengths = []\n",
    "total_episode_returns = []\n",
    "env = gym.make('CartPole-v0')\n",
    "env._max_episode_steps = 300\n",
    "\n",
    "state = tf.placeholder(\"float\", [None, 4], name = 'state')\n",
    "action = tf.placeholder(tf.int32, [None, 2], name = 'actions')\n",
    "next_state = tf.placeholder(\"float\", [None, 4], name = 'next_states')\n",
    "reward = tf.placeholder(\"float\", [None, 1], 'rewards')\n",
    "\n",
    "optimize,q,loss = get_q_optimize2(state, next_state,action, alpha, reward, discount)\n",
    "\n",
    "terminate_episode = False\n",
    "init = tf.global_variables_initializer()\n",
    "saver = tf.train.Saver()\n",
    "\n",
    "\n",
    "with tf.Session() as sess:\n",
    "    sess.run(init)\n",
    "\n",
    "    for i_episode in range(n_episodes):\n",
    "        if i_episode % freq == 0:\n",
    "            print('Now runnning episode:{}'.format(i_episode))\n",
    "            print('Total run time so far is: {}\\n'.format(time.time()-start))\n",
    "            if i_episode>0:\n",
    "                print('last episode length {}'.format(np.mean(sample_episode_lengths)))\n",
    "                if np.mean(sample_episode_lengths)>250:\n",
    "                        print('Saving model...')\n",
    "                        file_name = \"A6_large%i.ckpt\" %(int(alpha*100000))\n",
    "                        save_model = os.path.join(save_MDir,file_name)\n",
    "                        saver.save(sess= sess, save_path = save_model)\n",
    "        # Every 10 episodes we take 10 sample runs and report their average lengths\n",
    "        if i_episode % freq == 0:\n",
    "            \n",
    "            sample_episode_lengths = []\n",
    "            sample_episode_returns = []            \n",
    "            for _ in range(sample_episodes):\n",
    "                s = env.reset()\n",
    "                for t in range(max_eps_length):\n",
    "                    cur_q = sess.run(q, feed_dict={state:s.reshape(1,-1)})\n",
    "                    a, counting = eps_greed(cur_q,counting)\n",
    "                    s_prime,re,done,info = env.step(a)\n",
    "                    \n",
    "\n",
    "                    if done:\n",
    "                        #print('episode finished')\n",
    "                        re = -1\n",
    "                        sample_episode_lengths.append(t+1)\n",
    "                        sample_episode_returns.append(-1*discount**t)\n",
    "                        break\n",
    "\n",
    "                    s = s_prime\n",
    "            total_episode_lengths.append(np.mean(sample_episode_lengths))\n",
    "            total_episode_returns.append(np.mean(sample_episode_returns))\n",
    "\n",
    "\n",
    "        s = env.reset()\n",
    "        for t in range(max_eps_length):\n",
    "            cur_q = sess.run(q, feed_dict={state:s.reshape(1,-1)})\n",
    "            a, counting = eps_greed(cur_q,counting)\n",
    "            s_prime,re,done,info = env.step(a)\n",
    "            \n",
    "            if done:\n",
    "                re = -1\n",
    "                # replace buffer with updated s,a,r,s'\n",
    "                replay_buffer[replay_count,:] = np.append(np.append(s.reshape(1,-1), np.asarray([a, re])), s_prime.reshape(1,-1))\n",
    "                replay_count +=1\n",
    "                if replay_count == replay_buffer.shape[0]:\n",
    "                    replay_count =0\n",
    "                episode_lengths.append(t+1)\n",
    "                episode_returns.append(-1*discount**t)\n",
    "                terminate_episode = True\n",
    "                if i_episode % freq == 0:\n",
    "                    print('For episode {} the length is: {}'.format( i_episode+1,t+1))\n",
    "            else:\n",
    "                re = 0\n",
    "                \n",
    "                # replace buffer with updated s,a,r,s'\n",
    "                replay_buffer[replay_count,:] = np.append(np.append(s.reshape(1,-1), np.asarray([a, re])), s_prime.reshape(1,-1))\n",
    "                replay_count +=1\n",
    "                if replay_count == replay_buffer.shape[0]:\n",
    "                    replay_count =0\n",
    "            \n",
    "            # Now I need to put in the batch. ie copy orig data shuffle, take first 64 samples, dont  fprget to label actinos\n",
    "            # optimize and repeat\n",
    "            #print(replay_count)\n",
    "            shuffled_data = deepcopy(replay_buffer)\n",
    "            np.random.shuffle(shuffled_data)\n",
    "            batch = shuffled_data[:batch_size,:]\n",
    "            #print(batch.shape[0])\n",
    "            act = batch[:, 4].reshape(-1, 1)\n",
    "            act = np.append(np.arange(len(act)).reshape(-1, 1), act, axis=1)\n",
    "            this_dict = {state : batch[:,:4],action:act,\n",
    "                         reward : batch[:,5].reshape(-1,1), next_state: batch[:,-4:]\n",
    "                        }\n",
    "            #this_dict = {state:s.reshape(-1,1), next_state:s_prime.reshape(-1,1), action:a, reward:re}\n",
    "            opt, ls = sess.run([optimize,loss],this_dict)\n",
    "\n",
    "            if  terminate_episode == True:\n",
    "                count +=1\n",
    "                terminate_episode = False\n",
    "                break\n",
    "            s = s_prime\n",
    "            \n",
    "\n",
    "        if i_episode %freq == 0:\n",
    "                episode_loss.append(ls)\n",
    " \n",
    "    print('Saving model...')\n",
    "    saver.save(sess= sess, save_path = save_model)\n",
    "\n",
    "total_episode_lengths = np.asarray(total_episode_lengths).reshape(-1,1)\n",
    "total_episode_returns = np.asarray(total_episode_returns).reshape(-1,1)\n",
    "episode_loss = np.asarray(episode_loss).reshape(-1,1)\n",
    "\n",
    "saved_data  = np.concatenate((total_episode_lengths, total_episode_returns, episode_loss), axis=1)\n",
    "filename = './results/A6_results.csv'\n",
    "#np.savetxt(filename, saved_data, delimiter=' ,')\n",
    "print('Total run time is: {}'.format(time.time()-start))"
   ]
  },
  {
   "cell_type": "code",
   "execution_count": 12,
   "metadata": {
    "collapsed": false
   },
   "outputs": [
    {
     "name": "stdout",
     "output_type": "stream",
     "text": [
      "Populating the interactive namespace from numpy and matplotlib\n"
     ]
    }
   ],
   "source": [
    "%pylab inline\n",
    "pylab.rcParams['figure.figsize'] = (10, 6)"
   ]
  },
  {
   "cell_type": "code",
   "execution_count": 14,
   "metadata": {
    "collapsed": false
   },
   "outputs": [
    {
     "name": "stdout",
     "output_type": "stream",
     "text": [
      "20.0\n"
     ]
    },
    {
     "data": {
      "image/png": "[encoded data removed]",
      "text/plain": [
       "<matplotlib.figure.Figure at 0x250d936d3c8>"
      ]
     },
     "metadata": {},
     "output_type": "display_data"
    }
   ],
   "source": [
    "t = np.linspace(0,n_episodes-1,n_episodes/freq)\n",
    "fig = plt.figure()\n",
    "print(freq)\n",
    "plt.plot(t,saved_data[:,0],'p')# plotting t,a separately \n",
    "\n",
    "fig.suptitle('  Length of Episode over 2000 episodes with Buffer', fontsize=20)\n",
    "legend = plt.legend(loc='lower right', shadow=True)\n",
    "plt.xlabel('Episode', fontsize=18)\n",
    "plt.ylabel('length', fontsize=16)\n",
    "plt.show()\n",
    "fig.savefig('./results/pics/A6_lengths_p.jpg')"
   ]
  },
  {
   "cell_type": "code",
   "execution_count": 16,
   "metadata": {
    "collapsed": false
   },
   "outputs": [
    {
     "data": {
      "image/png": "[encoded data removed]",
      "text/plain": [
       "<matplotlib.figure.Figure at 0x250da8e45f8>"
      ]
     },
     "metadata": {},
     "output_type": "display_data"
    }
   ],
   "source": [
    "fig = plt.figure()\n",
    "plt.hist(saved_data[:,0])\n",
    "fig.suptitle('Length of Episodes over 2000 episodes', fontsize=20)\n",
    "plt.xlabel('Episode Length', fontsize=18)\n",
    "plt.ylabel('Number of episodes', fontsize=16)\n",
    "plt.show()\n",
    "fig.savefig('./results/pics/A6_length_hist.jpg')"
   ]
  },
  {
   "cell_type": "code",
   "execution_count": 18,
   "metadata": {
    "collapsed": false
   },
   "outputs": [
    {
     "name": "stdout",
     "output_type": "stream",
     "text": [
      "20.0\n"
     ]
    },
    {
     "data": {
      "image/png": "[encoded data removed]",
      "text/plain": [
       "<matplotlib.figure.Figure at 0x250da8cb0f0>"
      ]
     },
     "metadata": {},
     "output_type": "display_data"
    }
   ],
   "source": [
    "t = np.linspace(0,n_episodes-1,n_episodes/freq)\n",
    "fig = plt.figure()\n",
    "print(freq)\n",
    "plt.plot(t,saved_data[:,1],'p')# plotting t,a separately \n",
    "\n",
    "fig.suptitle('Return of Episode over 2000 episodes with buffer', fontsize=20)\n",
    "legend = plt.legend(loc='lower right', shadow=True)\n",
    "plt.xlabel('Episode', fontsize=18)\n",
    "plt.ylabel('length', fontsize=16)\n",
    "plt.show()\n",
    "fig.savefig('./results/pics/A6_returns_p.jpg')"
   ]
  },
  {
   "cell_type": "code",
   "execution_count": 19,
   "metadata": {
    "collapsed": false
   },
   "outputs": [
    {
     "name": "stdout",
     "output_type": "stream",
     "text": [
      "20.0\n"
     ]
    },
    {
     "data": {
      "image/png": "[encoded data removed]",
      "text/plain": [
       "<matplotlib.figure.Figure at 0x250da9e2160>"
      ]
     },
     "metadata": {},
     "output_type": "display_data"
    }
   ],
   "source": [
    "t = np.linspace(0,n_episodes-1,n_episodes/freq)\n",
    "fig = plt.figure()\n",
    "print(freq)\n",
    "plt.plot(t,saved_data[:,2],'b')# plotting t,a separately \n",
    "\n",
    "fig.suptitle('Return of Episode over 2000 episodes with buffer', fontsize=20)\n",
    "legend = plt.legend(loc='lower right', shadow=True)\n",
    "plt.xlabel('Episode', fontsize=18)\n",
    "plt.ylabel('length', fontsize=16)\n",
    "plt.show()\n",
    "fig.savefig('./results/pics/A6_loss.jpg')"
   ]
  },
  {
   "cell_type": "markdown",
   "metadata": {},
   "source": [
    "# Load Model\n",
    "Load the model of the best learning rate. Output the Average return and episode length"
   ]
  },
  {
   "cell_type": "code",
   "execution_count": 5,
   "metadata": {
    "collapsed": false
   },
   "outputs": [
    {
     "name": "stdout",
     "output_type": "stream",
     "text": [
      "new_models/A6/A6_large100.ckpt\n"
     ]
    }
   ],
   "source": [
    "alpha = 0.001\n",
    "file_name = \"A6_large%i.ckpt\" %(int(alpha*100000))\n",
    "save_MDir = 'new_models/A6/'\n",
    "save_model = os.path.join(save_MDir,file_name)\n",
    "init = tf.global_variables_initializer()\n",
    "print(save_model)"
   ]
  },
  {
   "cell_type": "code",
   "execution_count": 6,
   "metadata": {
    "collapsed": false
   },
   "outputs": [],
   "source": [
    "def test_epoch(sess, test_episodes):   \n",
    "    e_length = []\n",
    "    e_return = []\n",
    "    av_len = []\n",
    "    av_ret = []\n",
    "    for _ in range(test_episodes):\n",
    "        s = env.reset()\n",
    "        \n",
    "        for t in range(300):\n",
    "            this_q = sess.run(q, feed_dict={state: s.reshape(1, 4)})\n",
    "            #ac_greedily\n",
    "            a = np.argmax(this_q)\n",
    "\n",
    "            s_prime, rwd, done, info = env.step(a)\n",
    "\n",
    "            if done:\n",
    "                e_length.append(t+1)\n",
    "                e_return.append(-1 * discount**t)\n",
    "                break\n",
    "            s = s_prime\n",
    "\n",
    "    #av_len.append(np.mean(np.array(episode_length)))\n",
    "    #av_ret.append(np.mean(np.array(episode_return)))\n",
    "    return e_length, e_return"
   ]
  },
  {
   "cell_type": "code",
   "execution_count": 7,
   "metadata": {
    "collapsed": true
   },
   "outputs": [],
   "source": [
    "def get_placeholders():\n",
    "    state = tf.placeholder(\"float\", [None, 4])\n",
    "    action = tf.placeholder(tf.int32, [None, 2])\n",
    "    next_state = tf.placeholder(\"float\", [None, 4])\n",
    "    reward = tf.placeholder(\"float\", [None, 1])\n",
    "    return state, action, next_state, reward"
   ]
  },
  {
   "cell_type": "code",
   "execution_count": 8,
   "metadata": {
    "collapsed": false
   },
   "outputs": [
    {
     "name": "stderr",
     "output_type": "stream",
     "text": [
      "[2017-04-08 14:28:40,675] Making new env: CartPole-v0\n"
     ]
    },
    {
     "name": "stdout",
     "output_type": "stream",
     "text": [
      "new_models/A6/A6_large100.ckpt\n",
      "Restored values for learning rate:  0.001\n",
      "The average length of episode is: 297.1 with std: 15.46124186474036 \n",
      "The average return of episode is: -0.051855354429010916 with std: 0.01303608791662235 \n"
     ]
    }
   ],
   "source": [
    "tf.reset_default_graph()\n",
    "env = gym.make('CartPole-v0')\n",
    "env._max_episode_steps = 300\n",
    "\n",
    "state, action, next_state, reward = get_placeholders()\n",
    "optimize,q,loss = get_q_optimize2(state, next_state,action, alpha, reward, discount)\n",
    "init  = tf.global_variables_initializer()\n",
    "test_episodes = 50\n",
    "\"\"\"---------------- restore model after training  --------------------------\"\"\"\n",
    "# restore model and calculate mean length and return over n_test episodes\n",
    "with tf.Session() as sess:\n",
    "    saver = tf.train.Saver()\n",
    "    sess.run(init)\n",
    "    print(save_model)\n",
    "    saver.restore(sess = sess, save_path= save_model)\n",
    "    print(\"Restored values for learning rate: \",alpha)\n",
    "    restored_length, restored_return = test_epoch(sess,50)\n",
    "    print('The average length of episode is: {} with std: {} '.format(np.mean(restored_length),np.std(restored_length)))\n",
    "    print('The average return of episode is: {} with std: {} '.format(np.mean(restored_return),np.std(restored_return)))\n"
   ]
  }
 ],
 "metadata": {
  "kernelspec": {
   "display_name": "Python [conda env:Assignment_3]",
   "language": "python",
   "name": "conda-env-Assignment_3-py"
  },
  "language_info": {
   "codemirror_mode": {
    "name": "ipython",
    "version": 3
   },
   "file_extension": ".py",
   "mimetype": "text/x-python",
   "name": "python",
   "nbconvert_exporter": "python",
   "pygments_lexer": "ipython3",
   "version": "3.5.2"
  }
 },
 "nbformat": 4,
 "nbformat_minor": 2
}
