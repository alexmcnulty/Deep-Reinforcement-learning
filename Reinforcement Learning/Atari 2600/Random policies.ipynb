{
 "cells": [
  {
   "cell_type": "markdown",
   "metadata": {},
   "source": [
    "# Atari gym environment\n",
    "Random policy for MsPacman Pong and Boxing\n",
    "\n",
    "\n",
    "# To load model, run cells at bottom of notebook"
   ]
  },
  {
   "cell_type": "code",
   "execution_count": 1,
   "metadata": {
    "collapsed": true
   },
   "outputs": [],
   "source": [
    "import sys\n",
    "import os\n",
    "import math\n",
    "import pdb\n",
    "import time\n",
    "import random\n",
    "import numpy as np\n",
    "import tensorflow as tf\n",
    "import gym\n",
    "import matplotlib.pyplot as plt\n",
    "import matplotlib.cm as cm\n",
    "\n",
    "from datetime import datetime\n",
    "from skimage.color import rgb2gray\n",
    "from skimage.transform import resize"
   ]
  },
  {
   "cell_type": "markdown",
   "metadata": {},
   "source": [
    "Initialize the state for an environment, need to get the firs four frames and stack them together"
   ]
  },
  {
   "cell_type": "code",
   "execution_count": 2,
   "metadata": {
    "collapsed": true
   },
   "outputs": [],
   "source": [
    "def get_init_state(env):\n",
    "    \n",
    "    state_list = []\n",
    "    observation = env.reset()\n",
    "    for _ in range(4):\n",
    "        state_list.append(preprocess(observation))\n",
    "        action = env.action_space.sample()\n",
    "        observation, _, _, info = env.step(action)\n",
    "    state = np.stack(state_list, axis=2)\n",
    "    return env, state, observation"
   ]
  },
  {
   "cell_type": "markdown",
   "metadata": {},
   "source": [
    "Need to keep four frames at a time, each time we see a new state we need to drop the oldest and add the newest"
   ]
  },
  {
   "cell_type": "code",
   "execution_count": 3,
   "metadata": {
    "collapsed": true
   },
   "outputs": [],
   "source": [
    "def update_state(state, observation):\n",
    "    \n",
    "    state = np.append(state, preprocess(observation).reshape(28, 28, 1), axis=2)\n",
    "    new_state = state[:, :, 1:]\n",
    "    return new_state"
   ]
  },
  {
   "cell_type": "code",
   "execution_count": 4,
   "metadata": {
    "collapsed": true
   },
   "outputs": [],
   "source": [
    "def clip_rewards(reward):\n",
    "    \n",
    "    if reward > 0:\n",
    "        return 1\n",
    "    elif reward < 0:\n",
    "        return -1\n",
    "    else:\n",
    "        return 0"
   ]
  },
  {
   "cell_type": "markdown",
   "metadata": {},
   "source": [
    " Convert the 4 210x160x3 uint8 frames into a single agent state, size 28x28x4"
   ]
  },
  {
   "cell_type": "code",
   "execution_count": 5,
   "metadata": {
    "collapsed": true
   },
   "outputs": [],
   "source": [
    "def preprocess(observation):\n",
    "    \n",
    "    resized = resize(observation, (28, 28), preserve_range=True)\n",
    "    return rgb2gray(resized).astype(\"uint8\")\n",
    "    "
   ]
  },
  {
   "cell_type": "code",
   "execution_count": 6,
   "metadata": {
    "collapsed": true
   },
   "outputs": [],
   "source": [
    "def epsilon_greedy(action_value, epsilon, env):\n",
    "   \n",
    "    if random.uniform(0, 1) <= epsilon:\n",
    "        return env.action_space.sample()  # random action\n",
    "    else:\n",
    "        return np.argmax(action_value)  # best action"
   ]
  },
  {
   "cell_type": "code",
   "execution_count": 7,
   "metadata": {
    "collapsed": false
   },
   "outputs": [
    {
     "name": "stderr",
     "output_type": "stream",
     "text": [
      "[2017-04-11 22:39:24,216] Making new env: Pong-v3\n"
     ]
    }
   ],
   "source": [
    "game = 'Pong-v3'\n",
    "test_episodes = 100\n",
    "gamma = 0.99\n",
    "this_env = gym.make(game)  \n",
    "num_actions = this_env.action_space.n\n",
    "max_eps_length = 1000000"
   ]
  },
  {
   "cell_type": "markdown",
   "metadata": {},
   "source": [
    "# Don' run this cell"
   ]
  },
  {
   "cell_type": "code",
   "execution_count": null,
   "metadata": {
    "collapsed": false
   },
   "outputs": [],
   "source": [
    "score_list = []\n",
    "frame_count_list = []\n",
    "\n",
    "start = time.time()\n",
    "print(\"\\n#------ Running 100 episodes...\" )\n",
    "print(\"#------- Total time elapsed = %s\\n\" % str(time.time()-start))\n",
    "for episode in range(test_episodes):\n",
    "    print('Running episode:{}'.format(episode+1))\n",
    "    print(\"#------- Total time elapsed = %s\\n\" % str(time.time()-start))\n",
    "    score  = frame_count = 0\n",
    "    this_env, s, test_obs = get_init_state(this_env)\n",
    "\n",
    "    for test_t in range(max_eps_length):\n",
    "        \n",
    "        a  = this_env.action_space.sample()\n",
    "        next_test_obs, test_r, done, info = this_env.step(a)\n",
    "        \n",
    "\n",
    "        if test_r > 0:\n",
    "            score += test_r\n",
    "        \n",
    "\n",
    "        s_prime_test = update_state(s, test_obs)\n",
    "\n",
    "        if done:\n",
    "            score_list.append(score)\n",
    "            frame_count_list.append(test_t+1)\n",
    "            break\n",
    "        s = s_prime_test\n",
    "        test_obs = next_test_obs\n",
    "\n",
    "\n",
    "# Print results\n",
    "result_list = (np.mean(np.array(score_list)), np.std(np.array(score_list)), \n",
    "                 \n",
    "                 np.mean(np.array(frame_count_list)), np.std(np.array(frame_count_list)))\n",
    "print(\"\\nMean score = %f, stdev score = %f, mean frame count = %f, stdev frame count = %f\" % result_list)\n",
    "\n",
    "# Save performance and loss results\n",
    "saved_results = list(result_list)\n",
    "filename = './results/B1results_'+game+'.npy'\n",
    "#np.save(filename, saved_results)"
   ]
  },
  {
   "cell_type": "markdown",
   "metadata": {},
   "source": [
    "# Load Data"
   ]
  },
  {
   "cell_type": "code",
   "execution_count": 2,
   "metadata": {
    "collapsed": true
   },
   "outputs": [],
   "source": [
    "def totuple(a):\n",
    "    try:\n",
    "        return tuple(totuple(i) for i in a)\n",
    "    except TypeError:\n",
    "        return a"
   ]
  },
  {
   "cell_type": "code",
   "execution_count": 3,
   "metadata": {
    "collapsed": false
   },
   "outputs": [
    {
     "name": "stdout",
     "output_type": "stream",
     "text": [
      "The results for MsPacman-V3 were:\n",
      "Mean score = 225.300000, stdev score = 80.317557, mean frame count = 664.630000, stdev frame count = 115.091846\n",
      "\n",
      "The results for Pong-V3 were:\n",
      "Mean score = 0.660000, stdev score = 0.815107, mean frame count = 1234.830000, stdev frame count = 151.189487\n",
      "\n",
      "The results for Boxing-V3 were:\n",
      "Mean score = 30.590000, stdev score = 4.925637, mean frame count = 2376.070000, stdev frame count = 14.027298\n",
      "\n"
     ]
    }
   ],
   "source": [
    "games = ['MsPacman-V3','Pong-V3','Boxing-V3']\n",
    "for i in range(3):\n",
    "    game =games[i]\n",
    "    filename = './results/B1results_'+game+'.npy'\n",
    "    restored_data = np.load(filename)\n",
    "    print('The results for {} were:'.format(game))\n",
    "    print(\"Mean score = %f, stdev score = %f, mean frame count = %f, stdev frame count = %f\\n\" % totuple(restored_data))"
   ]
  },
  {
   "cell_type": "code",
   "execution_count": 78,
   "metadata": {
    "collapsed": false
   },
   "outputs": [
    {
     "data": {
      "text/plain": [
       "'Boxing-v3'"
      ]
     },
     "execution_count": 78,
     "metadata": {},
     "output_type": "execute_result"
    }
   ],
   "source": [
    "game"
   ]
  },
  {
   "cell_type": "code",
   "execution_count": null,
   "metadata": {
    "collapsed": true
   },
   "outputs": [],
   "source": []
  }
 ],
 "metadata": {
  "kernelspec": {
   "display_name": "Python [conda env:Assignment_3]",
   "language": "python",
   "name": "conda-env-Assignment_3-py"
  },
  "language_info": {
   "codemirror_mode": {
    "name": "ipython",
    "version": 3
   },
   "file_extension": ".py",
   "mimetype": "text/x-python",
   "name": "python",
   "nbconvert_exporter": "python",
   "pygments_lexer": "ipython3",
   "version": "3.5.2"
  }
 },
 "nbformat": 4,
 "nbformat_minor": 2
}
