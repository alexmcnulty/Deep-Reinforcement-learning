{
 "cells": [
  {
   "cell_type": "markdown",
   "metadata": {},
   "source": [
    "# B3/4\n",
    "In this part we try to train an agent to play the atari games\n",
    "\n",
    "# To load model, run cells until told stop and continue to end"
   ]
  },
  {
   "cell_type": "code",
   "execution_count": 23,
   "metadata": {
    "collapsed": true
   },
   "outputs": [],
   "source": [
    "import sys\n",
    "import os\n",
    "import math\n",
    "import pdb\n",
    "import time\n",
    "import random\n",
    "import numpy as np\n",
    "import tensorflow as tf\n",
    "import gym\n",
    "import matplotlib.pyplot as plt\n",
    "import matplotlib.cm as cm\n",
    "from datetime import datetime\n",
    "from skimage.color import rgb2gray\n",
    "from skimage.transform import resize"
   ]
  },
  {
   "cell_type": "markdown",
   "metadata": {},
   "source": [
    "Pre porcess the data so that the image is resized to 28 by 28 image "
   ]
  },
  {
   "cell_type": "code",
   "execution_count": 24,
   "metadata": {
    "collapsed": true
   },
   "outputs": [],
   "source": [
    "def preprocess(observation):\n",
    "    resized = resize(observation, (28, 28), preserve_range=True)\n",
    "    return rgb2gray(resized).astype(\"uint8\")"
   ]
  },
  {
   "cell_type": "markdown",
   "metadata": {},
   "source": [
    "Need to get the first state of the environmnet. Since we feed in four stacked images at a time, for the initial state of a game we do it here"
   ]
  },
  {
   "cell_type": "code",
   "execution_count": 25,
   "metadata": {
    "collapsed": true
   },
   "outputs": [],
   "source": [
    "def get_state(env):\n",
    "    state_list = []\n",
    "    observation = env.reset()\n",
    "    for _ in range(4):\n",
    "        state_list.append(preprocess(observation))\n",
    "        action = env.action_space.sample()\n",
    "        observation, _, _, info = env.step(action)\n",
    "    state = np.stack(state_list, axis=2)\n",
    "    return env, state, observation"
   ]
  },
  {
   "cell_type": "markdown",
   "metadata": {},
   "source": [
    "Need to update the state so that the oldest frame is forgotten and the newest frame is added to the stack"
   ]
  },
  {
   "cell_type": "code",
   "execution_count": 26,
   "metadata": {
    "collapsed": true
   },
   "outputs": [],
   "source": [
    "def update_state(state, observation):\n",
    "    state = np.append(state, preprocess(observation).reshape(28, 28, 1), axis=2)\n",
    "    new_state = state[:, :, 1:]\n",
    "    return new_state"
   ]
  },
  {
   "cell_type": "markdown",
   "metadata": {},
   "source": [
    "Clip rewards as done asked for"
   ]
  },
  {
   "cell_type": "code",
   "execution_count": 27,
   "metadata": {
    "collapsed": true
   },
   "outputs": [],
   "source": [
    "def clip_rewards(reward):\n",
    "    if reward > 0:\n",
    "        return 1\n",
    "    elif reward < 0:\n",
    "        return -1\n",
    "    else:\n",
    "        return 0"
   ]
  },
  {
   "cell_type": "code",
   "execution_count": 28,
   "metadata": {
    "collapsed": true
   },
   "outputs": [],
   "source": [
    "def ep_grred(action_value, epsilon, env):\n",
    "    if random.uniform(0, 1) <= epsilon:\n",
    "        return env.action_space.sample()  # random action\n",
    "    else:\n",
    "        return np.argmax(action_value)  # best action"
   ]
  },
  {
   "cell_type": "code",
   "execution_count": 29,
   "metadata": {
    "collapsed": true
   },
   "outputs": [],
   "source": [
    "def conv_layer(x, W, b, stride=2):\n",
    "    con = tf.nn.conv2d(x, W, strides=[1, stride, stride, 1], padding='SAME')\n",
    "    con = tf.nn.relu(tf.nn.bias_add(con,b))\n",
    "    return con"
   ]
  },
  {
   "cell_type": "markdown",
   "metadata": {},
   "source": [
    "Main Q network, pass through the conv layers to a fully connected layer, calulate the loss when the td target is passed back in and optimize"
   ]
  },
  {
   "cell_type": "code",
   "execution_count": 30,
   "metadata": {
    "collapsed": true
   },
   "outputs": [],
   "source": [
    "def Q_net(state, action, td_target, n_act, alpha=0.001):\n",
    "    weights = {\n",
    "        'conv1': tf.Variable(tf.truncated_normal([6, 6, 4, 16], 0, 0.01)),\n",
    "        'conv2': tf.Variable(tf.truncated_normal([4, 4, 16, 32], 0, 0.01)),\n",
    "        'hidden': tf.Variable(tf.truncated_normal([7*7*32, 256], 0, 0.01)),\n",
    "        'output': tf.Variable(tf.truncated_normal([256, n_act], 0, 0.01))\n",
    "    }\n",
    "    \n",
    "    \n",
    "    \n",
    "    biases = {\n",
    "        'conv1': tf.Variable(tf.constant(0.1, shape=[16])),\n",
    "        'conv2': tf.Variable(tf.constant(0.1, shape=[32])),\n",
    "        'hidden': tf.Variable(tf.constant(0.1, shape=[256])),\n",
    "        'output': tf.Variable(tf.constant(0.1, shape=[n_act]))\n",
    "    }\n",
    "\n",
    "    # Conv layers\n",
    "    conv1 = conv_layer(state, weights['conv1'], biases['conv1'], stride=2)\n",
    "    \n",
    "    conv2 = conv_layer(conv1, weights['conv2'], biases['conv2'], stride=2)\n",
    "    \n",
    "    conv2_flat = tf.reshape(conv2,  [-1, 7*7*32])\n",
    "\n",
    "    \n",
    "    #fully connected\n",
    "    fc = tf.nn.relu(tf.matmul(conv2_flat, weights['hidden']) + biases['hidden'])\n",
    "    \n",
    "    q = tf.matmul(fc, weights['output']) + biases['output']\n",
    "\n",
    "    \n",
    "    #loss\n",
    "    qa = tf.reshape(tf.gather_nd(q, action), [-1, 1])\n",
    "    \n",
    "    loss = tf.reduce_mean(tf.square(td_target - qa)/2)\n",
    "    \n",
    "    opt = tf.train.AdamOptimizer(learning_rate=alpha).minimize(loss)\n",
    "    return opt, q, loss"
   ]
  },
  {
   "cell_type": "markdown",
   "metadata": {},
   "source": [
    "Same as above with different weights that are to be coppied evry 5000 steps"
   ]
  },
  {
   "cell_type": "code",
   "execution_count": 31,
   "metadata": {
    "collapsed": true
   },
   "outputs": [],
   "source": [
    "def target_Q(state, reward, is_terminal, n_act, gamma=0.99):\n",
    "    weights_target = {\n",
    "        'conv1': tf.Variable(tf.truncated_normal([6, 6, 4, 16], 0, 0.01)),\n",
    "        'conv2': tf.Variable(tf.truncated_normal([4, 4, 16, 32], 0, 0.01)),\n",
    "        'hidden': tf.Variable(tf.truncated_normal([7*7*32, 256], 0, 0.01)),\n",
    "        'output': tf.Variable(tf.truncated_normal([256, n_act], 0, 0.01))\n",
    "    }\n",
    "    biases_target = {\n",
    "        'conv1': tf.Variable(tf.constant(0.1, shape=[16])),\n",
    "        'conv2': tf.Variable(tf.constant(0.1, shape=[32])),\n",
    "        'hidden': tf.Variable(tf.constant(0.1, shape=[256])),\n",
    "        'output': tf.Variable(tf.constant(0.1, shape=[n_act]))\n",
    "    }\n",
    "\n",
    "    # Convolutional layers\n",
    "    conv1 = conv_layer(state, weights_target['conv1'], biases_target['conv1'], stride=2)\n",
    "    \n",
    "    conv2 = conv_layer(conv1, weights_target['conv2'], biases_target['conv2'], stride=2)\n",
    "    \n",
    "    conv2_flat = tf.reshape(conv2,  [-1, 7*7*32])\n",
    "\n",
    "    # Fully connected layers\n",
    "    \n",
    "    fc = tf.nn.relu(tf.matmul(conv2_flat, weights_target['hidden']) + biases_target['hidden'])\n",
    "    \n",
    "    q_prime = tf.matmul(fc, weights_target['output']) + biases_target['output']\n",
    "\n",
    "    \n",
    "    q_prime_max = tf.reshape(tf.reduce_max(q_prime, reduction_indices=[1]), [-1, 1])\n",
    "    \n",
    "    target = reward + gamma * tf.multiply(is_terminal, q_prime_max)\n",
    "    return target\n"
   ]
  },
  {
   "cell_type": "markdown",
   "metadata": {},
   "source": [
    "Copy the current vars to the target variables"
   ]
  },
  {
   "cell_type": "code",
   "execution_count": 32,
   "metadata": {
    "collapsed": true
   },
   "outputs": [],
   "source": [
    "def copy_vars_to_target(tf_vars, sess):\n",
    "    n_var = int(len(tf_vars)/2) \n",
    "    op_list = []\n",
    "    for idx, var in enumerate(tf_vars[0:n_var]):\n",
    "        op_list.append(tf_vars[idx+n_var].assign(var.value()))\n",
    "    for op in op_list:\n",
    "        sess.run(op)"
   ]
  },
  {
   "cell_type": "code",
   "execution_count": 33,
   "metadata": {
    "collapsed": true
   },
   "outputs": [],
   "source": [
    "class exp_replay(object):\n",
    "    def __init__(self, batch_size, max_buffer_size):\n",
    "        self.min_size = batch_size\n",
    "        self.max_size = max_buffer_size\n",
    "        self.buffer = []\n",
    "\n",
    "    def replay_update(self, s, a, r, s_prime, terminal):\n",
    "        if len(self.buffer) >= self.max_size:\n",
    "            self.buffer = self.buffer[1:]\n",
    "        self.buffer.append((s, a, r, s_prime, terminal))\n",
    "\n",
    "    def buff_large(self):\n",
    "        if len(self.buffer) > self.min_size:\n",
    "            return True\n",
    "        return False\n",
    "\n",
    "    def samp_buff(self, state, action, reward, is_terminal):\n",
    "        sample = np.reshape(np.array(random.sample(self.buffer, self.min_size)), [self.min_size, 5])\n",
    "        act = sample[:,1].reshape(-1, 1)\n",
    "        act = np.append(np.arange(len(act)).reshape(-1, 1), act, axis=1)\n",
    "\n",
    "        sample_dict_opt = {\n",
    "            state: np.stack(sample[:,0], axis=0),\n",
    "            action: act\n",
    "        }\n",
    "\n",
    "        sample_dict_target = {\n",
    "            state: np.stack(sample[:,3], axis=0),\n",
    "            reward: np.stack(sample[:,2], axis=0).reshape(-1, 1), \n",
    "            is_terminal: np.stack(sample[:,4], axis=0).reshape(-1, 1)\n",
    "        }\n",
    "        return sample_dict_opt, sample_dict_target"
   ]
  },
  {
   "cell_type": "code",
   "execution_count": 34,
   "metadata": {
    "collapsed": true
   },
   "outputs": [],
   "source": [
    "def init_tf_vars(n_act):\n",
    "    \"\"\"Initialize tensorflow variables\"\"\"\n",
    "    state = tf.placeholder(\"float\", [None,28, 28, 4])\n",
    "    action = tf.placeholder(tf.int32, [None, 2])\n",
    "    td_target = tf.placeholder(\"float\", [None, 1])\n",
    "    reward = tf.placeholder(\"float\", [None, 1])\n",
    "    is_terminal = tf.placeholder(\"float\", [None, 1])\n",
    "    return state, action, td_target, reward, is_terminal"
   ]
  },
  {
   "cell_type": "markdown",
   "metadata": {},
   "source": [
    "# DO NOT RUN CELLS UNTIL LOAD CELL BELOW UNTIL LOAD CELL"
   ]
  },
  {
   "cell_type": "code",
   "execution_count": 12,
   "metadata": {
    "collapsed": true
   },
   "outputs": [],
   "source": [
    "#  parameters\n",
    "max_steps = 1000000\n",
    "t_freq = 50000  # test every t_freq steps\n",
    "test_episodes = 100\n",
    "max_eps_length = 10000000\n",
    "gamma = 0.99\n",
    "max_buffer_size = 200000\n",
    "batch_size = 32\n",
    "alpha = 0.001\n",
    "up_freq = 5000  # copy weights\n",
    "epsilon = 0.01\n",
    "\n",
    "\n",
    "# Variables to store results/counts\n",
    "mean_FCL= []\n",
    "mean_SL = []\n",
    "mean_opp_list= []\n",
    "loss_list=[]\n",
    "mean_cum_rewards = []\n",
    "counts_so_far = 0\n",
    "game = 'MsPacman-v3'\n",
    "name = 'Boxing'"
   ]
  },
  {
   "cell_type": "code",
   "execution_count": 14,
   "metadata": {
    "collapsed": false
   },
   "outputs": [],
   "source": [
    "\n",
    "# train and test env\n",
    "env = gym.make(game)  \n",
    "test_env = gym.make(game)  \n",
    "n_act = env.action_space.n\n",
    "\n",
    "state, action, td_target, reward, is_terminal = init_tf_vars(n_act)\n",
    "target = target_Q(state, reward, is_terminal, n_act, gamma=gamma)\n",
    "opt, q, loss = Q_net(state, action, td_target, n_act, alpha=alpha)\n",
    "init = tf.global_variables_initializer()\n",
    "saver = tf.train.Saver()\n",
    "relpay_buff = exp_replay(batch_size, max_buffer_size)  # initialize buffer\n",
    "start = time.time()\n"
   ]
  },
  {
   "cell_type": "code",
   "execution_count": null,
   "metadata": {
    "collapsed": false
   },
   "outputs": [],
   "source": [
    "#Run the training\n",
    "\n",
    "with tf.Session() as sess:\n",
    "    sess.run(init)\n",
    "\n",
    "    while counts_so_far <= max_steps: # run for 1000000 steps\n",
    "        env, s, obs = get_state(env)  # get initial state (4 frames), this also calls env.reset\n",
    "        end = False\n",
    "\n",
    "        #Run a single episode and perform Q update\n",
    "        for t in range(max_eps_length):\n",
    "            counts_so_far += 1\n",
    "\n",
    "            \n",
    "            q_now = sess.run(q, feed_dict={state: s.reshape(-1, 28, 28, 4)})\n",
    "            a = ep_grred(q_now, epsilon, env)\n",
    "            next_obs, r, done, info = env.step(a)\n",
    "            r = clip_rewards(r)\n",
    "\n",
    "            s_prime = update_state(s, obs)\n",
    "            if done:\n",
    "                terminal = 0\n",
    "                end = True\n",
    "            else:\n",
    "                terminal = 1\n",
    "\n",
    "            # Update buffer and perform mini-batch Q update\n",
    "            relpay_buff.replay_update(s, a, r, s_prime, terminal)\n",
    "            if relpay_buff.buff_large():\n",
    "                \n",
    "                \n",
    "                this_dict, targ_dict = relpay_buff.samp_buff(state, action, reward, is_terminal)\n",
    "                \n",
    "                targ = sess.run(target, feed_dict=targ_dict)\n",
    "                \n",
    "                this_dict[td_target] = targ\n",
    "                _, l = sess.run([opt, loss], feed_dict=this_dict)\n",
    "                \n",
    "                loss_list.append(l)\n",
    "\n",
    "            # copy current network parameters\n",
    "            if counts_so_far % up_freq == 0:\n",
    "                print(\"\\n#------- copy parameters at step {}\".format(counts_so_far))\n",
    "                print(\"#------- Total time elapsed = %s\\n\" % str(time.time()-start))\n",
    "                \n",
    "                training_variables = tf.trainable_variables() \n",
    "                copy_vars_to_target(training_variables, sess)\n",
    "                saver.save(sess, './new_models/PartB/'+name+'/B3'+game)\n",
    "\n",
    "            # Evaluate on 100 episodes every 50,000 steps \n",
    "            if counts_so_far % t_freq == 0:\n",
    "                score_list, op_s_list, frame_count_list, cum_rewards_list = [], [], [], []\n",
    "\n",
    "                print(\"\\n# Running %d episodes for testing for step %d\" % (test_episodes, counts_so_far))\n",
    "                print(\"#------- Total time elapsed = %s\\n\" % str(time.time()-start))\n",
    "                for episode in range(test_episodes):\n",
    "                    print('running epsisode:{}'.format(episode+1))\n",
    "                    \n",
    "                    score = op_s = frame_count = cum_reward = 0\n",
    "                    \n",
    "                    test_env, s_test, test_obs = get_state(test_env)\n",
    "                    # loop t\n",
    "                    for test_t in range(max_eps_length):\n",
    "                        \n",
    "                        q_now = sess.run(q, feed_dict={state: s_test.reshape(1, 28, 28, 4)})\n",
    "                        a = np.argmax(q_now)\n",
    "                        next_state_t, r2, done, info = test_env.step(a)\n",
    "                        cum_reward += clip_rewards(r2) * gamma**test_t\n",
    "\n",
    "                        if r2 > 0:\n",
    "                            score += r2\n",
    "                        else:\n",
    "                            op_s -= r2\n",
    "\n",
    "                        s_prime_test = update_state(s_test, test_obs)\n",
    "\n",
    "                        if done:\n",
    "                            score_list.append(score)\n",
    "                            op_s_list.append(op_s)\n",
    "                            frame_count_list.append(test_t+1)\n",
    "                            cum_rewards_list.append(cum_reward)\n",
    "                            break\n",
    "                        s_test = s_prime_test\n",
    "                        test_obs = next_state_t\n",
    "\n",
    "                ## Update results lists\n",
    "                mean_SL.append(np.array(np.mean(score_list)))\n",
    "                mean_opp_list.append(np.array(np.mean(op_s_list)))\n",
    "                mean_FCL.append(np.array(np.mean(frame_count_list)))\n",
    "                mean_cum_rewards.append(np.array(np.mean(cum_rewards_list)))\n",
    "\n",
    "               \n",
    "\n",
    "                print('saving model...')\n",
    "                saver.save(sess, './new_models/PartB/'+name+'/B3'+game)\n",
    "               \n",
    "                np.save(filename, saved_results)\n",
    "                filename = './results/B3loss_'+game+'.npy'\n",
    "                np.save(filename, loss_list)\n",
    "\n",
    "            if end:\n",
    "                break\n",
    "            s = s_prime\n",
    "            obs = next_obs\n",
    "\n"
   ]
  },
  {
   "cell_type": "code",
   "execution_count": 13,
   "metadata": {
    "collapsed": false
   },
   "outputs": [
    {
     "name": "stdout",
     "output_type": "stream",
     "text": [
      "Populating the interactive namespace from numpy and matplotlib\n"
     ]
    },
    {
     "name": "stderr",
     "output_type": "stream",
     "text": [
      "C:\\Users\\Alex\\Anaconda3\\envs\\Assignment_3\\lib\\site-packages\\IPython\\core\\magics\\pylab.py:161: UserWarning: pylab import has clobbered these variables: ['random', 'datetime', 'get_state', 'resize']\n",
      "`%matplotlib` prevents importing * from pylab and numpy\n",
      "  \"\\n`%matplotlib` prevents importing * from pylab and numpy\"\n"
     ]
    }
   ],
   "source": [
    "%pylab inline\n",
    "pylab.rcParams['figure.figsize'] = (10, 6)"
   ]
  },
  {
   "cell_type": "markdown",
   "metadata": {},
   "source": [
    "Plot the loss over training"
   ]
  },
  {
   "cell_type": "code",
   "execution_count": 21,
   "metadata": {
    "collapsed": false
   },
   "outputs": [
    {
     "data": {
      "image/png": "[encoded data removed]",
      "text/plain": [
       "<matplotlib.figure.Figure at 0x1f8e6ec6630>"
      ]
     },
     "metadata": {},
     "output_type": "display_data"
    }
   ],
   "source": [
    "x_ax = np.linspace(0,len(loss_list),len(loss_list))\n",
    "fig = plt.figure()\n",
    "plt.plot(x_ax,loss_list) # plotting t,a separately\n",
    "fig.suptitle('Loss during training', fontsize=20)\n",
    "plt.xlabel('Step', fontsize=18)\n",
    "plt.ylabel('Loss', fontsize=16)\n",
    "plt.ylim(ymax = 0.1, ymin = 0)\n",
    "\n",
    "plt.show()\n",
    "\n",
    "fig.savefig('./results/B3_loss_'+game+'.jpg')"
   ]
  },
  {
   "cell_type": "code",
   "execution_count": 35,
   "metadata": {
    "collapsed": false
   },
   "outputs": [
    {
     "name": "stderr",
     "output_type": "stream",
     "text": [
      "C:\\Users\\Alex\\Anaconda3\\envs\\Assignment_3\\lib\\site-packages\\matplotlib\\axes\\_axes.py:545: UserWarning: No labelled objects found. Use label='...' kwarg on individual plots.\n",
      "  warnings.warn(\"No labelled objects found. \"\n"
     ]
    },
    {
     "data": {
      "image/png": "[encoded data removed]",
      "text/plain": [
       "<matplotlib.figure.Figure at 0x226cb2dee48>"
      ]
     },
     "metadata": {},
     "output_type": "display_data"
    }
   ],
   "source": [
    "x_ax = np.linspace(0,1000000-1,len(mean_SL))\n",
    "fig = plt.figure()\n",
    "plt.plot(x_ax,mean_SL) # plotting t,a separately\n",
    "fig.suptitle('Performance after every 50,000 steps', fontsize=20)\n",
    "legend = plt.legend(loc='lower right', shadow=True)\n",
    "plt.xlabel('Step', fontsize=18)\n",
    "plt.ylabel('Score', fontsize=16)\n",
    "#plt.ylim(ymax = 0.5, ymin = 0)\n",
    "plt.show()\n",
    "fig.savefig('./results/pics/B3_score_'+game+'.jpg')"
   ]
  },
  {
   "cell_type": "markdown",
   "metadata": {},
   "source": [
    "## RUN FROM HERE"
   ]
  },
  {
   "cell_type": "code",
   "execution_count": 12,
   "metadata": {
    "collapsed": true
   },
   "outputs": [],
   "source": [
    "def totuple(a):\n",
    "    try:\n",
    "        return tuple(totuple(i) for i in a)\n",
    "    except TypeError:\n",
    "        return a"
   ]
  },
  {
   "cell_type": "code",
   "execution_count": 13,
   "metadata": {
    "collapsed": false
   },
   "outputs": [
    {
     "name": "stdout",
     "output_type": "stream",
     "text": [
      "The results for MsPacman-V3 were:\n",
      "Mean score = 161.300000, stdev score = 41.464563,computer score 0.000000, stddev 0.000000,mean frame count 736.730000, stddev 83.748654, mean reward = 4.267406, stdev r = 0.750235\n",
      "\n",
      "The results for Pong-V3 were:\n",
      "Mean score = 0.200000, stdev score = 0.400000,computer score 21.000000, stddev 0.000000,mean frame count 1217.400000, stddev 476.334378, mean reward = -0.869525, stdev r = 0.535989\n",
      "\n",
      "The results for Boxing-V3 were:\n",
      "Mean score = 9.300000, stdev score = 3.100000,computer score 34.700000, stddev 9.241753,mean frame count 2368.500000, stddev 9.383496, mean reward = -0.259456, stdev r = 0.197055\n",
      "\n"
     ]
    }
   ],
   "source": [
    "games = ['MsPacman-V3','Pong-V3','Boxing-V3']\n",
    "for i in range(3):\n",
    "    game =games[i]\n",
    "    filename = './results/B3results_'+game+'.npy'\n",
    "    restored_data = np.load(filename)\n",
    "    \n",
    "    print('The results for {} were:'.format(game))\n",
    "    print(\"Mean score = %f, stdev score = %f,computer score %f, stddev %f,mean frame count %f, stddev %f, mean reward = %f, stdev r = %f\\n\" % totuple(restored_data))"
   ]
  },
  {
   "cell_type": "markdown",
   "metadata": {},
   "source": [
    "# Load Model\n",
    "To restore the model of each game, run the cell with the game file first then run the model below"
   ]
  },
  {
   "cell_type": "markdown",
   "metadata": {},
   "source": [
    "## MsPacman"
   ]
  },
  {
   "cell_type": "code",
   "execution_count": 14,
   "metadata": {
    "collapsed": false
   },
   "outputs": [
    {
     "name": "stdout",
     "output_type": "stream",
     "text": [
      "./new_models/B3MsPacman-v3\n"
     ]
    }
   ],
   "source": [
    "name = 'MsPacman'\n",
    "game = 'MsPacman-v3'\n",
    "file_name =  './new_models/B3'+game\n",
    "save_MDir = './new_models/'\n",
    "save_model = os.path.join(save_MDir,file_name)\n",
    "init = tf.global_variables_initializer()\n",
    "restore_file = './new_models/PartB/'+name+'/B3'+game\n",
    "#restored_data = np.load(restore_file)\n",
    "print(file_name)"
   ]
  },
  {
   "cell_type": "markdown",
   "metadata": {},
   "source": [
    "## Boxing"
   ]
  },
  {
   "cell_type": "code",
   "execution_count": 27,
   "metadata": {
    "collapsed": false
   },
   "outputs": [
    {
     "name": "stdout",
     "output_type": "stream",
     "text": [
      "./new_models/B3Boxing-v3\n"
     ]
    }
   ],
   "source": [
    "name = 'Boxing'\n",
    "game = 'Boxing-v3'\n",
    "file_name =  './new_models/B3'+game\n",
    "save_MDir = './new_models/'\n",
    "save_model = os.path.join(save_MDir,file_name)\n",
    "init = tf.global_variables_initializer()\n",
    "restore_file = './new_models/PartB/'+name+'/B3'+game\n",
    "#restored_data = np.load(restore_file)\n",
    "print(file_name)"
   ]
  },
  {
   "cell_type": "markdown",
   "metadata": {},
   "source": [
    "## Pong"
   ]
  },
  {
   "cell_type": "code",
   "execution_count": 36,
   "metadata": {
    "collapsed": false
   },
   "outputs": [
    {
     "name": "stdout",
     "output_type": "stream",
     "text": [
      "./new_models/B3Pong-v3\n"
     ]
    }
   ],
   "source": [
    "name = 'Pong'\n",
    "game = 'Pong-v3'\n",
    "file_name =  './new_models/B3'+game\n",
    "save_MDir = './new_models/'\n",
    "save_model = os.path.join(save_MDir,file_name)\n",
    "init = tf.global_variables_initializer()\n",
    "restore_file = './new_models/PartB/'+name+'/B3'+game\n",
    "#restored_data = np.load(restore_file)\n",
    "print(file_name)"
   ]
  },
  {
   "cell_type": "markdown",
   "metadata": {},
   "source": [
    "## Test model for 100 episodes"
   ]
  },
  {
   "cell_type": "code",
   "execution_count": null,
   "metadata": {
    "collapsed": false
   },
   "outputs": [],
   "source": [
    "# test and train enviroments\n",
    "tf.reset_default_graph()\n",
    "\n",
    "env = gym.make(game)  \n",
    "test_env = gym.make(game) \n",
    "n_act = env.action_space.n\n",
    "gamma = 0.99\n",
    "alpha = 0.001\n",
    "test_episodes = 5\n",
    "max_eps_length= 10000000\n",
    "state, action, td_target, reward, is_terminal = init_tf_vars(n_act)\n",
    "target = target_Q(state, reward, is_terminal, n_act, gamma=gamma)\n",
    "opt, q, loss = Q_net(state, action, td_target, n_act, alpha=alpha)\n",
    "init = tf.global_variables_initializer()\n",
    "saver = tf.train.Saver()\n",
    "\n",
    "start = time.time()\n",
    "\n",
    "\n",
    "with tf.Session() as sess:\n",
    "    sess.run(init)\n",
    "    \n",
    "    start = time.time()\n",
    "    score_list, op_s_list, frame_count_list, cum_rewards_list = [], [], [], []\n",
    "    \n",
    "    \n",
    "    print(\"Running 100 test episodes\")\n",
    "    for episode in range(test_episodes):\n",
    "        #\n",
    "        \n",
    "        print('running episode: {}'.format(episode+1))\n",
    "        score = op_s = frame_count = cum_reward = 0\n",
    "        \n",
    "\n",
    "        test_env, s_test, test_obs = get_state(test_env)\n",
    "        \n",
    "\n",
    "        saver.restore(sess = sess, save_path= restore_file)\n",
    "        for test_t in range(max_eps_length):\n",
    "            q_now = sess.run(q, feed_dict={state: s_test.reshape(1, 28, 28, 4)})\n",
    "            a = np.argmax(q_now)\n",
    "            next_state_t, r2, done, info = test_env.step(a)\n",
    "            cum_reward += clip_rewards(r2) * gamma**test_t\n",
    "\n",
    "            if r2 > 0:\n",
    "                score += r2\n",
    "            else:\n",
    "                op_s -= r2\n",
    "\n",
    "            s_prime_test = update_state(s_test, test_obs)\n",
    "\n",
    "            if done:\n",
    "                score_list.append(score)\n",
    "                op_s_list.append(op_s)\n",
    "                frame_count_list.append(test_t+1)\n",
    "                cum_rewards_list.append(cum_reward)\n",
    "                break\n",
    "            s_test = s_prime_test\n",
    "            test_obs = next_state_t\n",
    "\n",
    "\n",
    "    # Print results\n",
    "    result_list = (np.mean(np.array(score_list)), np.std(np.array(score_list)), \n",
    "                     np.mean(np.array(frame_count_list)), np.std(np.array(frame_count_list)))\n",
    "    print(\"\\nMean score = %f, stdev score = %f, mean frame count = %f, stdev frame count = %f\" % result_list)"
   ]
  },
  {
   "cell_type": "code",
   "execution_count": null,
   "metadata": {
    "collapsed": true
   },
   "outputs": [],
   "source": []
  }
 ],
 "metadata": {
  "kernelspec": {
   "display_name": "Python [conda env:Assignment_3]",
   "language": "python",
   "name": "conda-env-Assignment_3-py"
  },
  "language_info": {
   "codemirror_mode": {
    "name": "ipython",
    "version": 3
   },
   "file_extension": ".py",
   "mimetype": "text/x-python",
   "name": "python",
   "nbconvert_exporter": "python",
   "pygments_lexer": "ipython3",
   "version": "3.5.2"
  }
 },
 "nbformat": 4,
 "nbformat_minor": 2
}
