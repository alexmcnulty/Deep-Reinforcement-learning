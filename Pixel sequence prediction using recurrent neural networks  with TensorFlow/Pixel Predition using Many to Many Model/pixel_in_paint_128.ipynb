{
 "cells": [
  {
   "cell_type": "markdown",
   "metadata": {},
   "source": [
    "# Task 2b)\n",
    "Caculate the cost and visualize the in paintings for 32 64 and 128 models.\n",
    "Note that the models have to be changed manually but if it is run it will run the 128 model on the 300 length sequecne."
   ]
  },
  {
   "cell_type": "code",
   "execution_count": 1,
   "metadata": {
    "collapsed": true
   },
   "outputs": [],
   "source": [
    "%matplotlib inline\n",
    "import matplotlib.pyplot as plt\n",
    "import tensorflow as tf\n",
    "import numpy as np\n",
    "from sklearn.metrics import confusion_matrix\n",
    "import time\n",
    "from datetime import timedelta\n",
    "import math\n",
    "import os\n",
    "import pdb\n",
    "import matplotlib.image as mpimg\n",
    "import matplotlib.cm as cm\n",
    "from itertools import chain\n",
    "import random"
   ]
  },
  {
   "cell_type": "code",
   "execution_count": 2,
   "metadata": {
    "collapsed": false
   },
   "outputs": [
    {
     "name": "stdout",
     "output_type": "stream",
     "text": [
      "Extracting data/MNIST/train-images-idx3-ubyte.gz\n",
      "Extracting data/MNIST/train-labels-idx1-ubyte.gz\n",
      "Extracting data/MNIST/t10k-images-idx3-ubyte.gz\n",
      "Extracting data/MNIST/t10k-labels-idx1-ubyte.gz\n"
     ]
    }
   ],
   "source": [
    "# Need to load the MNist data to work with\n",
    "from tensorflow.examples.tutorials.mnist import input_data\n",
    "mnist = input_data.read_data_sets(\"data/MNIST/\", one_hot=True)\n",
    "# one hot true gives the y labels as vectors with 1's which correspond to the number it is"
   ]
  },
  {
   "cell_type": "code",
   "execution_count": 3,
   "metadata": {
    "collapsed": false
   },
   "outputs": [
    {
     "name": "stdout",
     "output_type": "stream",
     "text": [
      "The size of the data that we will be working with:\n",
      "train set: 55000 \n",
      "valid set: 5000 \n",
      "test set: 10000 \n"
     ]
    }
   ],
   "source": [
    "print('The size of the data that we will be working with:')\n",
    "print('train set: {} '.format(len(mnist.train.labels)))\n",
    "print('valid set: {} '.format(len(mnist.validation.labels)))\n",
    "print('test set: {} '.format(len(mnist.test.labels)))"
   ]
  },
  {
   "cell_type": "markdown",
   "metadata": {},
   "source": [
    "### Main RNN function"
   ]
  },
  {
   "cell_type": "code",
   "execution_count": 4,
   "metadata": {
    "collapsed": true
   },
   "outputs": [],
   "source": [
    "def RNN_predict(seq_len,input_pixels,rnn_size,weights,biases):\n",
    "\n",
    "\n",
    "    probs = []\n",
    "\n",
    "    # GRU layer\n",
    "    gru_cell = tf.nn.rnn_cell.GRUCell(num_units=rnn_size)\n",
    "    \n",
    "    outputs, state = tf.nn.dynamic_rnn(cell=gru_cell, dtype=tf.float32, inputs=input_pixels)\n",
    "    # Shape outputs so its batch size=100*484, rnn_size=32\n",
    "    outputs = tf.reshape(outputs, [-1, rnn_size])\n",
    "    \n",
    "    # affine transformation\n",
    "    outputs = tf.matmul(outputs, weights) + biases\n",
    "    \n",
    "    # Reshape so that (batch size,pix_len)\n",
    "    outputs = tf.reshape(tf.nn.sigmoid(outputs), [-1, 484])\n",
    "\n",
    "    # 100 images, take the last output for all images.\n",
    "    output = tf.reshape(outputs[:, -1], [100, 1, 1])\n",
    "    # reshape the probabilites to be row vec and append as the first pediction\n",
    "    probs.append(tf.reshape(output, [100, 1]))\n",
    "   \n",
    "    tf.get_variable_scope().reuse_variables()\n",
    "    \n",
    "    # Here the next 10, 28, 300 pixels are predicted.\n",
    "    # Try frist using threshold of 0.5, ie rounding, for the outputs of the probabilites\n",
    "    # Then we need to the output of each pixel as input for the next cell\n",
    "    # sample later with the binomial.\n",
    "    # Since the input is 1 time step only one output.\n",
    "    for i in range(seq_len-1):\n",
    "        \n",
    "        # update the state each time\n",
    "        output, state = tf.nn.dynamic_rnn(cell=gru_cell, dtype=tf.float32, inputs=tf.round(output), initial_state=state)\n",
    "        output = tf.reshape(output, [-1, rnn_size])\n",
    "        output = tf.matmul(output, weights) + biases\n",
    "        output = tf.nn.sigmoid(output)\n",
    "        # need to reshape the probability to be easily stored\n",
    "        probs.append(tf.reshape(output, [100, 1]))\n",
    "        # reshape the output for the next input\n",
    "        output = tf.reshape(output, [100, 1, 1])\n",
    "        \n",
    "    \n",
    "    return probs"
   ]
  },
  {
   "cell_type": "markdown",
   "metadata": {},
   "source": [
    "### Binarize function for images"
   ]
  },
  {
   "cell_type": "code",
   "execution_count": 5,
   "metadata": {
    "collapsed": false
   },
   "outputs": [],
   "source": [
    "def binarize(images, threshold=0.1):\n",
    "    return (threshold < images).astype('float32')"
   ]
  },
  {
   "cell_type": "markdown",
   "metadata": {},
   "source": [
    "### Parameters and placeholders"
   ]
  },
  {
   "cell_type": "code",
   "execution_count": 6,
   "metadata": {
    "collapsed": false
   },
   "outputs": [],
   "source": [
    "n_classes = 10\n",
    "batch_size = 100\n",
    "chunk_size = 1\n",
    "n_chunks = 784\n",
    "rnn_size = 128\n",
    "first_pix = 484\n",
    "seq_len = 300\n",
    "full = first_pix+seq_len\n",
    "sampled_seq_list =[]\n",
    "cost_list=[]\n",
    "cost_values = []\n",
    "n_samples = 10\n",
    "random.seed(10)\n",
    "model = 128\n",
    "\n",
    "# Define the placeholders that will be used\n",
    "x = tf.placeholder('float', [None, 484,chunk_size])\n",
    "y = tf.placeholder('float',name='LabelData')\n",
    "\n",
    "# Taking the first 484 pixels of the fitst 100 images\n",
    "x_in_paint = x[:,0:first_pix,:]\n",
    "\n",
    "logs_path = '/tmp/tensorflow_logs/example'"
   ]
  },
  {
   "cell_type": "markdown",
   "metadata": {},
   "source": [
    "### Define weights to be reloaded later"
   ]
  },
  {
   "cell_type": "code",
   "execution_count": 7,
   "metadata": {
    "collapsed": true
   },
   "outputs": [],
   "source": [
    "weights = tf.Variable(tf.random_normal([rnn_size, 1]))\n",
    "biases =  tf.Variable(tf.random_normal([1]))"
   ]
  },
  {
   "cell_type": "markdown",
   "metadata": {},
   "source": [
    "Get ready for session"
   ]
  },
  {
   "cell_type": "code",
   "execution_count": 8,
   "metadata": {
    "collapsed": false
   },
   "outputs": [],
   "source": [
    "probs = RNN_predict(seq_len,x,rnn_size,weights,biases)"
   ]
  },
  {
   "cell_type": "code",
   "execution_count": 9,
   "metadata": {
    "collapsed": false
   },
   "outputs": [],
   "source": [
    "init = tf.global_variables_initializer()\n",
    "with tf.Session() as sess:    \n",
    "    sess.run(init)\n",
    "    \n",
    "    save_MDir = 'models/Task2/gru128/'\n",
    "    #save_MDir = 'models/Task2/gru32/'\n",
    "    #save_MDir = 'models/Task2/gru64/'\n",
    "    \n",
    "    save_model = os.path.join(save_MDir,'best_accuracy_3')\n",
    "    saver2restore = tf.train.Saver()\n",
    "    saver2restore.restore(sess = sess, save_path= save_model)\n",
    "\n",
    "    \n",
    "    batch_x = mnist.test.images[:batch_size,:484]\n",
    "    batch_x = binarize(batch_x)\n",
    "    batch_x = batch_x.reshape(batch_size,484,chunk_size)\n",
    "    batch_y = mnist.test.labels[:batch_size]\n",
    "    \n",
    "    # main work done here\n",
    "    pix_probs = sess.run(probs,feed_dict={x:batch_x})\n",
    "              "
   ]
  },
  {
   "cell_type": "code",
   "execution_count": 10,
   "metadata": {
    "collapsed": false
   },
   "outputs": [
    {
     "data": {
      "text/plain": [
       "300"
      ]
     },
     "execution_count": 10,
     "metadata": {},
     "output_type": "execute_result"
    }
   ],
   "source": [
    "len(pix_probs)"
   ]
  },
  {
   "cell_type": "markdown",
   "metadata": {},
   "source": [
    "### Cost\n",
    "Need to get the images ready and calculate the Xent between the sample pixels and the likelihood aswell as of the ground truth of truth and the pixel sequence."
   ]
  },
  {
   "cell_type": "code",
   "execution_count": 11,
   "metadata": {
    "collapsed": false
   },
   "outputs": [],
   "source": [
    "pix_probs = np.stack(pix_probs,axis = 1).reshape(batch_size,seq_len)"
   ]
  },
  {
   "cell_type": "code",
   "execution_count": 12,
   "metadata": {
    "collapsed": false
   },
   "outputs": [
    {
     "name": "stdout",
     "output_type": "stream",
     "text": [
      "(100, 300)\n"
     ]
    }
   ],
   "source": [
    "# Need to get the last 300 pixels from the test images to calculate the Xent\n",
    "im_test = binarize(mnist.test.images[:batch_size,-300:])\n",
    "print(im_test.shape)"
   ]
  },
  {
   "cell_type": "code",
   "execution_count": 13,
   "metadata": {
    "collapsed": false
   },
   "outputs": [],
   "source": [
    "sampled_seq_list =[]\n",
    "cost_list=[]\n",
    "cost_values = []\n",
    "for k in range(n_samples):\n",
    "    if seq_len>1:\n",
    "        # need to sample from the probabilies. Here a binomial distrbution is used to see if a the pixel is 1 or 0\n",
    "        sampled_seq = np.random.binomial(n = 1, p = pix_probs)\n",
    "        \n",
    "        sampled_costs = -np.sum(sampled_seq*np.log(pix_probs)+(1-sampled_seq)*np.log(1-pix_probs),axis = 1)\n",
    "        cost_list.append(sampled_costs)\n",
    "        \n",
    "        # Get the n_sample costs\n",
    "        cost_values.append(np.sum(sampled_costs))\n",
    "        \n",
    "        sampled_seq_list.append(sampled_seq)\n",
    "        \n",
    "        \n",
    "        # add the binarized sequence to list to \n",
    "    # For the 1 pixel prediction case just round.\n",
    "    else:\n",
    "        \n",
    "        # do the same for the one pixel case\n",
    "        binarize_pixel = np.random.binomial(n = 1, p = pix_probs)\n",
    "        sampled_costs = -np.sum(binarize_pixel*np.log(pix_probs)+(1-binarize_pixel)*(np.log(1-pix_probs)))\n",
    "        cost_values.append(sampled_costs)\n",
    "        sampled_seq_list.append(binarize_pixel)\n",
    "        "
   ]
  },
  {
   "cell_type": "code",
   "execution_count": 14,
   "metadata": {
    "collapsed": false
   },
   "outputs": [
    {
     "name": "stdout",
     "output_type": "stream",
     "text": [
      "The cost for the sampled sequences of length 300 is: 17.9087\n",
      "The cost for the sampled sequences of length 300 with the Ground Truth is: 114.732\n"
     ]
    }
   ],
   "source": [
    "# Get the loss: \n",
    "#between the sampled seq and the pred prob:\n",
    "Final_sample_cost = sum(cost_values)/(len(cost_values)*batch_size)\n",
    "print('The cost for the sampled sequences of length {} is: {:.6}'.format(seq_len,Final_sample_cost))\n",
    "\n",
    "# Ground truth and pred_probb:\n",
    "GT_costs = -np.sum(im_test[:,:seq_len]*np.log(pix_probs)+(1-im_test[:,:seq_len])*np.log(1-pix_probs),axis = 1)\n",
    "GT_costs = np.sum(GT_costs)\n",
    "Final_GT_cost = GT_costs/batch_size\n",
    "print('The cost for the sampled sequences of length {} with the Ground Truth is: {:.6}'.format(seq_len,Final_GT_cost))\n"
   ]
  },
  {
   "cell_type": "markdown",
   "metadata": {},
   "source": [
    "### Print images\n",
    "Need to find the images which represent good, bad and high variance predictions. Using the cost as a measure of how well a prediction does, the indices are found to be used later on."
   ]
  },
  {
   "cell_type": "code",
   "execution_count": 15,
   "metadata": {
    "collapsed": false
   },
   "outputs": [
    {
     "name": "stdout",
     "output_type": "stream",
     "text": [
      "[37, 82, 13]\n"
     ]
    }
   ],
   "source": [
    "# since a the cost is a list of vectors, need to stack then\n",
    "# on top of each other in order to work with them easier\n",
    "if seq_len > 1:\n",
    "    costs = np.stack(cost_list, axis = 1)\n",
    "\n",
    "    # Take in the n samples for the 100 images, and take the average\n",
    "    # of the samples for each pixel. Take the higher mean to \n",
    "    # be the best prediction, the min to be the worst.\n",
    "    mean_costs = np.mean(costs,axis =1)\n",
    "\n",
    "    # Good has lowest mean cost, bad has high and high variacne is the max variance of the cost across the samples.\n",
    "    good = np.argmin(mean_costs)\n",
    "    bad = np.argmax(mean_costs)\n",
    "    var_ind = np.var(costs,axis =1)\n",
    "    ugly = np.argmax(var_ind)\n",
    "    # find the good the bad the high variance costs.\n",
    "    im_indexes = [good,bad,ugly]\n",
    "    print(im_indexes)"
   ]
  },
  {
   "cell_type": "code",
   "execution_count": 16,
   "metadata": {
    "collapsed": false
   },
   "outputs": [],
   "source": [
    "# find the good the bad the high variance costs.\n",
    "#im_indexes = [good,bad,ugly]\n",
    "#print(im_indexes)\n",
    "# Define the test images and split them into the intial 484 and the prediction image parts.\n",
    "test_images = binarize(mnist.test.images[0:100,:])\n",
    "test_484 = test_images[:,0:first_pix]\n",
    "test_end = test_images[:,first_pix:]\n",
    "#10 = [69, 27, 15]\n",
    "#28 = [37, 27, 52]\n",
    "#300 = [2, 68, 30]\n",
    "if seq_len ==10:\n",
    "    im_indexes = [69, 27, 15]\n",
    "if seq_len ==28:\n",
    "    im_indexes = [37, 27, 52]\n",
    "if seq_len ==300:\n",
    "    im_indexes = [2, 68, 30]   "
   ]
  },
  {
   "cell_type": "code",
   "execution_count": 17,
   "metadata": {
    "collapsed": false
   },
   "outputs": [],
   "source": [
    "def print_pred(seq_len, n_samples,im_indexes,test_images, model ,n_chunks=784):\n",
    "    pred_images_good =[]\n",
    "    pred_images_bad =[]\n",
    "    pred_images_ugly =[]\n",
    "    seq_ind = first_pix+seq_len \n",
    "    good = im_indexes[0]\n",
    "    bad = im_indexes[1]\n",
    "    ugly = im_indexes[2]\n",
    "    test_484 = test_images[:,0:first_pix]\n",
    "    test_end = test_images[:,first_pix:]\n",
    "    test_end_mask = test_end\n",
    "    test_end_mask[:,seq_len:] = 0.6\n",
    "\n",
    "    for i in range(n_samples):\n",
    "        \n",
    "        sampled_seqs = sampled_seq_list[i]\n",
    "        sampled_seqs_good = sampled_seqs[good,:]\n",
    "        sampled_seqs_bad = sampled_seqs[bad,:]\n",
    "        sampled_seqs_ugly = sampled_seqs[ugly,:]\n",
    "        \n",
    "        sampled_seqs_good = np.append(test_484[good,:],sampled_seqs_good,axis = 0)\n",
    "        sampled_seqs_bad = np.append(test_484[bad,:],sampled_seqs_bad,axis = 0)\n",
    "        sampled_seqs_ugly = np.append(test_484[ugly,:],sampled_seqs_ugly,axis = 0)\n",
    "\n",
    "        pred_seqs_good = np.append(sampled_seqs_good,test_end_mask[good,seq_len:].reshape(1,(n_chunks-seq_ind))).reshape(28,28)\n",
    "        pred_seqs_bad = np.append(sampled_seqs_bad,test_end_mask[bad,seq_len:].reshape(1,(n_chunks-seq_ind))).reshape(28,28)\n",
    "        pred_seqs_ugly = np.append(sampled_seqs_ugly,test_end_mask[ugly,seq_len:].reshape(1,(n_chunks-seq_ind))).reshape(28,28)\n",
    "\n",
    "        pred_images_good.append(pred_seqs_good)\n",
    "        pred_images_bad.append(pred_seqs_bad)\n",
    "        pred_images_ugly.append(pred_seqs_ugly)\n",
    "        \n",
    "        #pred_images_good.append(sampled_seqs_good)\n",
    "        #pred_images_bad.append(sampled_seqs_bad)\n",
    "        #pred_images_ugly.append(sampled_seqs_ugly)        \n",
    "\n",
    "    pred_images = list(chain(pred_images_good,pred_images_bad,pred_images_ugly))    \n",
    "    #print(len(pred_images))\n",
    "\n",
    "\n",
    "    GT_images = []\n",
    "    for i in range(len(im_indexes)):\n",
    "        ind = im_indexes[i]\n",
    "        im = test_images[ind,:].reshape(28,28)\n",
    "        GT_images.append(im)\n",
    "\n",
    "\n",
    "\n",
    "    f, axarr = plt.subplots(3,6)\n",
    "    count = 0\n",
    "    string = ['Good', 'Bad', 'Var']\n",
    "    for i in range(3):\n",
    "        for j in range(6):\n",
    "            if j == 5:\n",
    "                axarr[i,j].imshow(GT_images[i],  cmap=\"jet\")\n",
    "                axarr[i,j].set_title(\"{} GT\".format(string[i]))\n",
    "                axarr[i,j].axis('off')\n",
    "            else:   \n",
    "                axarr[i,j].imshow(pred_images[count],  cmap=\"jet\")\n",
    "                axarr[i,j].set_title(\"{}\".format(string[i]))\n",
    "                axarr[i,j].axis('off')\n",
    "                count+=1\n",
    "    plt.tight_layout()\n",
    "    #plt.savefig('C:/Users/Alex/.ipython/CW2/models/Task2/images/GRU%d_pred_images_%d.png' % (model,seq_len), dpi =150)\n",
    "    plt.show()"
   ]
  },
  {
   "cell_type": "code",
   "execution_count": 18,
   "metadata": {
    "collapsed": false
   },
   "outputs": [
    {
     "data": {
      "image/png": "[encoded data removed]",
      "text/plain": [
       "<matplotlib.figure.Figure at 0x2505b77bf60>"
      ]
     },
     "metadata": {},
     "output_type": "display_data"
    }
   ],
   "source": [
    "# use the print function for the longer sequences to get muliple images\n",
    "if seq_len>1:\n",
    "    print_pred(seq_len, 5 ,im_indexes,test_images,rnn_size,n_chunks=784)\n",
    "\n",
    "    \n",
    "elif seq_len ==1:\n",
    "    im1 = 1\n",
    "    seq_ind = first_pix+seq_len \n",
    "    test_484 = test_images[:,0:first_pix]\n",
    "    test_end = test_images[:,first_pix:]\n",
    "    test_end_mask = test_end\n",
    "    test_end_mask[:,seq_len:] = 0.6   \n",
    "    sampled_seqs = sampled_seq_list[im1]\n",
    "    sampled_seqs_good = sampled_seqs[im1,:]\n",
    "    sampled_seqs_good = np.append(test_484[im1,:],sampled_seqs_good,axis = 0)\n",
    "    pred_seqs_good = np.append(sampled_seqs_good,test_end_mask[im1,seq_len:].reshape(1,(n_chunks-seq_ind))).reshape(28,28)\n",
    "    plt.tick_params(\n",
    "    axis='both',          # changes apply to the x-axis\n",
    "    which='both',      # both major and minor ticks are affected\n",
    "    bottom='off',      # ticks along the bottom edge are off\n",
    "    top='off',         # ticks along the top edge are off\n",
    "    labelbottom='off') # labels along the bottom edge are off\n",
    "    plt.title('One Pixel')\n",
    "    plt.axis('off')\n",
    "    plt.tight_layout()\n",
    "\n",
    "    \n",
    "    plt.imshow(pred_seqs_good, cmap='jet')\n",
    "    #plt.savefig('C:/Users/Alex/.ipython/CW2/models/Task2/images/GRU%d_pred_images_%d.png' % (rnn_size,seq_len), dpi =150)"
   ]
  },
  {
   "cell_type": "code",
   "execution_count": 19,
   "metadata": {
    "collapsed": false
   },
   "outputs": [
    {
     "data": {
      "image/png": "[encoded data removed]",
      "text/plain": [
       "<matplotlib.figure.Figure at 0x25024c60400>"
      ]
     },
     "metadata": {},
     "output_type": "display_data"
    }
   ],
   "source": [
    "plt.imshow(binarize(mnist.test.images[0:100,:])[1,:].reshape(28,28), cmap='jet')\n",
    "#plt.savefig('C:/Users/Alex/.ipython/CW2/models/Task2/images/one_pix_gt.png' , dpi =150)"
   ]
  },
  {
   "cell_type": "markdown",
   "metadata": {
    "collapsed": true
   },
   "source": [
    "#"
   ]
  }
 ],
 "metadata": {
  "kernelspec": {
   "display_name": "Python [conda root]",
   "language": "python",
   "name": "conda-root-py"
  },
  "language_info": {
   "codemirror_mode": {
    "name": "ipython",
    "version": 3
   },
   "file_extension": ".py",
   "mimetype": "text/x-python",
   "name": "python",
   "nbconvert_exporter": "python",
   "pygments_lexer": "ipython3",
   "version": "3.5.2"
  }
 },
 "nbformat": 4,
 "nbformat_minor": 2
}
