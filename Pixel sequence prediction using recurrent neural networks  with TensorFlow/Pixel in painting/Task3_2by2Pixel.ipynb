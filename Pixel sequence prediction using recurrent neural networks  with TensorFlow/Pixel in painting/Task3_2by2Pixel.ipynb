{
 "cells": [
  {
   "cell_type": "markdown",
   "metadata": {},
   "source": [
    "# Task 3: 2X2 pixel inpainting\n",
    "In this part we need to get the most likely image given both past and futre pixels. In order to do this, all possible outcomes(pixel predictions) are compared and the outcomes of the lowest cost are chossen. This time there is 16 possible outcomes"
   ]
  },
  {
   "cell_type": "code",
   "execution_count": 1,
   "metadata": {
    "collapsed": true
   },
   "outputs": [],
   "source": [
    "%matplotlib inline\n",
    "import matplotlib.pyplot as plt\n",
    "import tensorflow as tf\n",
    "import numpy as np\n",
    "from sklearn.metrics import confusion_matrix\n",
    "import time\n",
    "from datetime import timedelta\n",
    "import math\n",
    "import os\n",
    "import pdb\n",
    "import matplotlib.image as mpimg\n",
    "import matplotlib.cm as cm\n",
    "from itertools import chain\n",
    "import random\n",
    "import copy\n",
    "import pdb"
   ]
  },
  {
   "cell_type": "code",
   "execution_count": 2,
   "metadata": {
    "collapsed": false
   },
   "outputs": [
    {
     "name": "stdout",
     "output_type": "stream",
     "text": [
      "Extracting data/MNIST/train-images-idx3-ubyte.gz\n",
      "Extracting data/MNIST/train-labels-idx1-ubyte.gz\n",
      "Extracting data/MNIST/t10k-images-idx3-ubyte.gz\n",
      "Extracting data/MNIST/t10k-labels-idx1-ubyte.gz\n"
     ]
    }
   ],
   "source": [
    "# Need to load the MNist data to work with\n",
    "from tensorflow.examples.tutorials.mnist import input_data\n",
    "mnist = input_data.read_data_sets(\"data/MNIST/\", one_hot=True)\n",
    "# one hot true gives the y labels as vectors with 1's which correspond to the number it is"
   ]
  },
  {
   "cell_type": "code",
   "execution_count": 3,
   "metadata": {
    "collapsed": true
   },
   "outputs": [],
   "source": [
    "# load images\n",
    "twobytwopixels_inpainting = np.load('2X2_pixels_inpainting.npy')"
   ]
  },
  {
   "cell_type": "code",
   "execution_count": 4,
   "metadata": {
    "collapsed": true
   },
   "outputs": [],
   "source": [
    "# find the missing pixels\n",
    "missing_pixels = twobytwopixels_inpainting[0,:,:]\n",
    "pic_GT = twobytwopixels_inpainting[1,:,:]\n",
    "miss_pix_ind = np.where(missing_pixels == -1)"
   ]
  },
  {
   "cell_type": "code",
   "execution_count": 5,
   "metadata": {
    "collapsed": false
   },
   "outputs": [],
   "source": [
    "# reshpape into useable shape\n",
    "miss_pix_ind =miss_pix_ind[1].reshape(1000,4)"
   ]
  },
  {
   "cell_type": "code",
   "execution_count": 6,
   "metadata": {
    "collapsed": true
   },
   "outputs": [],
   "source": [
    "# need to copy the missing pixel image 16 times\n",
    "# should have used the np.repeat but didn't find it till after\n",
    "\n",
    "pixels_0000 = copy.deepcopy(missing_pixels)\n",
    "\n",
    "pixels_1000 = copy.deepcopy(missing_pixels)\n",
    "pixels_0100 = copy.deepcopy(missing_pixels)\n",
    "pixels_0010 = copy.deepcopy(missing_pixels)\n",
    "pixels_0001 = copy.deepcopy(missing_pixels)\n",
    "\n",
    "pixels_1100 = copy.deepcopy(missing_pixels)\n",
    "pixels_1010 = copy.deepcopy(missing_pixels)\n",
    "pixels_1001 = copy.deepcopy(missing_pixels)\n",
    "pixels_0110 = copy.deepcopy(missing_pixels)\n",
    "pixels_0101 = copy.deepcopy(missing_pixels)\n",
    "pixels_0011 = copy.deepcopy(missing_pixels)\n",
    "\n",
    "pixels_1110 = copy.deepcopy(missing_pixels)\n",
    "pixels_1101 = copy.deepcopy(missing_pixels)\n",
    "pixels_1011 = copy.deepcopy(missing_pixels)\n",
    "pixels_0111 = copy.deepcopy(missing_pixels)\n",
    "pixels_1111 = copy.deepcopy(missing_pixels)\n"
   ]
  },
  {
   "cell_type": "markdown",
   "metadata": {},
   "source": [
    "Need to create the images with the correct missing pixel sequence for the 16 possible combinations."
   ]
  },
  {
   "cell_type": "code",
   "execution_count": 7,
   "metadata": {
    "collapsed": false
   },
   "outputs": [],
   "source": [
    "# do it for the easy cases\n",
    "for i in range(1000):\n",
    "    pixels_0000[i,miss_pix_ind[i,:]] = 0\n",
    "    pixels_1111[i,miss_pix_ind[i,:]] = 1"
   ]
  },
  {
   "cell_type": "code",
   "execution_count": 8,
   "metadata": {
    "collapsed": false
   },
   "outputs": [],
   "source": [
    "# Do it for the 14 other images\n",
    "for i in range(1000):\n",
    "    for j in range(miss_pix_ind.shape[1]):\n",
    "        if j == 0:\n",
    "            pixels_1000[i,miss_pix_ind[i,j]] = 1\n",
    "            pixels_0100[i,miss_pix_ind[i,j]] = 0\n",
    "            pixels_0010[i,miss_pix_ind[i,j]] = 0\n",
    "            pixels_0001[i,miss_pix_ind[i,j]] = 0\n",
    "\n",
    "            pixels_1100[i,miss_pix_ind[i,j]] = 1\n",
    "            pixels_1010[i,miss_pix_ind[i,j]] = 1\n",
    "            pixels_1001[i,miss_pix_ind[i,j]] = 1\n",
    "            pixels_0110[i,miss_pix_ind[i,j]] = 0\n",
    "            pixels_0101[i,miss_pix_ind[i,j]] = 0\n",
    "            pixels_0011[i,miss_pix_ind[i,j]] = 0\n",
    "\n",
    "            pixels_1110[i,miss_pix_ind[i,j]] = 1\n",
    "            pixels_1101[i,miss_pix_ind[i,j]] = 1\n",
    "            pixels_1011[i,miss_pix_ind[i,j]] = 1\n",
    "            pixels_0111[i,miss_pix_ind[i,j]] = 0\n",
    "             \n",
    "            \n",
    "\n",
    "        elif j == 1:\n",
    "            pixels_1000[i,miss_pix_ind[i,j]] = 0\n",
    "            pixels_0100[i,miss_pix_ind[i,j]] = 1\n",
    "            pixels_0010[i,miss_pix_ind[i,j]] = 0\n",
    "            pixels_0001[i,miss_pix_ind[i,j]] = 0\n",
    "\n",
    "            pixels_1100[i,miss_pix_ind[i,j]] = 1\n",
    "            pixels_1010[i,miss_pix_ind[i,j]] = 0\n",
    "            pixels_1001[i,miss_pix_ind[i,j]] = 0\n",
    "            pixels_0110[i,miss_pix_ind[i,j]] = 1\n",
    "            pixels_0101[i,miss_pix_ind[i,j]] = 1\n",
    "            pixels_0011[i,miss_pix_ind[i,j]] = 0\n",
    "\n",
    "            pixels_1110[i,miss_pix_ind[i,j]] = 1\n",
    "            pixels_1101[i,miss_pix_ind[i,j]] = 1\n",
    "            pixels_1011[i,miss_pix_ind[i,j]] = 0\n",
    "            pixels_0111[i,miss_pix_ind[i,j]] = 1      \n",
    "            \n",
    "        elif j == 2:\n",
    "            pixels_1000[i,miss_pix_ind[i,j]] = 0\n",
    "            pixels_0100[i,miss_pix_ind[i,j]] = 0\n",
    "            pixels_0010[i,miss_pix_ind[i,j]] = 1\n",
    "            pixels_0001[i,miss_pix_ind[i,j]] = 0\n",
    "\n",
    "            pixels_1100[i,miss_pix_ind[i,j]] = 0\n",
    "            pixels_1010[i,miss_pix_ind[i,j]] = 1\n",
    "            pixels_1001[i,miss_pix_ind[i,j]] = 0\n",
    "            pixels_0110[i,miss_pix_ind[i,j]] = 1\n",
    "            pixels_0101[i,miss_pix_ind[i,j]] = 0\n",
    "            pixels_0011[i,miss_pix_ind[i,j]] = 1\n",
    "\n",
    "            pixels_1110[i,miss_pix_ind[i,j]] = 1\n",
    "            pixels_1101[i,miss_pix_ind[i,j]] = 0\n",
    "            pixels_1011[i,miss_pix_ind[i,j]] = 1\n",
    "            pixels_0111[i,miss_pix_ind[i,j]] = 1         \n",
    "        \n",
    "        elif j == 3:\n",
    "            pixels_1000[i,miss_pix_ind[i,j]] = 0\n",
    "            pixels_0100[i,miss_pix_ind[i,j]] = 0\n",
    "            pixels_0010[i,miss_pix_ind[i,j]] = 0\n",
    "            pixels_0001[i,miss_pix_ind[i,j]] = 1\n",
    "\n",
    "            pixels_1100[i,miss_pix_ind[i,j]] = 0\n",
    "            pixels_1010[i,miss_pix_ind[i,j]] = 0\n",
    "            pixels_1001[i,miss_pix_ind[i,j]] = 1\n",
    "            pixels_0110[i,miss_pix_ind[i,j]] = 0\n",
    "            pixels_0101[i,miss_pix_ind[i,j]] = 1\n",
    "            pixels_0011[i,miss_pix_ind[i,j]] = 1\n",
    "\n",
    "            pixels_1110[i,miss_pix_ind[i,j]] = 0\n",
    "            pixels_1101[i,miss_pix_ind[i,j]] = 1\n",
    "            pixels_1011[i,miss_pix_ind[i,j]] = 1\n",
    "            pixels_0111[i,miss_pix_ind[i,j]] = 1            "
   ]
  },
  {
   "cell_type": "code",
   "execution_count": 9,
   "metadata": {
    "collapsed": false
   },
   "outputs": [],
   "source": [
    "def RNN_predict(input_pixels,gt_pixels,rnn_size):\n",
    "\n",
    "\n",
    "    probs = []\n",
    "\n",
    "    # GRU layer\n",
    "    gru_cell = tf.nn.rnn_cell.GRUCell(num_units=rnn_size)\n",
    "    outputs, state = tf.nn.dynamic_rnn(cell=gru_cell, dtype=tf.float32, inputs=input_pixels)\n",
    "    # Shape outputs so its batch size=100*484, rnn_size=32\n",
    "    outputs = tf.reshape(outputs, [-1, rnn_size])\n",
    "    \n",
    "    # affine transformation\n",
    "    outputs = tf.matmul(outputs, weights) + biases\n",
    "    \n",
    "    # Reshape so that (batch size,pix_len)\n",
    "    sampled = tf.reshape(input_pixels,[-1, 784])\n",
    "    #gt = tf.reshape(gt_pixels,[-1, 784])\n",
    "    gt = gt_pixels\n",
    "    logits = tf.reshape((outputs), [-1, 784])\n",
    "    # Calculate the cost between the ground truth image and the probs(outcomes)    \n",
    "    cost_gt_out = -tf.reduce_sum(tf.nn.sigmoid_cross_entropy_with_logits(targets=gt[:,1:], logits=logits[:,:-1]), axis = 1)\n",
    "    \n",
    "    # Calculate the cost between the image you sampled and the probs(outcomes)    \n",
    "    cost_sample = -tf.reduce_sum(tf.nn.sigmoid_cross_entropy_with_logits(targets=sampled[:,1:], logits=logits[:,:-1]), axis = 1)\n",
    "    \n",
    "    #outputs = tf.reshape(tf.nn.sigmoid(outputs), [-1, 784])\n",
    "    return cost_sample,cost_gt_out\n",
    "   "
   ]
  },
  {
   "cell_type": "markdown",
   "metadata": {},
   "source": [
    "Set up the placeholders, variables and parameters"
   ]
  },
  {
   "cell_type": "code",
   "execution_count": 10,
   "metadata": {
    "collapsed": true
   },
   "outputs": [],
   "source": [
    "n_classes = 10\n",
    "batch_size = 100\n",
    "chunk_size = 1\n",
    "n_chunks = 784\n",
    "rnn_size = 128\n",
    "first_pix = 484\n",
    "#seq_len = 10\n",
    "#\n",
    "#full = first_pix+seq_len\n",
    "sampled_seq_list =[]\n",
    "cost_list=[]\n",
    "cost_values = []\n",
    "n_samples = 10\n",
    "random.seed(10)\n",
    "seq_len = miss_pix_ind\n",
    "\n",
    "# Define the placeholders that will be used\n",
    "x = tf.placeholder('float', [None, n_chunks,chunk_size])\n",
    "y = tf.placeholder('float', [None, n_chunks])\n",
    "\n",
    "# Taking the first 484 pixels of the fitst 100 images\n",
    "x_in_paint = x[:,0:first_pix,:]\n",
    "\n",
    "logs_path = '/tmp/tensorflow_logs/example'"
   ]
  },
  {
   "cell_type": "code",
   "execution_count": 11,
   "metadata": {
    "collapsed": true
   },
   "outputs": [],
   "source": [
    "weights = tf.Variable(tf.random_normal([rnn_size, 1]))\n",
    "biases =  tf.Variable(tf.random_normal([1]))"
   ]
  },
  {
   "cell_type": "code",
   "execution_count": 12,
   "metadata": {
    "collapsed": true
   },
   "outputs": [],
   "source": [
    "def binarize(images, threshold=0.1):\n",
    "    return (threshold < images).astype('float32')"
   ]
  },
  {
   "cell_type": "code",
   "execution_count": 13,
   "metadata": {
    "collapsed": false
   },
   "outputs": [],
   "source": [
    "# Set up the graph to be run\n",
    "cost_sampled, cost_gt = RNN_predict(x,y,rnn_size)"
   ]
  },
  {
   "cell_type": "code",
   "execution_count": 14,
   "metadata": {
    "collapsed": false
   },
   "outputs": [],
   "source": [
    "# Store the images in a list\n",
    "pixel_list = []\n",
    "\n",
    "pixel_list.append(pixels_0000)\n",
    "pixel_list.append(pixels_1000)\n",
    "pixel_list.append(pixels_0100)\n",
    "pixel_list.append(pixels_0010)\n",
    "pixel_list.append(pixels_0001)\n",
    "pixel_list.append(pixels_1100)\n",
    "pixel_list.append(pixels_1010)\n",
    "pixel_list.append(pixels_1001)\n",
    "pixel_list.append(pixels_0110)\n",
    "pixel_list.append(pixels_0101)\n",
    "pixel_list.append(pixels_0011)\n",
    "pixel_list.append(pixels_1110)\n",
    "pixel_list.append(pixels_1101)\n",
    "pixel_list.append(pixels_1011)\n",
    "pixel_list.append(pixels_0111)\n",
    "pixel_list.append(pixels_1111)"
   ]
  },
  {
   "cell_type": "code",
   "execution_count": 15,
   "metadata": {
    "collapsed": false
   },
   "outputs": [
    {
     "name": "stdout",
     "output_type": "stream",
     "text": [
      "Time to process 1 set of images: 5.104594469070435\n",
      "Time to process 2 set of images: 10.282800674438477\n",
      "Time to process 3 set of images: 15.241260528564453\n",
      "Time to process 4 set of images: 20.360339879989624\n",
      "Time to process 5 set of images: 25.114092588424683\n",
      "Time to process 6 set of images: 30.072290658950806\n",
      "Time to process 7 set of images: 34.910362243652344\n",
      "Time to process 8 set of images: 39.79884219169617\n",
      "Time to process 9 set of images: 45.01382899284363\n",
      "Time to process 10 set of images: 51.213409662246704\n",
      "Time to process 11 set of images: 56.38880705833435\n",
      "Time to process 12 set of images: 61.421570777893066\n",
      "Time to process 13 set of images: 66.47544884681702\n",
      "Time to process 14 set of images: 71.53541445732117\n",
      "Time to process 15 set of images: 76.37879085540771\n",
      "Time to process 16 set of images: 81.40509486198425\n"
     ]
    }
   ],
   "source": [
    "init = tf.global_variables_initializer()\n",
    "cost_samp_list = []\n",
    "cost_gt_list = []\n",
    "with tf.Session() as sess:    \n",
    "    sess.run(init)\n",
    "    start = time.time()\n",
    "    save_MDir = 'models/Task2/gru128/'\n",
    "    save_model = os.path.join(save_MDir,'best_accuracy_3')\n",
    "    saver2restore = tf.train.Saver()\n",
    "    saver2restore.restore(sess = sess, save_path= save_model)\n",
    "    \n",
    "    # feed in each image and calculate the gt cost and the sampled cost for each set of images\n",
    "    for image in range(len(pixel_list)):\n",
    "        \n",
    "        batch_x = pixel_list[image]\n",
    "        batch_x = binarize(batch_x)\n",
    "        batch_x = batch_x.reshape(1000,784,chunk_size)\n",
    "\n",
    "        # main work done here\n",
    "        cost_samp,cost_gts = sess.run([cost_sampled,cost_gt],feed_dict={x:batch_x, y:pic_GT})\n",
    "        cost_samp_list.append(cost_samp)\n",
    "        cost_gt_list.append(cost_gts)\n",
    "        print('Time to process {} set of images: {}'.format(image+1,time.time()-start))\n",
    "       \n",
    "    \n",
    "  "
   ]
  },
  {
   "cell_type": "markdown",
   "metadata": {},
   "source": [
    "Need to find the image which has the lowest cost. Stack them all togerther and take the argmax(since its negative)"
   ]
  },
  {
   "cell_type": "code",
   "execution_count": 16,
   "metadata": {
    "collapsed": false
   },
   "outputs": [],
   "source": [
    "compare = cost_samp_list[0]\n",
    "\n",
    "compare =compare.reshape(1000,1)\n",
    "count = 1\n",
    "for i in range(len(cost_samp_list)-1):\n",
    "    #pdb.set_trace()\n",
    "    compare = np.append(compare,cost_samp_list[count].reshape(1000,1),axis=1)\n",
    "    count+=1"
   ]
  },
  {
   "cell_type": "code",
   "execution_count": 17,
   "metadata": {
    "collapsed": true
   },
   "outputs": [],
   "source": [
    "predictions = np.argmax(compare, axis = 1)"
   ]
  },
  {
   "cell_type": "code",
   "execution_count": 18,
   "metadata": {
    "collapsed": false
   },
   "outputs": [],
   "source": [
    "# get the possible sequence in an array\n",
    "list_miss_numbers = []\n",
    "\n",
    "list_miss_numbers.append([0,0,0,0])\n",
    "list_miss_numbers.append([1,0,0,0])\n",
    "list_miss_numbers.append([0,1,0,0])\n",
    "list_miss_numbers.append([0,0,1,0])\n",
    "list_miss_numbers.append([0,0,0,1])\n",
    "list_miss_numbers.append([1,1,0,0])\n",
    "list_miss_numbers.append([1,0,1,0])\n",
    "list_miss_numbers.append([1,0,0,1])\n",
    "list_miss_numbers.append([0,1,1,0])\n",
    "list_miss_numbers.append([0,1,0,1])\n",
    "list_miss_numbers.append([0,0,1,1])\n",
    "list_miss_numbers.append([1,1,1,0])\n",
    "list_miss_numbers.append([1,1,0,1])\n",
    "list_miss_numbers.append([1,0,1,1])\n",
    "list_miss_numbers.append([0,1,1,1])\n",
    "list_miss_numbers.append([1,1,1,1])\n",
    "\n",
    "list_miss_numbers = np.asarray(list_miss_numbers)\n"
   ]
  },
  {
   "cell_type": "markdown",
   "metadata": {},
   "source": [
    "Need to do the same as one pixel case but need to compare over 16 images. Each does the same but for the specific sequnece. Here the smapled cost and ground truth cost are calculated for the predicted list of images."
   ]
  },
  {
   "cell_type": "code",
   "execution_count": 19,
   "metadata": {
    "collapsed": false
   },
   "outputs": [],
   "source": [
    "ml_Xent = 0\n",
    "gt_Xent =0\n",
    "pred_image = []\n",
    "accuracy = 0\n",
    "accuracy_pixel = 0\n",
    "count =0\n",
    "\n",
    "mistake_list = []\n",
    "\n",
    "for i in range(1000):\n",
    "    if predictions[i]==0:\n",
    "        k = predictions[i]\n",
    "        ml_Xent += -cost_samp_list[k][i]\n",
    "        gt_Xent += -cost_gt_list[k][i]\n",
    "        pred_image.append(pixel_list[k][i,:])\n",
    "        count+=1\n",
    "        for pix in range (4):\n",
    "            if list_miss_numbers[k,pix] == pic_GT[i, miss_pix_ind[i,pix]]:\n",
    "                accuracy_pixel+=1\n",
    "                \n",
    "        if all(list_miss_numbers[k,:] == pic_GT[i, miss_pix_ind[i,:]]):\n",
    "            accuracy +=1\n",
    "        else:            \n",
    "            mistake_list.append(i)\n",
    "            \n",
    "    elif predictions[i]==1:\n",
    "        k = predictions[i]\n",
    "        ml_Xent += -cost_samp_list[k][i]\n",
    "        gt_Xent += -cost_gt_list[k][i]\n",
    "        pred_image.append(pixel_list[k][i,:])\n",
    "        count+=1\n",
    "        for pix in range (4):\n",
    "            if list_miss_numbers[k,pix] == pic_GT[i, miss_pix_ind[i,pix]]:\n",
    "                accuracy_pixel+=1\n",
    "\n",
    "        if all(list_miss_numbers[k,:] == pic_GT[i, miss_pix_ind[i,:]]):\n",
    "            accuracy +=1\n",
    "        else:            \n",
    "            mistake_list.append(i)\n",
    "    elif predictions[i]==2:\n",
    "        k = predictions[i]\n",
    "        ml_Xent += -cost_samp_list[k][i]\n",
    "        gt_Xent += -cost_gt_list[k][i]\n",
    "        pred_image.append(pixel_list[k][i,:])\n",
    "        count+=1\n",
    "        for pix in range (4):\n",
    "            if list_miss_numbers[k,pix] == pic_GT[i, miss_pix_ind[i,pix]]:\n",
    "                accuracy_pixel+=1\n",
    "        \n",
    "        if all(list_miss_numbers[k,:] == pic_GT[i, miss_pix_ind[i,:]]):\n",
    "            accuracy +=1\n",
    "        else:            \n",
    "            mistake_list.append(i)\n",
    "    elif predictions[i]==3:\n",
    "        k = predictions[i]\n",
    "        ml_Xent += -cost_samp_list[k][i]\n",
    "        gt_Xent += -cost_gt_list[k][i]\n",
    "        pred_image.append(pixel_list[k][i,:])\n",
    "        count+=1\n",
    "        for pix in range (4):\n",
    "            if list_miss_numbers[k,pix] == pic_GT[i, miss_pix_ind[i,pix]]:\n",
    "                accuracy_pixel+=1\n",
    "        \n",
    "        if all(list_miss_numbers[k,:] == pic_GT[i, miss_pix_ind[i,:]]):\n",
    "            accuracy +=1\n",
    "        else:            \n",
    "            mistake_list.append(i)\n",
    "            \n",
    "    elif predictions[i]==4:\n",
    "        k = predictions[i]\n",
    "        ml_Xent += -cost_samp_list[k][i]\n",
    "        gt_Xent += -cost_gt_list[k][i]\n",
    "        pred_image.append(pixel_list[k][i,:])\n",
    "        count+=1\n",
    "        for pix in range (4):\n",
    "            if list_miss_numbers[k,pix] == pic_GT[i, miss_pix_ind[i,pix]]:\n",
    "                accuracy_pixel+=1\n",
    "        \n",
    "        if all(list_miss_numbers[k,:] == pic_GT[i, miss_pix_ind[i,:]]):\n",
    "            accuracy +=1\n",
    "        else:            \n",
    "            mistake_list.append(i)\n",
    "            \n",
    "            \n",
    "    elif predictions[i]==5:\n",
    "        k = predictions[i]\n",
    "        ml_Xent += -cost_samp_list[k][i]\n",
    "        gt_Xent += -cost_gt_list[k][i]\n",
    "        pred_image.append(pixel_list[k][i,:])\n",
    "        count+=1\n",
    "        for pix in range (4):\n",
    "            if list_miss_numbers[k,pix] == pic_GT[i, miss_pix_ind[i,pix]]:\n",
    "                accuracy_pixel+=1\n",
    "        \n",
    "        if all(list_miss_numbers[k,:] == pic_GT[i, miss_pix_ind[i,:]]):\n",
    "            accuracy +=1\n",
    "        else:            \n",
    "            mistake_list.append(i)\n",
    "            \n",
    "    elif predictions[i]==6:\n",
    "        k = predictions[i]\n",
    "        ml_Xent += -cost_samp_list[k][i]\n",
    "        gt_Xent += -cost_gt_list[k][i]\n",
    "        pred_image.append(pixel_list[k][i,:])\n",
    "        count+=1\n",
    "        for pix in range (4):\n",
    "            if list_miss_numbers[k,pix] == pic_GT[i, miss_pix_ind[i,pix]]:\n",
    "                accuracy_pixel+=1\n",
    "        \n",
    "        if all(list_miss_numbers[k,:] == pic_GT[i, miss_pix_ind[i,:]]):\n",
    "            accuracy +=1\n",
    "        else:            \n",
    "            mistake_list.append(i)\n",
    "            \n",
    "    elif predictions[i]==7:\n",
    "        k = predictions[i]\n",
    "        ml_Xent += -cost_samp_list[k][i]\n",
    "        gt_Xent += -cost_gt_list[k][i]\n",
    "        pred_image.append(pixel_list[k][i,:])\n",
    "        count+=1\n",
    "        for pix in range (4):\n",
    "            if list_miss_numbers[k,pix] == pic_GT[i, miss_pix_ind[i,pix]]:\n",
    "                accuracy_pixel+=1\n",
    "        \n",
    "        if all(list_miss_numbers[k,:] == pic_GT[i, miss_pix_ind[i,:]]):\n",
    "            accuracy +=1\n",
    "        else:            \n",
    "            mistake_list.append(i)\n",
    "            \n",
    "    elif predictions[i]==8:\n",
    "        k = predictions[i]\n",
    "        ml_Xent += -cost_samp_list[k][i]\n",
    "        gt_Xent += -cost_gt_list[k][i]\n",
    "        pred_image.append(pixel_list[k][i,:])\n",
    "        count+=1\n",
    "        for pix in range (4):\n",
    "            if list_miss_numbers[k,pix] == pic_GT[i, miss_pix_ind[i,pix]]:\n",
    "                accuracy_pixel+=1\n",
    "        \n",
    "        if all(list_miss_numbers[k,:] == pic_GT[i, miss_pix_ind[i,:]]):\n",
    "            accuracy +=1\n",
    "        else:            \n",
    "            mistake_list.append(i)\n",
    "            \n",
    "    elif predictions[i]==9:\n",
    "        k = predictions[i]\n",
    "        ml_Xent += -cost_samp_list[k][i]\n",
    "        gt_Xent += -cost_gt_list[k][i]\n",
    "        pred_image.append(pixel_list[k][i,:])\n",
    "        count+=1\n",
    "        for pix in range (4):\n",
    "            if list_miss_numbers[k,pix] == pic_GT[i, miss_pix_ind[i,pix]]:\n",
    "                accuracy_pixel+=1\n",
    "        \n",
    "        if all(list_miss_numbers[k,:] == pic_GT[i, miss_pix_ind[i,:]]):\n",
    "            accuracy +=1\n",
    "        else:            \n",
    "            mistake_list.append(i)\n",
    "            \n",
    "    elif predictions[i]==10:\n",
    "        k = predictions[i]\n",
    "        ml_Xent += -cost_samp_list[k][i]\n",
    "        gt_Xent += -cost_gt_list[k][i]\n",
    "        pred_image.append(pixel_list[k][i,:])\n",
    "        count+=1\n",
    "        for pix in range (4):\n",
    "            if list_miss_numbers[k,pix] == pic_GT[i, miss_pix_ind[i,pix]]:\n",
    "                accuracy_pixel+=1\n",
    "        \n",
    "        if all(list_miss_numbers[k,:] == pic_GT[i, miss_pix_ind[i,:]]):\n",
    "            accuracy +=1\n",
    "        else:            \n",
    "            mistake_list.append(i)\n",
    "            \n",
    "    elif predictions[i]==11:\n",
    "        k = predictions[i]\n",
    "        ml_Xent += -cost_samp_list[k][i]\n",
    "        gt_Xent += -cost_gt_list[k][i]\n",
    "        pred_image.append(pixel_list[k][i,:])\n",
    "        count+=1\n",
    "        for pix in range (4):\n",
    "            if list_miss_numbers[k,pix] == pic_GT[i, miss_pix_ind[i,pix]]:\n",
    "                accuracy_pixel+=1\n",
    "        \n",
    "        if all(list_miss_numbers[k,:] == pic_GT[i, miss_pix_ind[i,:]]):\n",
    "            accuracy +=1\n",
    "        else:            \n",
    "            mistake_list.append(i)\n",
    "            \n",
    "    elif predictions[i]==12:\n",
    "        k = predictions[i]\n",
    "        ml_Xent += -cost_samp_list[k][i]\n",
    "        gt_Xent += -cost_gt_list[k][i]\n",
    "        pred_image.append(pixel_list[k][i,:])\n",
    "        count+=1\n",
    "        for pix in range (4):\n",
    "            if list_miss_numbers[k,pix] == pic_GT[i, miss_pix_ind[i,pix]]:\n",
    "                accuracy_pixel+=1\n",
    "        \n",
    "        if all(list_miss_numbers[k,:] == pic_GT[i, miss_pix_ind[i,:]]):\n",
    "            accuracy +=1\n",
    "        else:            \n",
    "            mistake_list.append(i)\n",
    "            \n",
    "    elif predictions[i]==13:\n",
    "        k = predictions[i]\n",
    "        ml_Xent += -cost_samp_list[k][i]\n",
    "        gt_Xent += -cost_gt_list[k][i]\n",
    "        pred_image.append(pixel_list[k][i,:])\n",
    "        count+=1\n",
    "        for pix in range (4):\n",
    "            if list_miss_numbers[k,pix] == pic_GT[i, miss_pix_ind[i,pix]]:\n",
    "                accuracy_pixel+=1\n",
    "        \n",
    "        if all(list_miss_numbers[k,:] == pic_GT[i, miss_pix_ind[i,:]]):\n",
    "            accuracy +=1\n",
    "        else:            \n",
    "            mistake_list.append(i)\n",
    "            \n",
    "    elif predictions[i]==14:\n",
    "        k = predictions[i]\n",
    "        ml_Xent += -cost_samp_list[k][i]\n",
    "        gt_Xent += -cost_gt_list[k][i]\n",
    "        pred_image.append(pixel_list[k][i,:])\n",
    "        count+=1\n",
    "        for pix in range (4):\n",
    "            if list_miss_numbers[k,pix] == pic_GT[i, miss_pix_ind[i,pix]]:\n",
    "                accuracy_pixel+=1\n",
    "        \n",
    "        if all(list_miss_numbers[k,:] == pic_GT[i, miss_pix_ind[i,:]]):\n",
    "            accuracy +=1\n",
    "        else:            \n",
    "            mistake_list.append(i)\n",
    "            \n",
    "    elif predictions[i]==15:\n",
    "        k = predictions[i]\n",
    "        ml_Xent += -cost_samp_list[k][i]\n",
    "        gt_Xent += -cost_gt_list[k][i]\n",
    "        pred_image.append(pixel_list[k][i,:])\n",
    "        count+=1\n",
    "        for pix in range (4):\n",
    "            if list_miss_numbers[k,pix] == pic_GT[i, miss_pix_ind[i,pix]]:\n",
    "                accuracy_pixel+=1\n",
    "        \n",
    "        if all(list_miss_numbers[k,:] == pic_GT[i, miss_pix_ind[i,:]]):\n",
    "            accuracy +=1\n",
    "        else:            \n",
    "            mistake_list.append(i)        \n",
    "        "
   ]
  },
  {
   "cell_type": "code",
   "execution_count": 20,
   "metadata": {
    "collapsed": false
   },
   "outputs": [
    {
     "name": "stdout",
     "output_type": "stream",
     "text": [
      "The maximum likelihood average loss is: 60.7339\n",
      "The ground truth average loss is: 60.954\n",
      "The number of correctly patches is : 79.7%\n",
      "The number of correctly pixels is : 93.4%\n"
     ]
    }
   ],
   "source": [
    "print('The maximum likelihood average loss is: {:.6}'.format(ml_Xent/1000))\n",
    "print('The ground truth average loss is: {:.6}'.format(gt_Xent/1000))\n",
    "print('The number of correctly patches is : {:.1%}'.format(accuracy/1000))\n",
    "print('The number of correctly pixels is : {:.1%}'.format(accuracy_pixel/4000))"
   ]
  },
  {
   "cell_type": "markdown",
   "metadata": {},
   "source": [
    "### Save the images "
   ]
  },
  {
   "cell_type": "code",
   "execution_count": 21,
   "metadata": {
    "collapsed": false
   },
   "outputs": [
    {
     "data": {
      "text/plain": [
       "(1, 1000, 784)"
      ]
     },
     "execution_count": 21,
     "metadata": {},
     "output_type": "execute_result"
    }
   ],
   "source": [
    "submit_images = np.asarray(pred_image)\n",
    "submit_images =submit_images.reshape(1,1000,784)\n",
    "submit_images.shape"
   ]
  },
  {
   "cell_type": "code",
   "execution_count": 22,
   "metadata": {
    "collapsed": true
   },
   "outputs": [],
   "source": [
    "new_inpaintings = np.append(twobytwopixels_inpainting,submit_images,axis = 0)"
   ]
  },
  {
   "cell_type": "code",
   "execution_count": 23,
   "metadata": {
    "collapsed": true
   },
   "outputs": [],
   "source": [
    "#np.save('2X2_pixels_inpainting.npy', new_inpaintings)"
   ]
  },
  {
   "cell_type": "code",
   "execution_count": 24,
   "metadata": {
    "collapsed": true
   },
   "outputs": [],
   "source": [
    "reloaded_model =  np.load('2X2_pixels_inpainting.npy')"
   ]
  },
  {
   "cell_type": "code",
   "execution_count": 25,
   "metadata": {
    "collapsed": false
   },
   "outputs": [
    {
     "data": {
      "image/png": "[encoded data removed]",
      "text/plain": [
       "<matplotlib.figure.Figure at 0x184da2d7d68>"
      ]
     },
     "metadata": {},
     "output_type": "display_data"
    }
   ],
   "source": [
    "my_images = reloaded_model[2,:,:]\n",
    "gt_images = reloaded_model[1,:,:]\n",
    "masked_images = reloaded_model[0,:,:]\n",
    "f2, axar = plt.subplots(2, 3)\n",
    "\n",
    "#correct images\n",
    "for i in range(3):\n",
    "    axar[0, i].imshow(my_images[i,:].reshape(28,28))\n",
    "    axar[0, i].set_title('Pred {}'.format(i))\n",
    "    axar[0, i].axis('off')\n",
    "\n",
    "    axar[1, i].imshow(gt_images[i,:].reshape(28,28))\n",
    "    axar[1, i].set_title('GT {}'.format(i))\n",
    "    axar[1, i].axis('off')\n",
    "    \n",
    "f2.subplots_adjust(hspace=0.7)\n",
    "#plt.savefig('C:/Users/Alex/.ipython/CW2/models/Task2/images/2by2_good.png', dpi =150)\n",
    "plt.show()"
   ]
  },
  {
   "cell_type": "code",
   "execution_count": 26,
   "metadata": {
    "collapsed": false
   },
   "outputs": [
    {
     "data": {
      "image/png": "[encoded data removed]",
      "text/plain": [
       "<matplotlib.figure.Figure at 0x184da29d518>"
      ]
     },
     "metadata": {},
     "output_type": "display_data"
    }
   ],
   "source": [
    "f2, axar = plt.subplots(3, 3)\n",
    "#mistakes\n",
    "for i in range(3):\n",
    "    axar[0, i].imshow(my_images[mistake_list[i],:].reshape(28,28))\n",
    "    axar[0, i].set_title('Pred {}'.format(i))\n",
    "    axar[0, i].axis('off')\n",
    "    \n",
    "    axar[1, i].imshow(masked_images[mistake_list[i],:].reshape(28,28))\n",
    "    axar[1, i].set_title('mask {}'.format(i))\n",
    "    axar[1, i].axis('off')    \n",
    "    \n",
    "    \n",
    "    axar[2, i].imshow(gt_images[mistake_list[i],:].reshape(28,28))\n",
    "    axar[2, i].set_title('GT {}'.format(i))\n",
    "    axar[2, i].axis('off')\n",
    "    \n",
    "f2.subplots_adjust(hspace=0.7)\n",
    "#plt.savefig('C:/Users/Alex/.ipython/CW2/models/Task2/images/2by2_mistake.png', dpi =150)\n",
    "plt.show()"
   ]
  },
  {
   "cell_type": "code",
   "execution_count": null,
   "metadata": {
    "collapsed": true
   },
   "outputs": [],
   "source": []
  }
 ],
 "metadata": {
  "kernelspec": {
   "display_name": "Python [default]",
   "language": "python",
   "name": "python3"
  },
  "language_info": {
   "codemirror_mode": {
    "name": "ipython",
    "version": 3
   },
   "file_extension": ".py",
   "mimetype": "text/x-python",
   "name": "python",
   "nbconvert_exporter": "python",
   "pygments_lexer": "ipython3",
   "version": "3.5.2"
  }
 },
 "nbformat": 4,
 "nbformat_minor": 2
}
