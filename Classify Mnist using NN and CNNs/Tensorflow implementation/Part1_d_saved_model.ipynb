{
 "cells": [
  {
   "cell_type": "markdown",
   "metadata": {
    "collapsed": true
   },
   "source": [
    "# Run these cells to get the accuracy for part d using the saved model"
   ]
  },
  {
   "cell_type": "code",
   "execution_count": 1,
   "metadata": {
    "collapsed": true
   },
   "outputs": [],
   "source": [
    "%matplotlib inline\n",
    "import matplotlib.pyplot as plt\n",
    "import tensorflow as tf\n",
    "import numpy as np\n",
    "from sklearn.metrics import confusion_matrix\n",
    "import time\n",
    "from datetime import timedelta\n",
    "import math\n",
    "import os"
   ]
  },
  {
   "cell_type": "code",
   "execution_count": 2,
   "metadata": {
    "collapsed": false
   },
   "outputs": [
    {
     "name": "stdout",
     "output_type": "stream",
     "text": [
      "Extracting data/MNIST/train-images-idx3-ubyte.gz\n",
      "Extracting data/MNIST/train-labels-idx1-ubyte.gz\n",
      "Extracting data/MNIST/t10k-images-idx3-ubyte.gz\n",
      "Extracting data/MNIST/t10k-labels-idx1-ubyte.gz\n"
     ]
    }
   ],
   "source": [
    "# Need to load the MNist data to work with\n",
    "from tensorflow.examples.tutorials.mnist import input_data\n",
    "data = input_data.read_data_sets(\"data/MNIST/\", one_hot=True)\n",
    "# one hot true gives the y labels as vectors with 1's which correspond to the number it is"
   ]
  },
  {
   "cell_type": "code",
   "execution_count": 3,
   "metadata": {
    "collapsed": true
   },
   "outputs": [],
   "source": [
    "im_size = 28\n",
    "im_flat = im_size**2\n",
    "\n",
    "# Also have a dimsension of 10 for the one hot vectors.\n",
    "num_digits = 10\n",
    "units = 256"
   ]
  },
  {
   "cell_type": "code",
   "execution_count": 4,
   "metadata": {
    "collapsed": true
   },
   "outputs": [],
   "source": [
    "# Need to define Variables that will be optimized\n",
    "\n",
    "# The Dimensionality of the weight vector to be able to multiply with \n",
    "# x and won't havr\n",
    "def W(shape):\n",
    "    return tf.Variable(tf.truncated_normal(shape, stddev=0.05))\n",
    "    #return tf.Variable(tf.zeros(shape))\n",
    "    \n",
    "    \n",
    "def b(length):\n",
    "    return tf.Variable(tf.constant(0.05, shape=[length]))\n",
    "    #return tf.Variable(tf.zeros(length))"
   ]
  },
  {
   "cell_type": "code",
   "execution_count": 5,
   "metadata": {
    "collapsed": true
   },
   "outputs": [],
   "source": [
    "# Need to define the filter size and the number of filters\n",
    "# want (3,3,16): 16 3x3 filters\n",
    "filter_size1 = 3\n",
    "num_filters1 = 16\n",
    "\n",
    "#second convoultional layer\n",
    "filter_size2 = 3\n",
    "num_filters2= 16\n",
    "\n"
   ]
  },
  {
   "cell_type": "code",
   "execution_count": 6,
   "metadata": {
    "collapsed": true
   },
   "outputs": [],
   "source": [
    "def conv_layer(input, num_channels, filter_size,\n",
    "              num_filters, pooling =True):\n",
    "    # need to get weights and biases in the correct size as a tesnor\n",
    "    # which is a 4d tesnor.\n",
    "    shape=[filter_size,filter_size,num_channels, num_filters]\n",
    "    \n",
    "    # get the variables\n",
    "    weights = W(shape)\n",
    "    biases = b(num_filters)\n",
    "    \n",
    "    # now to create the convolution layer\n",
    "    convLayer = tf.nn.conv2d(input, filter = weights, strides =[1,1,1,1],\n",
    "                            padding = 'SAME')\n",
    "    \n",
    "    # Add the bias to each filter\n",
    "    convLayer += biases\n",
    "    \n",
    "    if pooling:\n",
    "        layer = tf.nn.max_pool(convLayer, ksize = [1,2,2,1],\n",
    "                              strides = [1,2,2,1],\n",
    "                              padding = 'SAME')\n",
    "        \n",
    "    # note that relu(max_pool(x)) == max_pool(relu(x))\n",
    "    layer = tf.nn.relu(layer)\n",
    "   \n",
    "    return layer, weights"
   ]
  },
  {
   "cell_type": "code",
   "execution_count": 7,
   "metadata": {
    "collapsed": true
   },
   "outputs": [],
   "source": [
    "def flatten(layer):\n",
    "    \n",
    "    shape = layer.get_shape()\n",
    "    # the number of features= im_height* im_width* num_channels\n",
    "    features = shape[1:4].num_elements()\n",
    "    flat_layer = tf.reshape(layer,[-1,features])\n",
    "    \n",
    "    # -1 is used lets us leave it arbitrary \n",
    "    \n",
    "    return flat_layer, features\n",
    "    "
   ]
  },
  {
   "cell_type": "code",
   "execution_count": 8,
   "metadata": {
    "collapsed": true
   },
   "outputs": [],
   "source": [
    "def fc_layer(input, num_inputs, num_outputs,use_relu=True):       \n",
    "    # The previous layer, Num. inputs from prev. layer, Num. outputs.\n",
    "    # Use ReLU?\n",
    "\n",
    "    # Create new weights and biases.\n",
    "    weights = W(shape=[num_inputs, num_outputs])\n",
    "    biases = b(length=num_outputs)\n",
    "\n",
    "    # Do the linear layer by simply doing matrix multiplication\n",
    "    # and adding the bias terms.\n",
    "    layer = tf.matmul(input, weights) + biases\n",
    "\n",
    "    # Use ReLU?\n",
    "    if use_relu:\n",
    "        layer = tf.nn.relu(layer)\n",
    "\n",
    "    return layer"
   ]
  },
  {
   "cell_type": "code",
   "execution_count": 9,
   "metadata": {
    "collapsed": true
   },
   "outputs": [],
   "source": [
    "# need placeholders for the inputs to train, x, and the true labels\n",
    "x = tf.placeholder( tf.float32, shape =[None, im_flat])\n",
    "# None is used as it the number of images to be used is not yet defined\n",
    "# possible to pass throught any size data, with 784 features(pixels)\n",
    "\n",
    "# Create a placeholder for the y labels\n",
    "y_label = tf.placeholder( tf.float32, shape = [None, num_digits])\n",
    "\n",
    "# Since y_labels are one hot vectors, get the actual digit label.\n",
    "y_digit = tf.argmax(y_label, dimension = 1)\n",
    "# Need to reshape the input x into a 4d tensor to use in the \n",
    "# convolutional layer\n",
    "\n",
    "x_conv_shape = tf.reshape(x, [-1, im_size, im_size, 1])"
   ]
  },
  {
   "cell_type": "code",
   "execution_count": 10,
   "metadata": {
    "collapsed": true
   },
   "outputs": [],
   "source": [
    "layer_conv1, weights_conv1 = \\\n",
    "    conv_layer(input=x_conv_shape,\n",
    "                   num_channels=1,\n",
    "                   filter_size=filter_size1,\n",
    "                   num_filters=num_filters1,\n",
    "                pooling=True)"
   ]
  },
  {
   "cell_type": "code",
   "execution_count": 11,
   "metadata": {
    "collapsed": true
   },
   "outputs": [],
   "source": [
    "layer_conv2, weights_conv2 = \\\n",
    "    conv_layer(input=layer_conv1,\n",
    "                   num_channels=num_filters1,\n",
    "                   filter_size=filter_size2,\n",
    "                   num_filters=num_filters2,\n",
    "                    pooling=True)"
   ]
  },
  {
   "cell_type": "code",
   "execution_count": 12,
   "metadata": {
    "collapsed": false
   },
   "outputs": [
    {
     "name": "stdout",
     "output_type": "stream",
     "text": [
      "784\n",
      "Tensor(\"Reshape_1:0\", shape=(?, 784), dtype=float32)\n"
     ]
    }
   ],
   "source": [
    "flat_layer, features = flatten(layer_conv2)\n",
    "\n",
    "# Check the size to see the number of features used\n",
    "print(features)\n",
    "print(flat_layer)"
   ]
  },
  {
   "cell_type": "code",
   "execution_count": 13,
   "metadata": {
    "collapsed": true
   },
   "outputs": [],
   "source": [
    "non_lin = fc_layer(flat_layer, features,\n",
    "                  256, use_relu=True)"
   ]
  },
  {
   "cell_type": "code",
   "execution_count": 14,
   "metadata": {
    "collapsed": true
   },
   "outputs": [],
   "source": [
    "lin_layer= fc_layer(non_lin,256, num_digits\n",
    "                    , use_relu=False)"
   ]
  },
  {
   "cell_type": "code",
   "execution_count": 15,
   "metadata": {
    "collapsed": true
   },
   "outputs": [],
   "source": [
    "y_pred = tf.nn.softmax(lin_layer)"
   ]
  },
  {
   "cell_type": "code",
   "execution_count": 16,
   "metadata": {
    "collapsed": true
   },
   "outputs": [],
   "source": [
    "y_pred_digit = tf.argmax(y_pred, dimension = 1)"
   ]
  },
  {
   "cell_type": "code",
   "execution_count": 17,
   "metadata": {
    "collapsed": true
   },
   "outputs": [],
   "source": [
    "Xent = tf.nn.softmax_cross_entropy_with_logits(lin_layer, y_label)"
   ]
  },
  {
   "cell_type": "code",
   "execution_count": 18,
   "metadata": {
    "collapsed": false
   },
   "outputs": [],
   "source": [
    "cost = tf.reduce_mean(Xent)"
   ]
  },
  {
   "cell_type": "code",
   "execution_count": 19,
   "metadata": {
    "collapsed": true
   },
   "outputs": [],
   "source": [
    "correct_prediction = tf.equal(y_pred_digit, y_digit)"
   ]
  },
  {
   "cell_type": "code",
   "execution_count": 20,
   "metadata": {
    "collapsed": true
   },
   "outputs": [],
   "source": [
    "accuracy = tf.reduce_mean(tf.cast(correct_prediction, tf.float32))"
   ]
  },
  {
   "cell_type": "code",
   "execution_count": 21,
   "metadata": {
    "collapsed": true
   },
   "outputs": [],
   "source": [
    "\n",
    "def print_acc():\n",
    "    train_dict = {x: data.train.images, y_label: data.train.labels}\n",
    "    test_dict = {x: data.test.images, y_label: data.test.labels}\n",
    "    acc_train = sess.run(accuracy,feed_dict = train_dict)\n",
    "    acc_test  = sess.run(accuracy,feed_dict = test_dict)\n",
    "    print(\"Using all the training set rater than just a batch:\\n\")\n",
    "    print(\"Training Accuracy: {0:.1%} \\n\".format(acc_train))\n",
    "    print(\"Test Accuracy: {0:.1%} \\n\".format(acc_test))"
   ]
  },
  {
   "cell_type": "code",
   "execution_count": 22,
   "metadata": {
    "collapsed": true
   },
   "outputs": [],
   "source": [
    "def plot_confusion_matrix(cm, target_names, title='Confusion matrix', cmap=plt.cm.Blues):\n",
    "    plt.imshow(conf_mat, interpolation='nearest', cmap=plt.cm.Blues)\n",
    "    plt.tight_layout()\n",
    "    plt.colorbar()\n",
    "    tick_marks = np.arange(num_digits)\n",
    "    plt.xticks(tick_marks, range(num_digits))\n",
    "    plt.yticks(tick_marks, range(num_digits))\n",
    "    plt.xlabel('Predicted')\n",
    "    plt.ylabel('True')\n",
    "    #plt.tight_layout()\n",
    "\n",
    "    width, height = cm.shape\n",
    "    \n",
    "    for x in range(width):\n",
    "        for y in range(height):\n",
    "            plt.annotate(str(cm[x][y]), xy=(y, x), \n",
    "                        horizontalalignment='center',\n",
    "                        verticalalignment='center')\n",
    "    plt.savefig(\"CM_10000d.png\", bbox_inches='tight')\n",
    "\n",
    "    plt.show()"
   ]
  },
  {
   "cell_type": "code",
   "execution_count": 23,
   "metadata": {
    "collapsed": false
   },
   "outputs": [
    {
     "name": "stdout",
     "output_type": "stream",
     "text": [
      "Restored values:\n",
      "\n",
      "Using all the training set rater than just a batch:\n",
      "\n",
      "Training Accuracy: 99.9% \n",
      "\n",
      "Test Accuracy: 98.9% \n",
      "\n"
     ]
    },
    {
     "data": {
      "image/png": "[encoded data removed]",
      "text/plain": [
       "<matplotlib.figure.Figure at 0x19312d0b2e8>"
      ]
     },
     "metadata": {},
     "output_type": "display_data"
    }
   ],
   "source": [
    "#defined the actual digits of labels again\n",
    "y_true = data.test.labels\n",
    "y_true_digit = np.argmax(y_true,axis = 1)\n",
    "\n",
    "feed_dict_test = {x: data.test.images,\n",
    "                           y_label: data.test.labels}\n",
    "save_MDir = 'models/'\n",
    "save_model = os.path.join(save_MDir,'best_accuracyd')    \n",
    "saver2restore = tf.train.Saver()\n",
    "with tf.Session() as sess:\n",
    "    sess.run(tf.global_variables_initializer())\n",
    "    saver2restore.restore(sess = sess, save_path= save_model)\n",
    "    print(\"Restored values:\\n\")    \n",
    "    print_acc()\n",
    "    # find the predicted labels\n",
    "    y_pred = sess.run(y_pred_digit, feed_dict = feed_dict_test)\n",
    "\n",
    "    # get the confusion matrix\n",
    "    conf_mat = confusion_matrix( y_true_digit,\n",
    "                             y_pred)\n",
    "    digits = np.array([np.linspace(0,9,10)])\n",
    "    plot_confusion_matrix(conf_mat, digits)"
   ]
  },
  {
   "cell_type": "markdown",
   "metadata": {
    "collapsed": true
   },
   "source": [
    "Note it will take a bit of time, a few seconds to run the print acc code. "
   ]
  },
  {
   "cell_type": "code",
   "execution_count": null,
   "metadata": {
    "collapsed": true
   },
   "outputs": [],
   "source": []
  }
 ],
 "metadata": {
  "anaconda-cloud": {},
  "kernelspec": {
   "display_name": "Python [conda root]",
   "language": "python",
   "name": "conda-root-py"
  },
  "language_info": {
   "codemirror_mode": {
    "name": "ipython",
    "version": 3
   },
   "file_extension": ".py",
   "mimetype": "text/x-python",
   "name": "python",
   "nbconvert_exporter": "python",
   "pygments_lexer": "ipython3",
   "version": "3.5.2"
  }
 },
 "nbformat": 4,
 "nbformat_minor": 1
}
