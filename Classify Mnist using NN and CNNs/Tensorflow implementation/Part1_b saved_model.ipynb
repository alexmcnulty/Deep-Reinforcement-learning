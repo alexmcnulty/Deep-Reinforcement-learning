{
 "cells": [
  {
   "cell_type": "markdown",
   "metadata": {},
   "source": [
    "# Run all cells\n",
    "To print the accuracy of the model as in the report, simply click on run all cells in the Cell tab above"
   ]
  },
  {
   "cell_type": "code",
   "execution_count": 1,
   "metadata": {
    "collapsed": true
   },
   "outputs": [],
   "source": [
    "# Need to excute this line first\n",
    "import numpy as np\n",
    "import tensorflow as tf\n",
    "import matplotlib.pyplot as plt \n",
    "from sklearn.metrics import confusion_matrix\n",
    "import os"
   ]
  },
  {
   "cell_type": "code",
   "execution_count": 2,
   "metadata": {
    "collapsed": false
   },
   "outputs": [
    {
     "name": "stdout",
     "output_type": "stream",
     "text": [
      "Extracting data/MNIST/train-images-idx3-ubyte.gz\n",
      "Extracting data/MNIST/train-labels-idx1-ubyte.gz\n",
      "Extracting data/MNIST/t10k-images-idx3-ubyte.gz\n",
      "Extracting data/MNIST/t10k-labels-idx1-ubyte.gz\n"
     ]
    }
   ],
   "source": [
    "# Need to load the MNist data to work with\n",
    "from tensorflow.examples.tutorials.mnist import input_data\n",
    "data = input_data.read_data_sets(\"data/MNIST/\", one_hot=True)\n",
    "# one hot true gives the y labels as vectors with 1's which correspond to the number it is"
   ]
  },
  {
   "cell_type": "code",
   "execution_count": 3,
   "metadata": {
    "collapsed": true
   },
   "outputs": [],
   "source": [
    "im_size = 28\n",
    "im_flat = im_size**2\n",
    "\n",
    "# Also have a dimsension of 10 for the one hot vectors.\n",
    "num_digits = 10"
   ]
  },
  {
   "cell_type": "code",
   "execution_count": 4,
   "metadata": {
    "collapsed": true
   },
   "outputs": [],
   "source": [
    "# need placeholders for the inputs to train, x, and the true labels\n",
    "x = tf.placeholder( tf.float32, shape =[None, im_flat])\n",
    "# None is used as it the number of images to be used is not yet defined\n",
    "# possible to pass throught any size data, with 784 features(pixels)\n",
    "\n",
    "# Create a placeholder for the y labels\n",
    "y_label = tf.placeholder( tf.float32, shape = [None, num_digits])\n",
    "\n",
    "# Since y_labels are one hot vectors, get the actual digit label.\n",
    "y_digit = tf.argmax(y_label, dimension = 1)\n"
   ]
  },
  {
   "cell_type": "code",
   "execution_count": 5,
   "metadata": {
    "collapsed": true
   },
   "outputs": [],
   "source": [
    "# Need to define Variables that will be optimized\n",
    "\n",
    "# The Dimensionality of the weight vector to be able to multiply with \n",
    "# x and won't havr\n",
    "def W(shape):\n",
    "    return tf.Variable(tf.truncated_normal(shape, stddev=0.05))\n",
    "    #return tf.Variable(tf.zeros(shape))\n",
    "    \n",
    "    \n",
    "def b(length):\n",
    "    return tf.Variable(tf.constant(0.05, shape=[length]))\n",
    "    #return tf.Variable(tf.zeros(length))"
   ]
  },
  {
   "cell_type": "code",
   "execution_count": 6,
   "metadata": {
    "collapsed": true
   },
   "outputs": [],
   "source": [
    "def fc_layer(input, num_inputs, num_outputs,use_relu=True):       \n",
    "    # The previous layer, Num. inputs from prev. layer, Num. outputs.\n",
    "    # Use ReLU?\n",
    "\n",
    "    # Create new weights and biases.\n",
    "    weights = W(shape=[num_inputs, num_outputs])\n",
    "    biases = b(length=num_outputs)\n",
    "\n",
    "    # Do the linear layer by simply doing matrix multiplication\n",
    "    # and adding the bias terms.\n",
    "    layer = tf.matmul(input, weights) + biases\n",
    "\n",
    "    # Use ReLU?\n",
    "    if use_relu:\n",
    "        layer = tf.nn.relu(layer)\n",
    "\n",
    "    return layer"
   ]
  },
  {
   "cell_type": "code",
   "execution_count": 7,
   "metadata": {
    "collapsed": true
   },
   "outputs": [],
   "source": [
    "layer_fc1 = fc_layer(input=x,\n",
    "                         num_inputs=im_flat,\n",
    "                         num_outputs=128,\n",
    "                         use_relu=True)"
   ]
  },
  {
   "cell_type": "code",
   "execution_count": 8,
   "metadata": {
    "collapsed": true
   },
   "outputs": [],
   "source": [
    "layer_fc2 = fc_layer(input=layer_fc1,\n",
    "                         num_inputs=128,\n",
    "                         num_outputs=num_digits,\n",
    "                         use_relu=False)"
   ]
  },
  {
   "cell_type": "code",
   "execution_count": 9,
   "metadata": {
    "collapsed": true
   },
   "outputs": [],
   "source": [
    "# Do softmax\n",
    "y_pred_label= tf.nn.softmax(layer_fc2)\n",
    "\n",
    "# Get the digit\n",
    "y_pred_digit = tf.argmax(y_pred_label, dimension = 1)"
   ]
  },
  {
   "cell_type": "code",
   "execution_count": 10,
   "metadata": {
    "collapsed": true
   },
   "outputs": [],
   "source": [
    "# As advised in the CW, the Xent loss function is used\n",
    "# Xent function in TesorFlow actually takes care of the soft max\n",
    "# layer when it takes its inputs, so will use the linear layer ouput\n",
    "# as the input\n",
    "\n",
    "Xent = tf.nn.softmax_cross_entropy_with_logits(logits = layer_fc2, labels = y_label)"
   ]
  },
  {
   "cell_type": "code",
   "execution_count": 11,
   "metadata": {
    "collapsed": true
   },
   "outputs": [],
   "source": [
    "# Need to take the average over the images for each classification\n",
    "cost = tf.reduce_mean(Xent)"
   ]
  },
  {
   "cell_type": "code",
   "execution_count": 12,
   "metadata": {
    "collapsed": false
   },
   "outputs": [],
   "source": [
    "# create a boolean of correct labels and take the average to \n",
    "# get the percentage of correctly available\n",
    "correct_label = tf.equal(y_digit,y_pred_digit)\n",
    "\n",
    "# cast is used to convert the data type to a float \n",
    "accuracy = tf.reduce_mean(tf.cast(correct_label, tf.float32))"
   ]
  },
  {
   "cell_type": "code",
   "execution_count": 13,
   "metadata": {
    "collapsed": false
   },
   "outputs": [],
   "source": [
    "train_dict = {x: data.train.images, y_label: data.train.labels}\n",
    "test_dict = {x: data.test.images, y_label: data.test.labels}\n",
    "def print_acc():\n",
    "    acc_train = sess.run(accuracy,feed_dict = train_dict)\n",
    "    acc_test  = sess.run(accuracy,feed_dict = test_dict)\n",
    "    \n",
    "    print(\"Training Accuracy: {0:.1%} \\n\".format(acc_train))\n",
    "    print(\"Test Accuracy: {0:.1%} \\n\".format(acc_test))"
   ]
  },
  {
   "cell_type": "code",
   "execution_count": 14,
   "metadata": {
    "collapsed": true
   },
   "outputs": [],
   "source": [
    "def plot_confusion_matrix(cm, target_names, title='Confusion matrix', cmap=plt.cm.Blues):\n",
    "    plt.imshow(conf_mat, interpolation='nearest', cmap=plt.cm.Blues)\n",
    "    plt.tight_layout()\n",
    "    plt.colorbar()\n",
    "    tick_marks = np.arange(num_digits)\n",
    "    plt.xticks(tick_marks, range(num_digits))\n",
    "    plt.yticks(tick_marks, range(num_digits))\n",
    "    plt.xlabel('Predicted')\n",
    "    plt.ylabel('True')\n",
    "    #plt.tight_layout()\n",
    "\n",
    "    width, height = cm.shape\n",
    "    \n",
    "    for x in range(width):\n",
    "        for y in range(height):\n",
    "            plt.annotate(str(cm[x][y]), xy=(y, x), \n",
    "                        horizontalalignment='center',\n",
    "                        verticalalignment='center')\n",
    "    plt.savefig(\"CM_10000b.png\", bbox_inches='tight')\n",
    "\n",
    "    plt.show()"
   ]
  },
  {
   "cell_type": "code",
   "execution_count": 15,
   "metadata": {
    "collapsed": false
   },
   "outputs": [
    {
     "name": "stdout",
     "output_type": "stream",
     "text": [
      "Restored values:\n",
      "\n",
      "Training Accuracy: 100.0% \n",
      "\n",
      "Test Accuracy: 97.9% \n",
      "\n"
     ]
    },
    {
     "data": {
      "image/png": "[encoded data removed]",
      "text/plain": [
       "<matplotlib.figure.Figure at 0x1ccb6b95128>"
      ]
     },
     "metadata": {},
     "output_type": "display_data"
    }
   ],
   "source": [
    "#defined the actual digits of labels again\n",
    "y_true = data.test.labels\n",
    "y_true_digit = np.argmax(y_true,axis = 1)\n",
    "\n",
    "feed_dict_test = {x: data.test.images,\n",
    "                           y_label: data.test.labels}\n",
    "save_MDir = 'models/'\n",
    "save_model = os.path.join(save_MDir,'best_accuracyb')    \n",
    "saver2restore = tf.train.Saver()\n",
    "with tf.Session() as sess:\n",
    "    sess.run(tf.global_variables_initializer())\n",
    "    saver2restore.restore(sess = sess, save_path= save_model)\n",
    "    print(\"Restored values:\\n\")    \n",
    "    print_acc()\n",
    "    # find the predicted labels\n",
    "    y_pred = sess.run(y_pred_digit, feed_dict = feed_dict_test)\n",
    "\n",
    "    # get the confusion matrix\n",
    "    conf_mat = confusion_matrix( y_true_digit,\n",
    "                             y_pred)\n",
    "    digits = np.array([np.linspace(0,9,10)])\n",
    "    plot_confusion_matrix(conf_mat, digits)"
   ]
  },
  {
   "cell_type": "markdown",
   "metadata": {
    "collapsed": true
   },
   "source": [
    "If an error appears, please restart the kernel and run all cells again."
   ]
  },
  {
   "cell_type": "code",
   "execution_count": null,
   "metadata": {
    "collapsed": true
   },
   "outputs": [],
   "source": []
  }
 ],
 "metadata": {
  "anaconda-cloud": {},
  "kernelspec": {
   "display_name": "Python [conda root]",
   "language": "python",
   "name": "conda-root-py"
  },
  "language_info": {
   "codemirror_mode": {
    "name": "ipython",
    "version": 3
   },
   "file_extension": ".py",
   "mimetype": "text/x-python",
   "name": "python",
   "nbconvert_exporter": "python",
   "pygments_lexer": "ipython3",
   "version": "3.5.2"
  }
 },
 "nbformat": 4,
 "nbformat_minor": 1
}
