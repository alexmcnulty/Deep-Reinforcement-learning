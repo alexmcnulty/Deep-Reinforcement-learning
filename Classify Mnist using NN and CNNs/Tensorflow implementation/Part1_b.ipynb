{
 "cells": [
  {
   "cell_type": "markdown",
   "metadata": {},
   "source": [
    "# Part (b)\n",
    "In this part a hidden layer is introduced with ReLU non-linearity followed by a linear layer and softmax."
   ]
  },
  {
   "cell_type": "code",
   "execution_count": 1,
   "metadata": {
    "collapsed": true
   },
   "outputs": [],
   "source": [
    "# Need to excute this line first\n",
    "import numpy as np\n",
    "import tensorflow as tf\n",
    "import matplotlib.pyplot as plt \n",
    "from sklearn.metrics import confusion_matrix\n",
    "import os"
   ]
  },
  {
   "cell_type": "code",
   "execution_count": 2,
   "metadata": {
    "collapsed": false
   },
   "outputs": [
    {
     "name": "stdout",
     "output_type": "stream",
     "text": [
      "Extracting data/MNIST/train-images-idx3-ubyte.gz\n",
      "Extracting data/MNIST/train-labels-idx1-ubyte.gz\n",
      "Extracting data/MNIST/t10k-images-idx3-ubyte.gz\n",
      "Extracting data/MNIST/t10k-labels-idx1-ubyte.gz\n"
     ]
    }
   ],
   "source": [
    "# Need to load the MNist data to work with\n",
    "from tensorflow.examples.tutorials.mnist import input_data\n",
    "data = input_data.read_data_sets(\"data/MNIST/\", one_hot=True)\n",
    "# one hot true gives the y labels as vectors with 1's which correspond to the number it is"
   ]
  },
  {
   "cell_type": "markdown",
   "metadata": {},
   "source": [
    "### Data dimenions"
   ]
  },
  {
   "cell_type": "code",
   "execution_count": 3,
   "metadata": {
    "collapsed": true
   },
   "outputs": [],
   "source": [
    "im_size = 28\n",
    "im_flat = im_size**2\n",
    "\n",
    "# Also have a dimsension of 10 for the one hot vectors.\n",
    "num_digits = 10"
   ]
  },
  {
   "cell_type": "markdown",
   "metadata": {},
   "source": [
    "### Placeholders for data"
   ]
  },
  {
   "cell_type": "code",
   "execution_count": 4,
   "metadata": {
    "collapsed": false
   },
   "outputs": [],
   "source": [
    "# need placeholders for the inputs to train, x, and the true labels\n",
    "x = tf.placeholder( tf.float32, shape =[None, im_flat])\n",
    "# None is used as it the number of images to be used is not yet defined\n",
    "# possible to pass throught any size data, with 784 features(pixels)\n",
    "\n",
    "# Create a placeholder for the y labels\n",
    "y_label = tf.placeholder( tf.float32, shape = [None, num_digits])\n",
    "\n",
    "# Since y_labels are one hot vectors, get the actual digit label.\n",
    "y_digit = tf.argmax(y_label, dimension = 1)\n"
   ]
  },
  {
   "cell_type": "markdown",
   "metadata": {},
   "source": [
    "### Variables\n",
    "Using functions enable us to create a fully connected layer easily later on so changing shape of the different weight and bias variables is done here."
   ]
  },
  {
   "cell_type": "code",
   "execution_count": 5,
   "metadata": {
    "collapsed": true
   },
   "outputs": [],
   "source": [
    "# Need to define Variables that will be optimized\n",
    "\n",
    "# The Dimensionality of the weight vector to be able to multiply with \n",
    "# x and won't havr\n",
    "def W(shape):\n",
    "    return tf.Variable(tf.truncated_normal(shape, stddev=0.05))\n",
    "    #return tf.Variable(tf.zeros(shape))\n",
    "    \n",
    "    \n",
    "def b(length):\n",
    "    return tf.Variable(tf.constant(0.05, shape=[length]))\n",
    "    #return tf.Variable(tf.zeros(length))"
   ]
  },
  {
   "cell_type": "markdown",
   "metadata": {},
   "source": [
    "## Fully connected layer.\n",
    "This function takes an input, initialy $\\bf{X}$, then the output of then non linear layer. The number of inputs is the flatend pixels, and then 128 units for the second layer. Since we know how many units we want, we can specify that too, initially 128 units, then 10 classes. Since we have a ReLU in the hidden layer and only a linear layer in the second, the ReLU argument allows us to implement an activation if we like. \n"
   ]
  },
  {
   "cell_type": "code",
   "execution_count": 6,
   "metadata": {
    "collapsed": true
   },
   "outputs": [],
   "source": [
    "def fc_layer(input, num_inputs, num_outputs,use_relu=True):       \n",
    "    # The previous layer, Num. inputs from prev. layer, Num. outputs.\n",
    "    # Use ReLU?\n",
    "\n",
    "    # Create new weights and biases.\n",
    "    weights = W(shape=[num_inputs, num_outputs])\n",
    "    biases = b(length=num_outputs)\n",
    "\n",
    "    # Do the linear layer by simply doing matrix multiplication\n",
    "    # and adding the bias terms.\n",
    "    layer = tf.matmul(input, weights) + biases\n",
    "\n",
    "    # Use ReLU?\n",
    "    if use_relu:\n",
    "        layer = tf.nn.relu(layer)\n",
    "\n",
    "    return layer"
   ]
  },
  {
   "cell_type": "markdown",
   "metadata": {},
   "source": [
    "### Non Linear layer.\n",
    "Takes in $\\bf{X}$ as its input , applies linear transformation followed by ReLU activation and outputs 128 units."
   ]
  },
  {
   "cell_type": "code",
   "execution_count": 7,
   "metadata": {
    "collapsed": false
   },
   "outputs": [],
   "source": [
    "layer_fc1 = fc_layer(input=x,\n",
    "                         num_inputs=im_flat,\n",
    "                         num_outputs=128,\n",
    "                         use_relu=True)"
   ]
  },
  {
   "cell_type": "markdown",
   "metadata": {},
   "source": [
    "### Linear layer\n",
    "A linear transformation is applied to the output from the nonlinear layer, note that no activation is used here "
   ]
  },
  {
   "cell_type": "code",
   "execution_count": 8,
   "metadata": {
    "collapsed": true
   },
   "outputs": [],
   "source": [
    "layer_fc2 = fc_layer(input=layer_fc1,\n",
    "                         num_inputs=128,\n",
    "                         num_outputs=num_digits,\n",
    "                         use_relu=False)"
   ]
  },
  {
   "cell_type": "markdown",
   "metadata": {},
   "source": [
    "### Softmax layer\n",
    "Softmax is applied to the output from the second layer"
   ]
  },
  {
   "cell_type": "code",
   "execution_count": 9,
   "metadata": {
    "collapsed": true
   },
   "outputs": [],
   "source": [
    "# Do softmax\n",
    "y_pred_label= tf.nn.softmax(layer_fc2)\n",
    "\n",
    "# Get the digit\n",
    "y_pred_digit = tf.argmax(y_pred_label, dimension = 1)"
   ]
  },
  {
   "cell_type": "markdown",
   "metadata": {},
   "source": [
    "### Cross-entropy \n",
    "This is applied to the output of the linear layer since the softmax calculation is calculated in the cross-entopy term."
   ]
  },
  {
   "cell_type": "code",
   "execution_count": 10,
   "metadata": {
    "collapsed": true
   },
   "outputs": [],
   "source": [
    "# As advised in the CW, the Xent loss function is used\n",
    "# Xent function in TesorFlow actually takes care of the soft max\n",
    "# layer when it takes its inputs, so will use the linear layer ouput\n",
    "# as the input\n",
    "\n",
    "Xent = tf.nn.softmax_cross_entropy_with_logits(logits = layer_fc2, labels = y_label)"
   ]
  },
  {
   "cell_type": "code",
   "execution_count": 11,
   "metadata": {
    "collapsed": true
   },
   "outputs": [],
   "source": [
    "# Need to take the average over the images for each classification\n",
    "cost = tf.reduce_mean(Xent)"
   ]
  },
  {
   "cell_type": "markdown",
   "metadata": {},
   "source": [
    "### Optimizer object\n",
    "Use gradient descent to optimize the cost. The stochastic part comes from using randfom batches."
   ]
  },
  {
   "cell_type": "code",
   "execution_count": 12,
   "metadata": {
    "collapsed": true
   },
   "outputs": [],
   "source": [
    "# The object is created to pass the cost function through\n",
    "# The stocastic process comes from using small batch samples\n",
    "optimizer = tf.train.GradientDescentOptimizer(learning_rate = 0.5).minimize(cost)"
   ]
  },
  {
   "cell_type": "code",
   "execution_count": 13,
   "metadata": {
    "collapsed": true
   },
   "outputs": [],
   "source": [
    "# create a boolean of correct labels and take the average to \n",
    "# get the percentage of correctly available\n",
    "correct_label = tf.equal(y_digit,y_pred_digit)\n",
    "\n",
    "# cast is used to convert the data type to a float \n",
    "accuracy = tf.reduce_mean(tf.cast(correct_label, tf.float32))"
   ]
  },
  {
   "cell_type": "markdown",
   "metadata": {},
   "source": [
    "### Optimizer function.\n",
    "This function runs the optimization for as many iterations as inputed. The batch size is predefined."
   ]
  },
  {
   "cell_type": "code",
   "execution_count": 14,
   "metadata": {
    "collapsed": false
   },
   "outputs": [],
   "source": [
    "count = 0\n",
    "feed_dict_test = {x: data.test.images,\n",
    "                           y_label: data.test.labels}\n",
    "\n",
    "def optimize(iters,print_num):\n",
    "    \n",
    "    global count\n",
    "    freq = iters/print_num\n",
    "    train_acc =[]\n",
    "    train_loss = []\n",
    "    test_acc = []\n",
    "    test_loss =[]\n",
    "    length = np.linspace(1,iters,print_num)\n",
    "    for i in range(iters):\n",
    "        \n",
    "        # Get the batch images, x, and labels,y.\n",
    "        x_batch, y_batch = data.train.next_batch(batch_size)\n",
    "\n",
    "        # need a dictionary which feeds the batches into the \n",
    "        # placeholder values\n",
    "        train_dict = {x: x_batch,y_label: y_batch}\n",
    "        \n",
    "        sess.run(optimizer,feed_dict = train_dict)\n",
    "        # after each 100 iterations calculater the train error\n",
    "        if i % freq ==0:\n",
    "            \n",
    "            # Calculate accuracy of the train error\n",
    "            accuracy_train = sess.run(accuracy,feed_dict=train_dict)\n",
    "            loss_train = sess.run(cost,feed_dict=train_dict)\n",
    "            train_acc.append(accuracy_train)\n",
    "            train_loss.append(loss_train)\n",
    "            \n",
    "            accuracy_test = sess.run(accuracy,feed_dict=feed_dict_test)\n",
    "            loss_test = sess.run(cost,feed_dict=feed_dict_test)\n",
    "            test_acc.append(accuracy_test)\n",
    "            test_loss.append(loss_test)\n",
    "            \n",
    "            print(\"iteration:{0:>6}, \\t\\t Train Accuracy:{1:6.1%}\\n\".format(1+i, accuracy_train))\n",
    "            print(\"\\t\\t \\t\\t Test Accuracy:{1:6.1%}\\n\".format(1+i, accuracy_test))\n",
    "            \n",
    "    return(train_acc,test_acc,length,train_loss,test_loss)        \n",
    "count += count "
   ]
  },
  {
   "cell_type": "markdown",
   "metadata": {},
   "source": [
    "### Saving the Model"
   ]
  },
  {
   "cell_type": "code",
   "execution_count": 15,
   "metadata": {
    "collapsed": true
   },
   "outputs": [],
   "source": [
    "# Need to save the model, weights and biases varibles\n",
    "saver = tf.train.Saver()\n",
    "\n",
    "# Suggested Directory to use\n",
    "save_MDir = 'models/'\n",
    "\n",
    "\n",
    "#create the directory if it does not exist already\n",
    "if not os.path.exists(save_MDir):\n",
    "    os.makedirs(save_MDir)\n",
    "\n",
    "save_model = os.path.join(save_MDir,'best_accuracyb')    "
   ]
  },
  {
   "cell_type": "markdown",
   "metadata": {},
   "source": [
    "### Run Session"
   ]
  },
  {
   "cell_type": "code",
   "execution_count": 16,
   "metadata": {
    "collapsed": true
   },
   "outputs": [],
   "source": [
    "sess = tf.Session()"
   ]
  },
  {
   "cell_type": "code",
   "execution_count": 17,
   "metadata": {
    "collapsed": true
   },
   "outputs": [],
   "source": [
    "sess.run(tf.global_variables_initializer())\n",
    "# need to start up the variables"
   ]
  },
  {
   "cell_type": "code",
   "execution_count": 18,
   "metadata": {
    "collapsed": true
   },
   "outputs": [],
   "source": [
    "batch_size = 500"
   ]
  },
  {
   "cell_type": "code",
   "execution_count": 19,
   "metadata": {
    "collapsed": false
   },
   "outputs": [],
   "source": [
    "# Allocate an array for the predicted classes which\n",
    "# will be calculated in batches and filled into this array.\n",
    "\n",
    "\n",
    "# Need to create test dictionary set\n",
    "test_dict = {x: data.test.images, y_label: data.test.labels}\n"
   ]
  },
  {
   "cell_type": "markdown",
   "metadata": {},
   "source": [
    "### Accuracy"
   ]
  },
  {
   "cell_type": "code",
   "execution_count": 20,
   "metadata": {
    "collapsed": false
   },
   "outputs": [],
   "source": [
    "\n",
    "def print_acc():\n",
    "    train_dict = {x: data.train.images, y_label: data.train.labels}\n",
    "    test_dict = {x: data.test.images, y_label: data.test.labels}\n",
    "    acc_train = sess.run(accuracy,feed_dict = train_dict)\n",
    "    acc_test  = sess.run(accuracy,feed_dict = test_dict)\n",
    "    \n",
    "    print(\"Training Accuracy: {0:.1%} \\n\".format(acc_train))\n",
    "    print(\"Test Accuracy: {0:.1%} \\n\".format(acc_test))"
   ]
  },
  {
   "cell_type": "code",
   "execution_count": 21,
   "metadata": {
    "collapsed": false
   },
   "outputs": [
    {
     "name": "stdout",
     "output_type": "stream",
     "text": [
      "Training Accuracy: 9.6% \n",
      "\n",
      "Test Accuracy: 9.6% \n",
      "\n"
     ]
    }
   ],
   "source": [
    "print_acc()"
   ]
  },
  {
   "cell_type": "markdown",
   "metadata": {},
   "source": [
    "### 10 iterations"
   ]
  },
  {
   "cell_type": "code",
   "execution_count": 22,
   "metadata": {
    "collapsed": false
   },
   "outputs": [
    {
     "name": "stdout",
     "output_type": "stream",
     "text": [
      "iteration:     1, \t\t Train Accuracy: 36.0%\n",
      "\n",
      "\t\t \t\t Test Accuracy: 30.5%\n",
      "\n",
      "iteration:     2, \t\t Train Accuracy: 55.0%\n",
      "\n",
      "\t\t \t\t Test Accuracy: 46.0%\n",
      "\n",
      "iteration:     3, \t\t Train Accuracy: 73.6%\n",
      "\n",
      "\t\t \t\t Test Accuracy: 66.5%\n",
      "\n",
      "iteration:     4, \t\t Train Accuracy: 68.4%\n",
      "\n",
      "\t\t \t\t Test Accuracy: 65.9%\n",
      "\n",
      "iteration:     5, \t\t Train Accuracy: 67.8%\n",
      "\n",
      "\t\t \t\t Test Accuracy: 68.7%\n",
      "\n",
      "iteration:     6, \t\t Train Accuracy: 72.0%\n",
      "\n",
      "\t\t \t\t Test Accuracy: 70.1%\n",
      "\n",
      "iteration:     7, \t\t Train Accuracy: 67.4%\n",
      "\n",
      "\t\t \t\t Test Accuracy: 65.4%\n",
      "\n",
      "iteration:     8, \t\t Train Accuracy: 56.8%\n",
      "\n",
      "\t\t \t\t Test Accuracy: 57.5%\n",
      "\n",
      "iteration:     9, \t\t Train Accuracy: 64.0%\n",
      "\n",
      "\t\t \t\t Test Accuracy: 57.4%\n",
      "\n",
      "iteration:    10, \t\t Train Accuracy: 68.8%\n",
      "\n",
      "\t\t \t\t Test Accuracy: 65.9%\n",
      "\n",
      "Training Accuracy: 64.8% \n",
      "\n",
      "Test Accuracy: 65.9% \n",
      "\n"
     ]
    }
   ],
   "source": [
    "[train_acc10,test_acc10,length10,train_loss10,test_loss10] = optimize(iters = 10,print_num = 10)\n",
    "print_acc()"
   ]
  },
  {
   "cell_type": "markdown",
   "metadata": {},
   "source": [
    "### Accuracy Plot"
   ]
  },
  {
   "cell_type": "code",
   "execution_count": 23,
   "metadata": {
    "collapsed": false
   },
   "outputs": [
    {
     "data": {
      "image/png": "[encoded data removed]",
      "text/plain": [
       "<matplotlib.figure.Figure at 0x1f86dbe0d30>"
      ]
     },
     "metadata": {},
     "output_type": "display_data"
    }
   ],
   "source": [
    "plt.title('Training/ Test Accuracy after 10 Iterations')\n",
    "plt.xlabel('Iterations')\n",
    "plt.ylabel('Accuracy')\n",
    "\n",
    "plt.grid(True)\n",
    "plt.plot(length10,train_acc10,color=\"red\", label=\"Training Accuracy\")\n",
    "plt.plot(length10,test_acc10,color=\"blue\", label=\"Test Accuracy\")\n",
    "\n",
    "plt.legend( loc='lower right')\n",
    "plt.savefig(\"Accuracy_10b.png\", bbox_inches='tight')\n",
    "plt.show()"
   ]
  },
  {
   "cell_type": "markdown",
   "metadata": {},
   "source": [
    "### Loss plot"
   ]
  },
  {
   "cell_type": "code",
   "execution_count": 24,
   "metadata": {
    "collapsed": false
   },
   "outputs": [
    {
     "data": {
      "image/png": "[encoded data removed]",
      "text/plain": [
       "<matplotlib.figure.Figure at 0x1f80a4c9128>"
      ]
     },
     "metadata": {},
     "output_type": "display_data"
    }
   ],
   "source": [
    "plt.title('Training/ Test Loss after 10 Iterations')\n",
    "plt.xlabel('Iterations')\n",
    "plt.ylabel('Loss')\n",
    "\n",
    "plt.grid(True)\n",
    "plt.plot(length10,train_loss10,color=\"red\", label=\"Training Loss\")\n",
    "plt.plot(length10,test_loss10,color=\"blue\", label=\"Test Loss\")\n",
    "\n",
    "plt.legend( loc='upper right')\n",
    "plt.savefig(\"Loss_10b.png\", bbox_inches='tight')\n",
    "plt.show()"
   ]
  },
  {
   "cell_type": "code",
   "execution_count": 25,
   "metadata": {
    "collapsed": true
   },
   "outputs": [],
   "source": [
    "sess.run(tf.global_variables_initializer())"
   ]
  },
  {
   "cell_type": "markdown",
   "metadata": {},
   "source": [
    "### 10,000 iterations"
   ]
  },
  {
   "cell_type": "code",
   "execution_count": 26,
   "metadata": {
    "collapsed": false
   },
   "outputs": [
    {
     "name": "stdout",
     "output_type": "stream",
     "text": [
      "iteration:     1, \t\t Train Accuracy: 50.4%\n",
      "\n",
      "\t\t \t\t Test Accuracy: 42.1%\n",
      "\n",
      "iteration:   201, \t\t Train Accuracy: 94.6%\n",
      "\n",
      "\t\t \t\t Test Accuracy: 93.5%\n",
      "\n",
      "iteration:   401, \t\t Train Accuracy: 95.8%\n",
      "\n",
      "\t\t \t\t Test Accuracy: 95.2%\n",
      "\n",
      "iteration:   601, \t\t Train Accuracy: 98.4%\n",
      "\n",
      "\t\t \t\t Test Accuracy: 96.0%\n",
      "\n",
      "iteration:   801, \t\t Train Accuracy: 98.6%\n",
      "\n",
      "\t\t \t\t Test Accuracy: 96.7%\n",
      "\n",
      "iteration:  1001, \t\t Train Accuracy: 97.8%\n",
      "\n",
      "\t\t \t\t Test Accuracy: 97.0%\n",
      "\n",
      "iteration:  1201, \t\t Train Accuracy: 98.6%\n",
      "\n",
      "\t\t \t\t Test Accuracy: 97.1%\n",
      "\n",
      "iteration:  1401, \t\t Train Accuracy: 99.2%\n",
      "\n",
      "\t\t \t\t Test Accuracy: 97.4%\n",
      "\n",
      "iteration:  1601, \t\t Train Accuracy: 99.8%\n",
      "\n",
      "\t\t \t\t Test Accuracy: 97.5%\n",
      "\n",
      "iteration:  1801, \t\t Train Accuracy: 99.8%\n",
      "\n",
      "\t\t \t\t Test Accuracy: 97.7%\n",
      "\n",
      "iteration:  2001, \t\t Train Accuracy:100.0%\n",
      "\n",
      "\t\t \t\t Test Accuracy: 97.7%\n",
      "\n",
      "iteration:  2201, \t\t Train Accuracy:100.0%\n",
      "\n",
      "\t\t \t\t Test Accuracy: 97.8%\n",
      "\n",
      "iteration:  2401, \t\t Train Accuracy: 99.2%\n",
      "\n",
      "\t\t \t\t Test Accuracy: 97.7%\n",
      "\n",
      "iteration:  2601, \t\t Train Accuracy: 99.4%\n",
      "\n",
      "\t\t \t\t Test Accuracy: 97.8%\n",
      "\n",
      "iteration:  2801, \t\t Train Accuracy: 99.8%\n",
      "\n",
      "\t\t \t\t Test Accuracy: 97.8%\n",
      "\n",
      "iteration:  3001, \t\t Train Accuracy: 99.4%\n",
      "\n",
      "\t\t \t\t Test Accuracy: 97.8%\n",
      "\n",
      "iteration:  3201, \t\t Train Accuracy: 99.6%\n",
      "\n",
      "\t\t \t\t Test Accuracy: 97.7%\n",
      "\n",
      "iteration:  3401, \t\t Train Accuracy:100.0%\n",
      "\n",
      "\t\t \t\t Test Accuracy: 97.9%\n",
      "\n",
      "iteration:  3601, \t\t Train Accuracy:100.0%\n",
      "\n",
      "\t\t \t\t Test Accuracy: 97.8%\n",
      "\n",
      "iteration:  3801, \t\t Train Accuracy:100.0%\n",
      "\n",
      "\t\t \t\t Test Accuracy: 97.9%\n",
      "\n",
      "iteration:  4001, \t\t Train Accuracy:100.0%\n",
      "\n",
      "\t\t \t\t Test Accuracy: 97.9%\n",
      "\n",
      "iteration:  4201, \t\t Train Accuracy: 99.8%\n",
      "\n",
      "\t\t \t\t Test Accuracy: 97.8%\n",
      "\n",
      "iteration:  4401, \t\t Train Accuracy: 99.8%\n",
      "\n",
      "\t\t \t\t Test Accuracy: 97.8%\n",
      "\n",
      "iteration:  4601, \t\t Train Accuracy: 99.8%\n",
      "\n",
      "\t\t \t\t Test Accuracy: 97.9%\n",
      "\n",
      "iteration:  4801, \t\t Train Accuracy:100.0%\n",
      "\n",
      "\t\t \t\t Test Accuracy: 97.9%\n",
      "\n",
      "iteration:  5001, \t\t Train Accuracy: 99.8%\n",
      "\n",
      "\t\t \t\t Test Accuracy: 97.8%\n",
      "\n",
      "iteration:  5201, \t\t Train Accuracy:100.0%\n",
      "\n",
      "\t\t \t\t Test Accuracy: 97.9%\n",
      "\n",
      "iteration:  5401, \t\t Train Accuracy: 99.8%\n",
      "\n",
      "\t\t \t\t Test Accuracy: 97.9%\n",
      "\n",
      "iteration:  5601, \t\t Train Accuracy:100.0%\n",
      "\n",
      "\t\t \t\t Test Accuracy: 97.9%\n",
      "\n",
      "iteration:  5801, \t\t Train Accuracy:100.0%\n",
      "\n",
      "\t\t \t\t Test Accuracy: 97.9%\n",
      "\n",
      "iteration:  6001, \t\t Train Accuracy:100.0%\n",
      "\n",
      "\t\t \t\t Test Accuracy: 97.8%\n",
      "\n",
      "iteration:  6201, \t\t Train Accuracy:100.0%\n",
      "\n",
      "\t\t \t\t Test Accuracy: 97.9%\n",
      "\n",
      "iteration:  6401, \t\t Train Accuracy:100.0%\n",
      "\n",
      "\t\t \t\t Test Accuracy: 97.9%\n",
      "\n",
      "iteration:  6601, \t\t Train Accuracy:100.0%\n",
      "\n",
      "\t\t \t\t Test Accuracy: 98.0%\n",
      "\n",
      "iteration:  6801, \t\t Train Accuracy:100.0%\n",
      "\n",
      "\t\t \t\t Test Accuracy: 98.0%\n",
      "\n",
      "iteration:  7001, \t\t Train Accuracy:100.0%\n",
      "\n",
      "\t\t \t\t Test Accuracy: 97.9%\n",
      "\n",
      "iteration:  7201, \t\t Train Accuracy:100.0%\n",
      "\n",
      "\t\t \t\t Test Accuracy: 97.9%\n",
      "\n",
      "iteration:  7401, \t\t Train Accuracy:100.0%\n",
      "\n",
      "\t\t \t\t Test Accuracy: 98.0%\n",
      "\n",
      "iteration:  7601, \t\t Train Accuracy:100.0%\n",
      "\n",
      "\t\t \t\t Test Accuracy: 98.0%\n",
      "\n",
      "iteration:  7801, \t\t Train Accuracy:100.0%\n",
      "\n",
      "\t\t \t\t Test Accuracy: 97.9%\n",
      "\n",
      "iteration:  8001, \t\t Train Accuracy:100.0%\n",
      "\n",
      "\t\t \t\t Test Accuracy: 98.0%\n",
      "\n",
      "iteration:  8201, \t\t Train Accuracy:100.0%\n",
      "\n",
      "\t\t \t\t Test Accuracy: 97.9%\n",
      "\n",
      "iteration:  8401, \t\t Train Accuracy:100.0%\n",
      "\n",
      "\t\t \t\t Test Accuracy: 98.0%\n",
      "\n",
      "iteration:  8601, \t\t Train Accuracy:100.0%\n",
      "\n",
      "\t\t \t\t Test Accuracy: 97.9%\n",
      "\n",
      "iteration:  8801, \t\t Train Accuracy:100.0%\n",
      "\n",
      "\t\t \t\t Test Accuracy: 98.0%\n",
      "\n",
      "iteration:  9001, \t\t Train Accuracy:100.0%\n",
      "\n",
      "\t\t \t\t Test Accuracy: 98.0%\n",
      "\n",
      "iteration:  9201, \t\t Train Accuracy:100.0%\n",
      "\n",
      "\t\t \t\t Test Accuracy: 98.0%\n",
      "\n",
      "iteration:  9401, \t\t Train Accuracy:100.0%\n",
      "\n",
      "\t\t \t\t Test Accuracy: 98.0%\n",
      "\n",
      "iteration:  9601, \t\t Train Accuracy:100.0%\n",
      "\n",
      "\t\t \t\t Test Accuracy: 97.9%\n",
      "\n",
      "iteration:  9801, \t\t Train Accuracy:100.0%\n",
      "\n",
      "\t\t \t\t Test Accuracy: 97.9%\n",
      "\n",
      "Training Accuracy: 100.0% \n",
      "\n",
      "Test Accuracy: 97.9% \n",
      "\n"
     ]
    }
   ],
   "source": [
    "[train_acc,test_acc,length,train_loss,test_loss] = optimize(iters = 10000,print_num = 50)\n",
    "print_acc()"
   ]
  },
  {
   "cell_type": "code",
   "execution_count": 27,
   "metadata": {
    "collapsed": false
   },
   "outputs": [
    {
     "data": {
      "image/png": "[encoded data removed]",
      "text/plain": [
       "<matplotlib.figure.Figure at 0x1f80a568080>"
      ]
     },
     "metadata": {},
     "output_type": "display_data"
    }
   ],
   "source": [
    "plt.title('Training/ Test accuracy after 10000 Iterations')\n",
    "plt.xlabel('Iterations')\n",
    "plt.ylabel('Accuracy')\n",
    "\n",
    "plt.grid(True)\n",
    "plt.plot(length,train_acc)\n",
    "plt.plot(length,test_acc)\n",
    "plt.plot(length,train_acc,color=\"red\", label=\"Training Accuracy\")\n",
    "fig = plt.plot(length,test_acc,color=\"blue\", label=\"Test Accuracy\")\n",
    "\n",
    "\n",
    "plt.legend( loc='lower right')\n",
    "plt.savefig(\"Accuracy_10000b.png\", bbox_inches='tight')\n",
    "plt.show()\n"
   ]
  },
  {
   "cell_type": "code",
   "execution_count": 28,
   "metadata": {
    "collapsed": false
   },
   "outputs": [
    {
     "data": {
      "image/png": "[encoded data removed]",
      "text/plain": [
       "<matplotlib.figure.Figure at 0x1f80a565e48>"
      ]
     },
     "metadata": {},
     "output_type": "display_data"
    }
   ],
   "source": [
    "plt.title('Training/ Test loss after 10000 Iterations')\n",
    "plt.xlabel('Iterations')\n",
    "plt.ylabel('loss')\n",
    "\n",
    "plt.grid(True)\n",
    "plt.plot(length,train_loss)\n",
    "plt.plot(length,test_loss)\n",
    "plt.plot(length,train_loss,color=\"red\", label=\"Training loss\")\n",
    "plt.plot(length,test_loss,color=\"blue\", label=\"Test loss\")\n",
    "plt.legend( loc='upper right')\n",
    "plt.savefig(\"Loss_10000b.png\", bbox_inches='tight')\n",
    "plt.show()"
   ]
  },
  {
   "cell_type": "markdown",
   "metadata": {},
   "source": [
    "### Confusion Matrix"
   ]
  },
  {
   "cell_type": "code",
   "execution_count": 29,
   "metadata": {
    "collapsed": false
   },
   "outputs": [
    {
     "name": "stdout",
     "output_type": "stream",
     "text": [
      "[[ 969    0    2    0    2    1    2    2    2    0]\n",
      " [   0 1126    2    1    0    1    2    1    2    0]\n",
      " [   3    3 1009    3    2    0    1    6    5    0]\n",
      " [   0    1    4  992    0    3    0    2    4    4]\n",
      " [   1    0    3    0  967    0    1    4    2    4]\n",
      " [   2    0    0   11    2  860    7    1    6    3]\n",
      " [   5    4    1    1    5    3  939    0    0    0]\n",
      " [   0    2    8    5    1    0    0 1003    3    6]\n",
      " [   3    0    3    5    3    2    3    4  949    2]\n",
      " [   3    2    1    7   10    0    0    4    3  979]]\n"
     ]
    },
    {
     "data": {
      "image/png": "[encoded data removed]",
      "text/plain": [
       "<matplotlib.figure.Figure at 0x1f80002b128>"
      ]
     },
     "metadata": {},
     "output_type": "display_data"
    }
   ],
   "source": [
    "#defined the actual digits of labels again\n",
    "y_true = data.test.labels\n",
    "y_true_digit = np.argmax(y_true,axis = 1)\n",
    "\n",
    "feed_dict_test = {x: data.test.images,\n",
    "                           y_label: data.test.labels}\n",
    "# find the predicted labels\n",
    "y_pred = sess.run(y_pred_digit, feed_dict = feed_dict_test)\n",
    "\n",
    "# get the confusion matrix\n",
    "conf_mat = confusion_matrix( y_true_digit,\n",
    "                             y_pred)\n",
    "print(conf_mat)\n",
    "plt.imshow(conf_mat, interpolation='nearest', cmap=plt.cm.Blues)\n",
    "plt.tight_layout()\n",
    "plt.colorbar()\n",
    "tick_marks = np.arange(num_digits)\n",
    "plt.xticks(tick_marks, range(num_digits))\n",
    "plt.yticks(tick_marks, range(num_digits))\n",
    "plt.xlabel('Predicted')\n",
    "plt.ylabel('True')\n",
    "plt.savefig(\"CM_10000b.png\", bbox_inches='tight')\n",
    "plt.show()"
   ]
  },
  {
   "cell_type": "markdown",
   "metadata": {},
   "source": [
    "Here it can be seen where the digits have been misclassified. For exammple the number nine gets classified as 7 or a 4 sometimes. 7 is understandable as depending on what way people write their sevens may appear simlar to nine"
   ]
  },
  {
   "cell_type": "code",
   "execution_count": 30,
   "metadata": {
    "collapsed": false
   },
   "outputs": [
    {
     "data": {
      "text/plain": [
       "'models/best_accuracyb'"
      ]
     },
     "execution_count": 30,
     "metadata": {},
     "output_type": "execute_result"
    }
   ],
   "source": [
    "saver.save(sess= sess, save_path = save_model)"
   ]
  },
  {
   "cell_type": "code",
   "execution_count": 31,
   "metadata": {
    "collapsed": false
   },
   "outputs": [],
   "source": [
    "sess.close()"
   ]
  },
  {
   "cell_type": "code",
   "execution_count": 32,
   "metadata": {
    "collapsed": false
   },
   "outputs": [
    {
     "name": "stdout",
     "output_type": "stream",
     "text": [
      "Restored values:\n",
      "\n",
      "Weights: \t\n",
      "\n",
      " Biases:\n",
      "\n",
      "\n",
      "Training Accuracy: 100.0% \n",
      "\n",
      "Test Accuracy: 97.9% \n",
      "\n"
     ]
    }
   ],
   "source": [
    "save_MDir = 'models/'\n",
    "save_model = os.path.join(save_MDir,'best_accuracyb')    \n",
    "saver2restore = tf.train.Saver()\n",
    "with tf.Session() as sess:\n",
    "    sess.run(tf.global_variables_initializer())\n",
    "    saver2restore.restore(sess = sess, save_path= save_model)\n",
    "    print(\"Restored values:\\n\")\n",
    "    #print('Weights: \\t')\n",
    "    #print(sess.run(W))\n",
    "    \n",
    "    #print('\\n Biases:')\n",
    "    #print(sess.run(b))\n",
    "    print('\\n')\n",
    "    print_acc()"
   ]
  },
  {
   "cell_type": "markdown",
   "metadata": {},
   "source": [
    "# Run the saved model notebook to check if the accuracy is the same as in the report."
   ]
  },
  {
   "cell_type": "code",
   "execution_count": null,
   "metadata": {
    "collapsed": true
   },
   "outputs": [],
   "source": []
  }
 ],
 "metadata": {
  "anaconda-cloud": {},
  "kernelspec": {
   "display_name": "Python [default]",
   "language": "python",
   "name": "python3"
  },
  "language_info": {
   "codemirror_mode": {
    "name": "ipython",
    "version": 3
   },
   "file_extension": ".py",
   "mimetype": "text/x-python",
   "name": "python",
   "nbconvert_exporter": "python",
   "pygments_lexer": "ipython3",
   "version": "3.5.2"
  }
 },
 "nbformat": 4,
 "nbformat_minor": 1
}
