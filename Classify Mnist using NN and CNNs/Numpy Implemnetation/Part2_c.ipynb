{
 "cells": [
  {
   "cell_type": "markdown",
   "metadata": {},
   "source": [
    "# Part2:c\n",
    "In this part the first hidden layer is introduced. This means we have two weight matrices and two bias vectors that need to be caluclated. This makes the back propagation slightly more difficult, where the chain rule is applied"
   ]
  },
  {
   "cell_type": "markdown",
   "metadata": {},
   "source": [
    "#### Import Libraries\n",
    "First things first, get organised with what libraries will be used later on."
   ]
  },
  {
   "cell_type": "code",
   "execution_count": 2,
   "metadata": {
    "collapsed": true
   },
   "outputs": [],
   "source": [
    "import traceback\n",
    "import sys, os, time\n",
    "import pdb\n",
    "import random\n",
    "import numpy as np\n",
    "import pickle\n",
    "from sklearn.metrics import confusion_matrix\n",
    "import matplotlib.pyplot as plt \n"
   ]
  },
  {
   "cell_type": "markdown",
   "metadata": {},
   "source": [
    "Will be using a neural network class, so first it would be easiest to define some fucntions that will be used in the network."
   ]
  },
  {
   "cell_type": "markdown",
   "metadata": {},
   "source": [
    "## Softmax, Crossentropy and Relu.\n",
    "Softmax and Crossentropy will be to calculate the probability of the labels and the loss. Relu will be used to calculate the nonlinearity\n",
    "\n",
    "Since batches will not be used in the main function, vectors will be passed into the softmax function."
   ]
  },
  {
   "cell_type": "code",
   "execution_count": 4,
   "metadata": {
    "collapsed": true
   },
   "outputs": [],
   "source": [
    "def softmax(z):\n",
    "    \n",
    "    return np.exp(z)/np.exp(z).sum()"
   ]
  },
  {
   "cell_type": "code",
   "execution_count": 5,
   "metadata": {
    "collapsed": true
   },
   "outputs": [],
   "source": [
    "def Xent(pred,true):\n",
    "    \n",
    "    return np.dot(true.T, np.log(pred)).item()"
   ]
  },
  {
   "cell_type": "code",
   "execution_count": 6,
   "metadata": {
    "collapsed": true
   },
   "outputs": [],
   "source": [
    "def relu(z,deriv = False):\n",
    "    \n",
    "    #function that takes the argument of wheter derivative or not.\n",
    "    if deriv == False:\n",
    "        return np.maximum(z,0)\n",
    "        \n",
    "    # For the derivative: f'(x_i) = 1 if  x_i>0, 0 otherwise    \n",
    "    elif deriv == True:\n",
    "        positive =np.maximum(z,0)\n",
    "        positive_index = positive>0\n",
    "        positive[positive_index] = 1\n",
    "        return positive"
   ]
  },
  {
   "cell_type": "markdown",
   "metadata": {},
   "source": [
    "# Create a Neural Network Class\n",
    "This is where all the heavy liffting will be done. The arguments passed through will be the data, the layers, and the number of iterations."
   ]
  },
  {
   "cell_type": "code",
   "execution_count": 22,
   "metadata": {
    "collapsed": false
   },
   "outputs": [],
   "source": [
    "class network(object):\n",
    "    \n",
    "\n",
    "    def __init__(self,x_train, y_train, x_test,y_test, eta, layers, units ):\n",
    "        \n",
    "        \n",
    "        #initialize the varibles of object be\n",
    "        self.x_train = x_train\n",
    "        self.y_train = y_train\n",
    "        self.x_test = x_test\n",
    "        self.y_test = y_test\n",
    "        self.input_num = len(y_test)\n",
    "        self.eta = eta\n",
    "        self.layers = layers\n",
    "        self_num_layers = layers\n",
    "        self.units = units\n",
    "        self.train_acc =[]\n",
    "        self.train_loss = []\n",
    "        self.test_acc = []\n",
    "        self.test_loss =[]\n",
    "        self.length = np.linspace(1,len(y_train),11)\n",
    "        # Since there is now two weights and biases, it is easier to work with lists in for loops\n",
    "        \n",
    "        # Make space for weights and biases\n",
    "        \n",
    "        self.W = []\n",
    "        self.b = []\n",
    "        \n",
    "        # W_1 and b_1\n",
    "        self.W.append(np.random.normal(loc=0.0, scale=0.1, size=[self.units, 784]))\n",
    "        self.b.append(np.random.normal(loc=0.0, scale=0.1, size=[self.units, 1]))\n",
    "        \n",
    "        # W_2 and b_2\n",
    "        self.W.append(np.random.normal(loc=0.0, scale=0.1, size=[10, self.units]))\n",
    "        self.b.append(np.random.normal(loc=0.0, scale=0.1, size=[10, 1]))\n",
    "        \n",
    "        # Store values for the outputs of each layer\n",
    "        self.outputs = (self.layers+1)*[None]\n",
    "        \n",
    "        # Store values for the gradients\n",
    "        self.dLdW = self.layers*[None]\n",
    "        self.dLdb = self.layers*[None]\n",
    "    \n",
    "    # non-linear activation funcion and softmax. If the last layer, appply softmax\n",
    "    def act(self, z, layer):\n",
    "        if layer == self.layers:\n",
    "                \n",
    "            return softmax(z)\n",
    "            \n",
    "        else:\n",
    "            return relu(z, deriv=False)\n",
    "                \n",
    "    def feed_forward(self,x,y):\n",
    "        \n",
    "        x = np.reshape(x,[784,1])\n",
    "        true = np.reshape(y,[10,1])\n",
    "        \n",
    "        self.outputs[0] = x\n",
    "        for i in range(1, self.layers+1):\n",
    "            \n",
    "            # apply linear layer\n",
    "            #pdb.set_trace()\n",
    "            self.outputs[i] = np.dot(self.W[i-1],self.outputs[i-1]) + self.b[i-1]\n",
    "\n",
    "            # apply relu/ softmax\n",
    "            self.outputs[i] = self.act(self.outputs[i],i)\n",
    "        #pdb.set_trace()    \n",
    "        \n",
    "        #store the pred labels as the last layer\n",
    "        pred = self.outputs[self.layers]\n",
    "        L = Xent(pred,true)\n",
    "        \n",
    "        return[pred,true,x,L]\n",
    "\n",
    "    def back_prop(self,x,pred,true):\n",
    "        # initial gradient is given in the slides and worked out in part2 a.\n",
    "        dLdy = pred - true\n",
    "        \n",
    "        for i in range (1,-1,-1):\n",
    "            self.dLdW[i] = np.dot(dLdy,self.outputs[i].T)\n",
    "            self.dLdb[i] = dLdy\n",
    "            \n",
    "            # update the gradient for next iteration\n",
    "            # since only use dLdy twice we can apply the relu\n",
    "            # derivative as if it was there twice\n",
    "            \n",
    "            dLdy = np.dot(self.W[i].T,dLdy)\n",
    "            #pdb.set_trace()\n",
    "            dLdy = dLdy * relu(self.outputs[i],deriv = True)\n",
    "    \n",
    "    def SGD(self):\n",
    "        # Want to run through all images and update weights\n",
    "        # To do stochastic gradient descent, need to shuffle\n",
    "            \n",
    "        #dont forget to update seed in main\n",
    "        #random.seed(a=2)\n",
    "            \n",
    "        # to make sure the shuffle is the same for both x and y data\n",
    "        r = random.random()\n",
    "        random.shuffle(self.x_train,lambda:r)\n",
    "        random.shuffle(self.y_train,lambda:r)\n",
    "        freq = len(y_train)/10\n",
    "            \n",
    "        for i in range(len(y_train)):\n",
    "            #feed forward\n",
    "            [pred,true,x,L] =self.feed_forward(self.x_train[i,],self.y_train[i])\n",
    "                \n",
    "            #back_prop\n",
    "            self.back_prop(x,pred,true)\n",
    "                \n",
    "            # update gradients\n",
    "            #print(i)\n",
    "            #pdb.set_trace()\n",
    "            # apply gradient descent.\n",
    "            for j in range(0,2,1):\n",
    "                \n",
    "                self.W[j] = self.W[j]- self.eta*self.dLdW[j]\n",
    "                self.b[j] = self.b[j] -self.eta*self.dLdb[j]\n",
    "            \n",
    "            # Accuracy\n",
    "            if  i%freq == 0 or i == len(y_train)-1:\n",
    "                errors_train = 0\n",
    "                errors_test = 0\n",
    "                #pdb.set_trace()\n",
    "                # calculate the accuracy at different iterations\n",
    "                for j in range(len(y_train)):\n",
    "                    \n",
    "                    [pred_train,true_train,x_train,L_train] =self.feed_forward(self.x_train[j,],self.y_train[j])\n",
    "                    if np.argmax(pred_train) != np.argmax(true_train):\n",
    "                        errors_train += 1\n",
    "                for j in range(self.input_num):       \n",
    "                    [pred_test,true_test,x_test,L_test] =self.feed_forward(self.x_test[j,],self.y_test[j])\n",
    "                    if np.argmax(pred_test) != np.argmax(true_test):\n",
    "                        errors_test += 1   \n",
    "                \n",
    "                accuracy_train = 1-(errors_train/len(y_train))\n",
    "                self.train_acc.append(accuracy_train)\n",
    "                self.train_loss.append(-L_train)\n",
    "                \n",
    "                accuracy_test = 1- errors_test/self.input_num\n",
    "                self.test_acc.append(accuracy_test)\n",
    "                self.test_loss.append(-L_test)\n",
    "\n",
    "                print(\"iteration:{0:>6}, \\t\\t Train Accuracy:{1:6.1%}\\n\".format(1+i, 1-errors_train/len(y_train)))\n",
    "                print(\"\\t\\t \\t\\t Test Accuracy:{1:6.1%}\\n\".format(1+i, 1- errors_test/self.input_num))\n",
    "        #print(len(self.train_acc))\n",
    "        #print(len(self.test_acc))                \n",
    "        return(self.train_acc,self.test_acc,self.length,self.train_loss,self.test_loss)        "
   ]
  },
  {
   "cell_type": "markdown",
   "metadata": {},
   "source": [
    "### Import the data"
   ]
  },
  {
   "cell_type": "code",
   "execution_count": 8,
   "metadata": {
    "collapsed": false
   },
   "outputs": [
    {
     "name": "stdout",
     "output_type": "stream",
     "text": [
      "Extracting mnist_data/train-images-idx3-ubyte.gz\n",
      "Extracting mnist_data/train-labels-idx1-ubyte.gz\n",
      "Extracting mnist_data/t10k-images-idx3-ubyte.gz\n",
      "Extracting mnist_data/t10k-labels-idx1-ubyte.gz\n"
     ]
    }
   ],
   "source": [
    "# Import data\n",
    "from tensorflow.examples.tutorials.mnist import input_data\n",
    "data = input_data.read_data_sets('mnist_data/', one_hot=True)\n",
    "x_train = data.train.images\n",
    "y_train = data.train.labels\n",
    "x_test = data.test.images\n",
    "y_test = data.test.labels\n",
    "#print(x_train.shape[1])"
   ]
  },
  {
   "cell_type": "code",
   "execution_count": 9,
   "metadata": {
    "collapsed": false
   },
   "outputs": [
    {
     "name": "stdout",
     "output_type": "stream",
     "text": [
      "The size of the data that we will be working with:\n",
      "train set: 55000 \n",
      "valid set: 5000 \n",
      "test set:  10000 \n"
     ]
    }
   ],
   "source": [
    "print('The size of the data that we will be working with:')\n",
    "print('train set: {} '.format(len(y_train)))\n",
    "print('valid set: {} '.format(len(data.validation.labels)))\n",
    "print('test set:  {} '.format(len(y_test)))\n"
   ]
  },
  {
   "cell_type": "markdown",
   "metadata": {},
   "source": [
    "### Accuracy\n",
    "Same idea as part b, except need to feed forward the hidden layer this time."
   ]
  },
  {
   "cell_type": "code",
   "execution_count": 14,
   "metadata": {
    "collapsed": true
   },
   "outputs": [],
   "source": [
    "def Final_accuracy(x, labels, W,b,Train = True):\n",
    "    iters = len(labels)\n",
    "    errors = 0\n",
    "    \n",
    "    for i in range(iters):\n",
    "        xi = np.reshape(x[i,],[784,1])\n",
    "        true_label = np.reshape(labels[i], [10,1])\n",
    "        linear_1 = np.dot(W[0], xi) + b[0]\n",
    "        activation = relu(linear_1,deriv = False)\n",
    "        \n",
    "        linear_2 = np.dot(W[1],activation)+b[1]\n",
    "        y = np.argmax(softmax(linear_2))\n",
    "        if y!=np.argmax(true_label):\n",
    "            errors+=1\n",
    "    if Train == True:       \n",
    "        print(\"Train Accuracy:{1:6.1%}\\n\".format(1+i, 1- errors/iters))\n",
    "    else:print(\"Test Accuracy:{1:6.1%}\\n\".format(1+i, 1- errors/iters))    "
   ]
  },
  {
   "cell_type": "markdown",
   "metadata": {},
   "source": [
    "### Create NN object\n",
    "Create a a NN and apply SGD over all images.\n"
   ]
  },
  {
   "cell_type": "code",
   "execution_count": 23,
   "metadata": {
    "collapsed": false,
    "scrolled": true
   },
   "outputs": [
    {
     "name": "stdout",
     "output_type": "stream",
     "text": [
      "iteration:     1, \t\t Train Accuracy: 10.6%\n",
      "\n",
      "\t\t \t\t Test Accuracy: 11.0%\n",
      "\n",
      "iteration:  5501, \t\t Train Accuracy: 87.6%\n",
      "\n",
      "\t\t \t\t Test Accuracy: 88.5%\n",
      "\n",
      "iteration: 11001, \t\t Train Accuracy: 90.1%\n",
      "\n",
      "\t\t \t\t Test Accuracy: 90.7%\n",
      "\n",
      "iteration: 16501, \t\t Train Accuracy: 91.6%\n",
      "\n",
      "\t\t \t\t Test Accuracy: 91.9%\n",
      "\n",
      "iteration: 22001, \t\t Train Accuracy: 92.8%\n",
      "\n",
      "\t\t \t\t Test Accuracy: 92.9%\n",
      "\n",
      "iteration: 27501, \t\t Train Accuracy: 92.3%\n",
      "\n",
      "\t\t \t\t Test Accuracy: 92.6%\n",
      "\n",
      "iteration: 33001, \t\t Train Accuracy: 93.6%\n",
      "\n",
      "\t\t \t\t Test Accuracy: 93.7%\n",
      "\n",
      "iteration: 38501, \t\t Train Accuracy: 94.5%\n",
      "\n",
      "\t\t \t\t Test Accuracy: 94.7%\n",
      "\n",
      "iteration: 44001, \t\t Train Accuracy: 94.2%\n",
      "\n",
      "\t\t \t\t Test Accuracy: 94.1%\n",
      "\n",
      "iteration: 49501, \t\t Train Accuracy: 94.1%\n",
      "\n",
      "\t\t \t\t Test Accuracy: 94.1%\n",
      "\n",
      "iteration: 55000, \t\t Train Accuracy: 95.0%\n",
      "\n",
      "\t\t \t\t Test Accuracy: 94.9%\n",
      "\n",
      "Time taken to train was: 90.37963342666626s\n"
     ]
    }
   ],
   "source": [
    "start = time.time()\n",
    "linear_network = network(x_train,y_train,x_test,y_test,0.0075,2,128)\n",
    "\n",
    "cycle = 1\n",
    "for k in range(cycle):\n",
    "    [train_acc10,test_acc10,length10,train_loss10,test_loss10] =linear_network.SGD()\n",
    "\n",
    "Weights = linear_network.W\n",
    "biases = linear_network.b\n",
    "\n",
    "# Save weights\n",
    "with open(\"models_part2/Weights2c.pkl\", 'wb') as f:\n",
    "        pickle.dump(Weights, f, protocol=pickle.HIGHEST_PROTOCOL)\n",
    "with open(\"models_part2/Biases2c.pkl\", 'wb') as f:\n",
    "        pickle.dump(biases, f, protocol=pickle.HIGHEST_PROTOCOL)\n",
    "\n",
    "time_taken = time.time()- start\n",
    "print('Time taken to train was: {}s'.format(time_taken))"
   ]
  },
  {
   "cell_type": "code",
   "execution_count": 24,
   "metadata": {
    "collapsed": false
   },
   "outputs": [
    {
     "name": "stdout",
     "output_type": "stream",
     "text": [
      "Train Accuracy: 95.0%\n",
      "\n",
      "Test Accuracy: 94.9%\n",
      "\n"
     ]
    }
   ],
   "source": [
    "Final_accuracy(x_train,y_train, Weights,biases, Train = True)\n",
    "Final_accuracy(x_test,y_test, Weights,biases, Train = False)\n"
   ]
  },
  {
   "cell_type": "markdown",
   "metadata": {},
   "source": [
    "### Plot Accuracy and Loss"
   ]
  },
  {
   "cell_type": "code",
   "execution_count": 25,
   "metadata": {
    "collapsed": false
   },
   "outputs": [
    {
     "data": {
      "image/png": "[encoded data removed]",
      "text/plain": [
       "<matplotlib.figure.Figure at 0x261804fe400>"
      ]
     },
     "metadata": {},
     "output_type": "display_data"
    }
   ],
   "source": [
    "plt.title('Training/ Test Accuracy after 55,000 Iterations')\n",
    "plt.xlabel('Iterations')\n",
    "plt.ylabel('Accuracy')\n",
    "\n",
    "plt.grid(True)\n",
    "\n",
    "\n",
    "plt.plot(length10,train_acc10,color=\"red\", label=\"Training Accuracy\")\n",
    "plt.plot(length10,test_acc10,color=\"blue\", label=\"Test Accuracy\")\n",
    "\n",
    "plt.legend( loc='lower right')\n",
    "plt.savefig(\"Accuracy_part2c.png\", bbox_inches='tight')\n",
    "plt.show()"
   ]
  },
  {
   "cell_type": "code",
   "execution_count": 42,
   "metadata": {
    "collapsed": false
   },
   "outputs": [
    {
     "data": {
      "image/png": "[encoded data removed]",
      "text/plain": [
       "<matplotlib.figure.Figure at 0x261804ac0f0>"
      ]
     },
     "metadata": {},
     "output_type": "display_data"
    }
   ],
   "source": [
    "plt.title('Training/ Test Loss after 55,000 Iterations')\n",
    "plt.xlabel('Iterations')\n",
    "plt.ylabel('Loss')\n",
    "\n",
    "plt.grid(True)\n",
    "plt.plot(length10,train_loss10,color=\"red\", label=\"Training Loss\")\n",
    "plt.plot(length10,test_loss10,color=\"blue\", label=\"Test Loss\")\n",
    "\n",
    "plt.legend( loc='upper right')\n",
    "plt.savefig(\"Loss_part2c.png\", bbox_inches='tight')\n",
    "plt.show()\n"
   ]
  },
  {
   "cell_type": "markdown",
   "metadata": {},
   "source": [
    "### Confussion matrix "
   ]
  },
  {
   "cell_type": "code",
   "execution_count": 32,
   "metadata": {
    "collapsed": false
   },
   "outputs": [],
   "source": [
    "def compute_confusion_mat(x_data, y_data, W, b):\n",
    "    y_pred = []\n",
    "    y_true = []\n",
    "    \n",
    "    for i in range(len(y_data)):\n",
    "        x = np.reshape(x_data[i,],[784,1])\n",
    "        true = np.reshape(y_data[i],[10,1])\n",
    "        \n",
    "        #pdb.set_trace()\n",
    "        linear_trans = np.dot(W[0],x)+ b[0]\n",
    "        non_lin = relu(linear_trans, deriv = False)\n",
    "        linear_trans_2 = np.dot(W[1],non_lin) +b[1]        \n",
    "        pred = softmax(linear_trans_2)\n",
    "        y_pred.append(np.argmax(pred))\n",
    "        y_true.append(np.argmax(true))\n",
    "        \n",
    "    #db.set_trace()    \n",
    "    return confusion_matrix(np.array(y_true), np.array(y_pred))\n"
   ]
  },
  {
   "cell_type": "code",
   "execution_count": 43,
   "metadata": {
    "collapsed": false
   },
   "outputs": [
    {
     "name": "stdout",
     "output_type": "stream",
     "text": [
      "[[ 961    0    0    2    0    7    1    2    5    2]\n",
      " [   0 1092    2    4    0    0    3    1   33    0]\n",
      " [   6    2  957   17    3    1    5    7   33    1]\n",
      " [   0    0    2  976    0    9    0    6   16    1]\n",
      " [   0    0    4    2  891    2    8    1   10   64]\n",
      " [   2    2    0   17    1  848    5    0   13    4]\n",
      " [   5    3    4    1    7   11  919    1    7    0]\n",
      " [   0    7   12   13    3    2    0  944    4   43]\n",
      " [   2    0    1   14    3    5    4    3  940    2]\n",
      " [   1    2    0    7    7    3    2    5   19  963]]\n"
     ]
    },
    {
     "data": {
      "image/png": "[encoded data removed]",
      "text/plain": [
       "<matplotlib.figure.Figure at 0x261f065f588>"
      ]
     },
     "metadata": {},
     "output_type": "display_data"
    }
   ],
   "source": [
    "# Confusion matrix\n",
    "confusion_mat = compute_confusion_mat(x_test, y_test, linear_network.W, linear_network.b)\n",
    "print(confusion_mat)\n",
    "plt.imshow(confusion_mat, interpolation='nearest', cmap=plt.cm.Blues)\n",
    "plt.tight_layout()\n",
    "plt.colorbar()\n",
    "tick_marks = np.arange(10)\n",
    "plt.xticks(tick_marks, range(10))\n",
    "plt.yticks(tick_marks, range(10))\n",
    "plt.xlabel('Predicted')\n",
    "plt.ylabel('True')\n",
    "plt.savefig(\"CM_part2_c.png\", bbox_inches='tight')\n",
    "plt.show()"
   ]
  },
  {
   "cell_type": "markdown",
   "metadata": {
    "collapsed": true
   },
   "source": [
    "## Load model.\n",
    "Run this to to load the weights and biaes that will produce the final accuracy. This is to check, if you like, if the results are the same as they are in the report."
   ]
  },
  {
   "cell_type": "code",
   "execution_count": 1,
   "metadata": {
    "collapsed": true
   },
   "outputs": [],
   "source": [
    "import traceback\n",
    "import sys, os, time\n",
    "import pdb\n",
    "import random\n",
    "import numpy as np\n",
    "import pickle\n",
    "from sklearn.metrics import confusion_matrix\n",
    "import matplotlib.pyplot as plt \n"
   ]
  },
  {
   "cell_type": "code",
   "execution_count": 2,
   "metadata": {
    "collapsed": false
   },
   "outputs": [],
   "source": [
    "#Weights = np.load(\"models_part2/Weights_2b.dat\")\n",
    "#biases = np.load(\"models_part2/biases_2b.dat\")\n",
    "with open(\"models_part2/Weights2c.pkl\", 'rb') as f:\n",
    "    weights = pickle.load(f)\n",
    "with open(\"models_part2/Biases2c.pkl\", 'rb') as f:\n",
    "    biases = pickle.load(f)"
   ]
  },
  {
   "cell_type": "code",
   "execution_count": 3,
   "metadata": {
    "collapsed": false
   },
   "outputs": [
    {
     "name": "stdout",
     "output_type": "stream",
     "text": [
      "Extracting mnist_data/train-images-idx3-ubyte.gz\n",
      "Extracting mnist_data/train-labels-idx1-ubyte.gz\n",
      "Extracting mnist_data/t10k-images-idx3-ubyte.gz\n",
      "Extracting mnist_data/t10k-labels-idx1-ubyte.gz\n"
     ]
    }
   ],
   "source": [
    "# Import data\n",
    "from tensorflow.examples.tutorials.mnist import input_data\n",
    "data = input_data.read_data_sets('mnist_data/', one_hot=True)\n",
    "x_train = data.train.images\n",
    "y_train = data.train.labels\n",
    "x_test = data.test.images\n",
    "y_test = data.test.labels\n",
    "#print(x_train.shape[1])"
   ]
  },
  {
   "cell_type": "code",
   "execution_count": 4,
   "metadata": {
    "collapsed": true
   },
   "outputs": [],
   "source": [
    "def softmax(z):\n",
    "    \n",
    "    return np.exp(z)/np.exp(z).sum()"
   ]
  },
  {
   "cell_type": "code",
   "execution_count": 5,
   "metadata": {
    "collapsed": true
   },
   "outputs": [],
   "source": [
    "def relu(z,deriv = False):\n",
    "    \n",
    "    if deriv == False:\n",
    "        return np.maximum(z,0)\n",
    "        \n",
    "    # For the derivative: f'(x_i) = 1 if  x_i>0, 0 otherwise    \n",
    "    elif deriv == True:\n",
    "        positive =np.maximum(z,0)\n",
    "        positive_index = positive>0\n",
    "        positive[positive_index] = 1\n",
    "        return positive"
   ]
  },
  {
   "cell_type": "code",
   "execution_count": 6,
   "metadata": {
    "collapsed": true
   },
   "outputs": [],
   "source": [
    "def Final_accuracy(x, labels, W,b,Train = True):\n",
    "    iters = len(labels)\n",
    "    errors = 0\n",
    "    \n",
    "    for i in range(iters):\n",
    "        xi = np.reshape(x[i,],[784,1])\n",
    "        true_label = np.reshape(labels[i], [10,1])\n",
    "        linear_1 = np.dot(W[0], xi) + b[0]\n",
    "        activation = relu(linear_1,deriv = False)\n",
    "        \n",
    "        linear_2 = np.dot(W[1],activation)+b[1]\n",
    "        y = np.argmax(softmax(linear_2))\n",
    "        if y!=np.argmax(true_label):\n",
    "            errors+=1\n",
    "    if Train == True:       \n",
    "        print(\"Train Accuracy:{1:6.1%}\\n\".format(1+i, 1- errors/iters))\n",
    "    else:print(\"Test Accuracy:{1:6.1%}\\n\".format(1+i, 1- errors/iters))    "
   ]
  },
  {
   "cell_type": "code",
   "execution_count": 7,
   "metadata": {
    "collapsed": false
   },
   "outputs": [
    {
     "name": "stdout",
     "output_type": "stream",
     "text": [
      "Train Accuracy: 95.1%\n",
      "\n",
      "Test Accuracy: 94.9%\n",
      "\n"
     ]
    }
   ],
   "source": [
    "Final_accuracy(x_train,y_train, weights,biases, Train = True)\n",
    "Final_accuracy(x_test,y_test, weights,biases, Train = False)"
   ]
  },
  {
   "cell_type": "code",
   "execution_count": 11,
   "metadata": {
    "collapsed": true
   },
   "outputs": [],
   "source": [
    "def compute_confusion_mat(x_data, y_data, W, b):\n",
    "    y_pred = []\n",
    "    y_true = []\n",
    "    \n",
    "    for i in range(len(y_data)):\n",
    "        x = np.reshape(x_data[i,],[784,1])\n",
    "        true = np.reshape(y_data[i],[10,1])\n",
    "        \n",
    "        #pdb.set_trace()\n",
    "        linear_trans = np.dot(W[0],x)+ b[0]\n",
    "        non_lin = relu(linear_trans, deriv = False)\n",
    "        linear_trans_2 = np.dot(W[1],non_lin) +b[1]        \n",
    "        pred = softmax(linear_trans_2)\n",
    "        y_pred.append(np.argmax(pred))\n",
    "        y_true.append(np.argmax(true))\n",
    "        \n",
    "    #db.set_trace()    \n",
    "    return confusion_matrix(np.array(y_true), np.array(y_pred))\n"
   ]
  },
  {
   "cell_type": "code",
   "execution_count": 12,
   "metadata": {
    "collapsed": true
   },
   "outputs": [],
   "source": [
    "def plot_confusion_matrix(cm, target_names, title='Confusion matrix', cmap=plt.cm.Blues):\n",
    "    plt.imshow(conf_mat, interpolation='nearest', cmap=plt.cm.Blues)\n",
    "    plt.tight_layout()\n",
    "    plt.colorbar()\n",
    "    tick_marks = np.arange(10)\n",
    "    plt.xticks(tick_marks, range(10))\n",
    "    plt.yticks(tick_marks, range(10))\n",
    "    plt.xlabel('Predicted')\n",
    "    plt.ylabel('True')\n",
    "    #plt.tight_layout()\n",
    "\n",
    "    width, height = cm.shape\n",
    "    \n",
    "    for x in range(width):\n",
    "        for y in range(height):\n",
    "            plt.annotate(str(cm[x][y]), xy=(y, x), \n",
    "                        horizontalalignment='center',\n",
    "                        verticalalignment='center')\n",
    "    plt.savefig(\"CM_part2_c.png\", bbox_inches='tight')\n",
    "\n",
    "    plt.show()"
   ]
  },
  {
   "cell_type": "code",
   "execution_count": 13,
   "metadata": {
    "collapsed": false
   },
   "outputs": [
    {
     "data": {
      "image/png": "[encoded data removed]",
      "text/plain": [
       "<matplotlib.figure.Figure at 0x24d64ed1f98>"
      ]
     },
     "metadata": {},
     "output_type": "display_data"
    }
   ],
   "source": [
    "conf_mat = compute_confusion_mat(x_test, y_test, weights, biases)\n",
    "digits = np.array([np.linspace(0,9,10)])\n",
    "plot_confusion_matrix(conf_mat, digits)"
   ]
  },
  {
   "cell_type": "code",
   "execution_count": null,
   "metadata": {
    "collapsed": true
   },
   "outputs": [],
   "source": []
  }
 ],
 "metadata": {
  "anaconda-cloud": {},
  "kernelspec": {
   "display_name": "Python [conda root]",
   "language": "python",
   "name": "conda-root-py"
  },
  "language_info": {
   "codemirror_mode": {
    "name": "ipython",
    "version": 3
   },
   "file_extension": ".py",
   "mimetype": "text/x-python",
   "name": "python",
   "nbconvert_exporter": "python",
   "pygments_lexer": "ipython3",
   "version": "3.5.2"
  }
 },
 "nbformat": 4,
 "nbformat_minor": 1
}
